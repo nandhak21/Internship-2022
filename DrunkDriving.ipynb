{
  "cells": [
    {
      "cell_type": "markdown",
      "source": [
        "## Initialization"
      ],
      "metadata": {
        "id": "DDL4XQvfRAJi"
      }
    },
    {
      "cell_type": "markdown",
      "source": [
        "### Libraries"
      ],
      "metadata": {
        "id": "QgB2jJamRDIK"
      }
    },
    {
      "cell_type": "code",
      "source": [
        "import numpy as np\n",
        "from pandas import read_csv\n",
        "import matplotlib.pyplot as plt\n",
        "import seaborn as sns\n",
        "import scipy\n",
        "import os\n",
        "\n",
        "from sklearn.svm import SVC\n",
        "from sklearn.ensemble import RandomForestClassifier\n",
        "from sklearn.linear_model import LogisticRegression\n",
        "from sklearn.naive_bayes import GaussianNB\n",
        "from sklearn.mixture import GaussianMixture\n",
        "from sklearn.mixture import BayesianGaussianMixture\n",
        "\n",
        "from sklearn.model_selection import train_test_split\n",
        "from sklearn.model_selection import RandomizedSearchCV\n",
        "from sklearn.model_selection import cross_val_score\n",
        "from sklearn.model_selection import StratifiedKFold\n",
        "\n",
        "from sklearn.preprocessing import MinMaxScaler\n",
        "from sklearn.preprocessing import normalize\n",
        "\n",
        "from sklearn.metrics import accuracy_score\n",
        "from sklearn.metrics import classification_report\n",
        "from sklearn.metrics import plot_confusion_matrix as pcm\n",
        "from sklearn.metrics import roc_curve\n",
        "from sklearn.metrics import confusion_matrix\n",
        "\n",
        "from keras.layers import Input, Dense\n",
        "from keras.models import Model, Sequential\n",
        "from keras import regularizers\n",
        "from keras.wrappers.scikit_learn import KerasClassifier\n",
        "from sklearn.model_selection import cross_val_score\n",
        "from sklearn.model_selection import StratifiedKFold\n",
        "from tensorflow.keras.optimizers import Adam\n",
        "\n",
        "import librosa\n",
        "from librosa.feature import mfcc as mfcc\n",
        "import librosa.display\n",
        "import IPython.display as ipd\n"
      ],
      "metadata": {
        "id": "OTID20N_NAwe"
      },
      "execution_count": 22,
      "outputs": []
    },
    {
      "cell_type": "markdown",
      "source": [
        "### Mounting Google Drive"
      ],
      "metadata": {
        "id": "bjwVWNMkQ_JS"
      }
    },
    {
      "cell_type": "code",
      "source": [
        "from google.colab import drive\n",
        "drive.mount('/content/gdrive')"
      ],
      "metadata": {
        "colab": {
          "base_uri": "https://localhost:8080/"
        },
        "id": "ApFfWbnJPUc5",
        "outputId": "b28e5663-f03c-491b-a7d8-ec5c4cb7119a"
      },
      "execution_count": 23,
      "outputs": [
        {
          "output_type": "stream",
          "name": "stdout",
          "text": [
            "Drive already mounted at /content/gdrive; to attempt to forcibly remount, call drive.mount(\"/content/gdrive\", force_remount=True).\n"
          ]
        }
      ]
    },
    {
      "cell_type": "markdown",
      "metadata": {
        "id": "1Kscs8MsyrtS"
      },
      "source": [
        "## Feature Extraction"
      ]
    },
    {
      "cell_type": "markdown",
      "source": [
        "### LFCC"
      ],
      "metadata": {
        "id": "6H7hkrMAPXR4"
      }
    },
    {
      "cell_type": "code",
      "execution_count": 2,
      "metadata": {
        "id": "xQ24ThzXwTlI"
      },
      "outputs": [],
      "source": [
        "def lin(sr, n_fft, n_filter=128, fmin=0.0, fmax=None, dtype=np.float32):\n",
        "\n",
        "    if fmax is None:\n",
        "        fmax = float(sr) / 2\n",
        "    # Initialize the weights\n",
        "    n_filter = int(n_filter)\n",
        "    weights = np.zeros((n_filter, int(1 + n_fft // 2)), dtype=dtype)\n",
        "\n",
        "    # Center freqs of each FFT bin\n",
        "    fftfreqs = librosa.fft_frequencies(sr=sr, n_fft=n_fft)\n",
        "\n",
        "    # 'Center freqs' of liner bands - uniformly spaced between limits\n",
        "    linear_f = np.linspace(fmin, fmax, n_filter + 2)\n",
        "\n",
        "    fdiff = np.diff(linear_f)\n",
        "    ramps = np.subtract.outer(linear_f, fftfreqs)\n",
        "\n",
        "    for i in range(n_filter):\n",
        "        # lower and upper slopes for all bins\n",
        "        lower = -ramps[i] / fdiff[i]\n",
        "        upper = ramps[i + 2] / fdiff[i + 1]\n",
        "\n",
        "        # .. then intersect them with each other and zero\n",
        "        weights[i] = np.maximum(0, np.minimum(lower, upper))\n",
        "\n",
        "    return weights\n",
        "\n",
        "\n",
        "def linear_spec(y=None,\n",
        "                sr=22050,\n",
        "                n_fft=2048,\n",
        "                hop_length=512,\n",
        "                win_length=None,\n",
        "                window='hann',\n",
        "                center=True,\n",
        "                pad_mode='reflect',\n",
        "                power=2.0,\n",
        "                **kwargs):\n",
        "    S = np.abs(\n",
        "        librosa.core.stft(y=y,\n",
        "                          n_fft=n_fft,\n",
        "                          hop_length=hop_length,\n",
        "                          win_length=win_length,\n",
        "                          window=window,\n",
        "                          center=center,\n",
        "                          pad_mode=pad_mode))**power\n",
        "    filter = lin(sr=sr, n_fft=n_fft, **kwargs)\n",
        "    return np.dot(filter, S)\n",
        "\n",
        "\n",
        "def lfcc(y=None,\n",
        "         sr=22050,\n",
        "         S=None,\n",
        "         n_lfcc=20,\n",
        "         dct_type=2,\n",
        "         norm='ortho',\n",
        "         **kwargs):\n",
        "    if S is None:\n",
        "        S = librosa.power_to_db(linear_spec(y=y, sr=sr, **kwargs))\n",
        "    M = scipy.fftpack.dct(S, axis=0, type=dct_type, norm=norm)[:n_lfcc]\n",
        "    return M"
      ]
    },
    {
      "cell_type": "markdown",
      "source": [
        "### Feature extraction"
      ],
      "metadata": {
        "id": "a48PYi34PbXJ"
      }
    },
    {
      "cell_type": "code",
      "execution_count": 4,
      "metadata": {
        "id": "23CPNHZiZQFN"
      },
      "outputs": [],
      "source": [
        "# # assign directory\n",
        "# directory = '/content/gdrive/MyDrive/Intoxicated'\n",
        "# lfccsi = []\n",
        "# # iterate over files in\n",
        "# # that directory\n",
        "# for filename in os.listdir(directory):\n",
        "#   f = os.path.join(directory, filename)\n",
        "#   # checking if it is a file\n",
        "#   if os.path.isfile(f):\n",
        "#     y, sr = librosa.load(f)\n",
        "#     # lf = lfcc(y, sr, n_lfcc=16)\n",
        "#     lf = librosa.filters.mel(sr, n_fft= 2048, n_mels = 16)\n",
        "#     lff = np.mean(lf, axis=1)\n",
        "#     lff = np.append(lff, 1)\n",
        "#     lfccsi.append(lff)\n"
      ]
    },
    {
      "cell_type": "code",
      "execution_count": 7,
      "metadata": {
        "id": "W_ydNWBOtUAz"
      },
      "outputs": [],
      "source": [
        "# assign directory\n",
        "directory = '/content/gdrive/MyDrive/Intoxicated'\n",
        "lfccsi = []\n",
        "# iterate over files in\n",
        "# that directory\n",
        "for filename in os.listdir(directory):\n",
        "  f = os.path.join(directory, filename)\n",
        "  # checking if it is a file\n",
        "  if os.path.isfile(f):\n",
        "    y, sr = librosa.load(f)\n",
        "    # zero_crossings = librosa.zero_crossings(y, pad=False)\n",
        "    # zc = sum(zero_crossings)\n",
        "    mf = mfcc(y, sr, n_mfcc=16)\n",
        "    #mf = librosa.filters.mel(sr, n_fft=2048, n_mels = 16)\n",
        "    delta_mfc = librosa.feature.delta(mf)\n",
        "    final = np.concatenate((mf, delta_mfc))\n",
        "    final = normalize(final, axis=1)\n",
        "    final = np.mean(final, axis=1)\n",
        "    rmse = librosa.feature.rms(y=y)[0]\n",
        "    orms = np.mean(rmse)\n",
        "    fin = np.append(final, orms)\n",
        "    # fin = np.append(fin, zc)\n",
        "    fin = np.append(fin, 1)\n",
        "    lfccsi.append(fin)"
      ]
    },
    {
      "cell_type": "code",
      "execution_count": 13,
      "metadata": {
        "id": "TTwaSdRGDYG5"
      },
      "outputs": [],
      "source": [
        "# # assign directory\n",
        "# directory = '/content/gdrive/MyDrive/Sober'\n",
        "# lfccss = []\n",
        "# # iterate over files in\n",
        "# # that directory\n",
        "# for filename in os.listdir(directory):\n",
        "#   f = os.path.join(directory, filename)\n",
        "#   # checking if it is a file\n",
        "#   if os.path.isfile(f):\n",
        "#     y, sr = librosa.load(f)\n",
        "#     #lf = lfcc(y, sr, n_lfcc=16)\n",
        "#     lf = librosa.filters.mel(sr, n_fft= 2048, n_mels = 16)\n",
        "#     lff = np.mean(lf, axis=1)\n",
        "#     lff = np.append(lff, 0)\n",
        "#     lfccss.append(lff)"
      ]
    },
    {
      "cell_type": "code",
      "execution_count": 15,
      "metadata": {
        "colab": {
          "base_uri": "https://localhost:8080/"
        },
        "id": "jRStoMScMVhV",
        "outputId": "c14093a3-9b7f-4bf2-80ab-4690140bce23"
      },
      "outputs": [
        {
          "output_type": "stream",
          "name": "stderr",
          "text": [
            "/usr/local/lib/python3.7/dist-packages/librosa/core/audio.py:165: UserWarning: PySoundFile failed. Trying audioread instead.\n",
            "  warnings.warn(\"PySoundFile failed. Trying audioread instead.\")\n"
          ]
        }
      ],
      "source": [
        "# assign directory\n",
        "directory = '/content/gdrive/MyDrive/Sober'\n",
        "lfccss = []\n",
        "# iterate over files in\n",
        "# that directory\n",
        "for filename in os.listdir(directory):\n",
        "  f = os.path.join(directory, filename)\n",
        "  # checking if it is a file\n",
        "  if os.path.isfile(f):\n",
        "    y, sr = librosa.load(f)\n",
        "    # zero_crossings = librosa.zero_crossings(y, pad=False)\n",
        "    # zc = sum(zero_crossings)\n",
        "    mf = mfcc(y, sr, n_mfcc=16)\n",
        "    #mf = librosa.filters.mel(sr, n_fft=2048, n_mels = 16)\n",
        "    delta_mfc = librosa.feature.delta(mf)\n",
        "    final = np.concatenate((mf, delta_mfc))\n",
        "    final = normalize(final, axis=1)\n",
        "    final = np.mean(final, axis=1)\n",
        "    rmse = librosa.feature.rms(y=y)[0]\n",
        "    orms = np.mean(rmse)\n",
        "    fin = np.append(final, orms)\n",
        "    # fin = np.append(fin, zc)\n",
        "    fin = np.append(fin, 0)\n",
        "    lfccss.append(fin)"
      ]
    },
    {
      "cell_type": "code",
      "execution_count": 17,
      "metadata": {
        "colab": {
          "base_uri": "https://localhost:8080/"
        },
        "id": "fU27xVm0IlJ3",
        "outputId": "d82f6020-7eb1-4b3e-dba0-0f4d6cbe10fe"
      },
      "outputs": [
        {
          "output_type": "stream",
          "name": "stdout",
          "text": [
            "(840, 34)\n",
            "(840, 34)\n"
          ]
        }
      ],
      "source": [
        "lfccsi = np.array(lfccsi)\n",
        "lfccss = np.array(lfccss)\n",
        "print(lfccsi.shape)\n",
        "print(lfccss.shape)"
      ]
    },
    {
      "cell_type": "code",
      "execution_count": 18,
      "metadata": {
        "id": "2fKIWJIt--Q0"
      },
      "outputs": [],
      "source": [
        "main = np.concatenate((lfccsi, lfccss), axis=0)"
      ]
    },
    {
      "cell_type": "code",
      "execution_count": 19,
      "metadata": {
        "colab": {
          "base_uri": "https://localhost:8080/"
        },
        "id": "iK3MMxlH_YEN",
        "outputId": "c2e0b675-c165-4c38-8665-0fced7309ded"
      },
      "outputs": [
        {
          "output_type": "execute_result",
          "data": {
            "text/plain": [
              "(1680, 34)"
            ]
          },
          "metadata": {},
          "execution_count": 19
        }
      ],
      "source": [
        "main.shape"
      ]
    },
    {
      "cell_type": "markdown",
      "metadata": {
        "id": "YpIPeIGta9l_"
      },
      "source": [
        "## Neural network (GridSearch)"
      ]
    },
    {
      "cell_type": "code",
      "execution_count": null,
      "metadata": {
        "id": "CrIWtU0elJoX"
      },
      "outputs": [],
      "source": [
        "X = main[:,0:-1]\n",
        "y = main[:,-1]"
      ]
    },
    {
      "cell_type": "code",
      "execution_count": null,
      "metadata": {
        "id": "ZgLS3j_JFndp"
      },
      "outputs": [],
      "source": [
        "X_train, X_test, y_train, y_test = train_test_split(X, y, test_size=0.2)"
      ]
    },
    {
      "cell_type": "code",
      "execution_count": null,
      "metadata": {
        "colab": {
          "base_uri": "https://localhost:8080/"
        },
        "id": "1tfAhHO__ox8",
        "outputId": "49ea917e-6b36-4dfd-dea4-fd2cce24f8c9"
      },
      "outputs": [
        {
          "name": "stdout",
          "output_type": "stream",
          "text": [
            "(1680, 33)\n",
            "(1680,)\n"
          ]
        }
      ],
      "source": [
        "print(X.shape)\n",
        "print(y.shape)"
      ]
    },
    {
      "cell_type": "code",
      "execution_count": null,
      "metadata": {
        "id": "WVUqQsWibBSd"
      },
      "outputs": [],
      "source": [
        "def create_baseline(learning_rate = 0.01):\n",
        "\n",
        "  model = Sequential()\n",
        "  model.add(Dense(33, input_dim=33, activation='relu'))\n",
        "  model.add(Dense(10, activation='relu'))\n",
        "  model.add(Dense(1, activation='sigmoid'))\n",
        "\n",
        "  optimizer = Adam(learning_rate = learning_rate)\n",
        "  model.compile(loss='binary_crossentropy', optimizer=optimizer, metrics=['accuracy'])\n",
        "  return model\n"
      ]
    },
    {
      "cell_type": "code",
      "execution_count": null,
      "metadata": {
        "id": "dG9XFD5jHXAG"
      },
      "outputs": [],
      "source": [
        "#batch_size = [20, 50, 75]\n",
        "#epochs = [25, 50, 75]\n",
        "#optimizer = ['SGD', 'Adagrad','Adam', 'Adamax']\n",
        "learn_rate = [0.001, 0.01, 0.1, 0.2, 0.3]\n",
        "momentum = [0.0, 0.2, 0.4, 0.6, 0.8, 0.9]\n",
        "#activation = ['softmax', 'relu', 'tanh', 'sigmoid', 'linear']\n",
        "#weight_constraint = [1, 3, 5]\n",
        "#dropout_rate = [0.0, 0.4, 0.8]\n",
        "#neurons = [5, 10, 20]\n",
        "#hidden_layers = [1, 2, 3]\n"
      ]
    },
    {
      "cell_type": "code",
      "execution_count": null,
      "metadata": {
        "colab": {
          "base_uri": "https://localhost:8080/"
        },
        "id": "qFTUh6GVNAMl",
        "outputId": "3844f035-23e0-45cb-e5dd-5a0c84833eaf"
      },
      "outputs": [
        {
          "name": "stderr",
          "output_type": "stream",
          "text": [
            "/usr/local/lib/python3.7/dist-packages/ipykernel_launcher.py:1: DeprecationWarning: KerasClassifier is deprecated, use Sci-Keras (https://github.com/adriangb/scikeras) instead. See https://www.adriangb.com/scikeras/stable/migration.html for help migrating.\n",
            "  \"\"\"Entry point for launching an IPython kernel.\n",
            "/usr/local/lib/python3.7/dist-packages/sklearn/model_selection/_search.py:296: UserWarning: The total space of parameters 5 is smaller than n_iter=10. Running 5 iterations. For exhaustive searches, use GridSearchCV.\n",
            "  UserWarning,\n"
          ]
        }
      ],
      "source": [
        "estimator = KerasClassifier(build_fn=create_baseline, epochs=100, batch_size=5, verbose=0)\n",
        "param_grid = dict(learning_rate = learn_rate)\n",
        "grid = RandomizedSearchCV(estimator=estimator, param_distributions=param_grid, n_jobs=-1, cv=5, random_state = 42)\n",
        "grid.fit(X_train, y_train)"
      ]
    },
    {
      "cell_type": "code",
      "execution_count": null,
      "metadata": {
        "colab": {
          "base_uri": "https://localhost:8080/"
        },
        "id": "IkPmziDxndtA",
        "outputId": "95541154-d302-470f-815f-3ad0dda97cd4"
      },
      "outputs": [
        {
          "name": "stdout",
          "output_type": "stream",
          "text": [
            "{'learning_rate': 0.001}\n"
          ]
        }
      ],
      "source": [
        "print(grid.best_params_)"
      ]
    },
    {
      "cell_type": "code",
      "execution_count": null,
      "metadata": {
        "colab": {
          "base_uri": "https://localhost:8080/"
        },
        "id": "xJ95w3QIoy0P",
        "outputId": "28a48816-30bc-42ff-859d-c21776449517"
      },
      "outputs": [
        {
          "name": "stdout",
          "output_type": "stream",
          "text": [
            "              precision    recall  f1-score   support\n",
            "\n",
            "         0.0       0.78      0.89      0.83       161\n",
            "         1.0       0.89      0.77      0.83       175\n",
            "\n",
            "    accuracy                           0.83       336\n",
            "   macro avg       0.84      0.83      0.83       336\n",
            "weighted avg       0.84      0.83      0.83       336\n",
            "\n"
          ]
        }
      ],
      "source": [
        "grid_pred = grid.predict(X_test) \n",
        "   \n",
        "# print classification report\n",
        "print(classification_report(y_test, grid_pred))"
      ]
    },
    {
      "cell_type": "code",
      "execution_count": null,
      "metadata": {
        "colab": {
          "base_uri": "https://localhost:8080/"
        },
        "id": "oOxyEdULpDE1",
        "outputId": "07646e3a-86dc-4aaf-b497-c18c5392f573"
      },
      "outputs": [
        {
          "name": "stdout",
          "output_type": "stream",
          "text": [
            "Accuracy : 0.8303571428571429\n"
          ]
        }
      ],
      "source": [
        "print('Accuracy : '+str(accuracy_score(y_test, grid_pred)))"
      ]
    },
    {
      "cell_type": "markdown",
      "source": [
        "## EER"
      ],
      "metadata": {
        "id": "_2_IudiELBad"
      }
    },
    {
      "cell_type": "code",
      "source": [
        "\n",
        "\n",
        "\"\"\"\n",
        "Python compute equal error rate (eer)\n",
        "ONLY tested on binary classification\n",
        "\n",
        ":param label: ground-truth label, should be a 1-d list or np.array, each element represents the ground-truth label of one sample\n",
        ":param pred: model prediction, should be a 1-d list or np.array, each element represents the model prediction of one sample\n",
        ":param positive_label: the class that is viewed as positive class when computing EER\n",
        ":return: equal error rate (EER)\n",
        "\"\"\"\n",
        "def compute_eer(label, pred, positive_label=1):\n",
        "    # all fpr, tpr, fnr, fnr, threshold are lists (in the format of np.array)\n",
        "    fpr, tpr, threshold = roc_curve(label, pred, pos_label = positive_label)\n",
        "    fnr = 1 - tpr\n",
        "\n",
        "    # the threshold of fnr == fpr\n",
        "    eer_threshold = threshold[np.nanargmin(np.absolute((fnr - fpr)))]\n",
        "\n",
        "    # theoretically eer from fpr and eer from fnr should be identical but they can be slightly differ in reality\n",
        "    eer_1 = fpr[np.nanargmin(np.absolute((fnr - fpr)))]\n",
        "    eer_2 = fnr[np.nanargmin(np.absolute((fnr - fpr)))]\n",
        "\n",
        "    # return the mean of eer from fpr and from fnr\n",
        "    eer = (eer_1 + eer_2) / 2\n",
        "    return eer"
      ],
      "metadata": {
        "id": "lgoxqbrfK_zl"
      },
      "execution_count": 24,
      "outputs": []
    },
    {
      "cell_type": "markdown",
      "metadata": {
        "id": "0PmL258F_uZu"
      },
      "source": [
        "## Neural network"
      ]
    },
    {
      "cell_type": "code",
      "execution_count": 25,
      "metadata": {
        "id": "HWJyNAH5_wfj"
      },
      "outputs": [],
      "source": [
        "X = main[:,0:-1]\n",
        "y = main[:,-1]"
      ]
    },
    {
      "cell_type": "code",
      "execution_count": 26,
      "metadata": {
        "id": "9-sMpGpC_xf2"
      },
      "outputs": [],
      "source": [
        "X_train, X_test, y_train, y_test = train_test_split(X, y, test_size=0.2)"
      ]
    },
    {
      "cell_type": "code",
      "execution_count": 27,
      "metadata": {
        "id": "Cq4wOF3u_1V6"
      },
      "outputs": [],
      "source": [
        "# baseline model\n",
        "def create_baseline(learning_rate = 0.01):\n",
        "\t\n",
        "  model = Sequential()\n",
        "  model.add(Dense(33, input_dim=33, activation='relu'))\n",
        "  model.add(Dense(10, activation='relu'))\n",
        "  model.add(Dense(1, activation='sigmoid'))\n",
        "\t\n",
        "  optimizer = Adam(learning_rate = learning_rate)\n",
        "  model.compile(loss='binary_crossentropy', optimizer=optimizer, metrics=['accuracy'])\n",
        "  return model"
      ]
    },
    {
      "cell_type": "code",
      "execution_count": 28,
      "metadata": {
        "colab": {
          "base_uri": "https://localhost:8080/"
        },
        "id": "HDqqqqHcABnu",
        "outputId": "cc105dbf-f2ed-4c62-bd04-a77285c63538"
      },
      "outputs": [
        {
          "output_type": "stream",
          "name": "stderr",
          "text": [
            "/usr/local/lib/python3.7/dist-packages/ipykernel_launcher.py:1: DeprecationWarning: KerasClassifier is deprecated, use Sci-Keras (https://github.com/adriangb/scikeras) instead. See https://www.adriangb.com/scikeras/stable/migration.html for help migrating.\n",
            "  \"\"\"Entry point for launching an IPython kernel.\n"
          ]
        },
        {
          "output_type": "stream",
          "name": "stdout",
          "text": [
            "Baseline: 82.56% (1.40%)\n"
          ]
        }
      ],
      "source": [
        "estimator = KerasClassifier(build_fn=create_baseline, epochs=100, batch_size=5, verbose=0)\n",
        "kfold = StratifiedKFold(n_splits=5, shuffle=True)\n",
        "results = cross_val_score(estimator, X, y, cv=kfold)\n",
        "print(\"Baseline: %.2f%% (%.2f%%)\" % (results.mean()*100, results.std()*100))"
      ]
    },
    {
      "cell_type": "code",
      "execution_count": 29,
      "metadata": {
        "colab": {
          "base_uri": "https://localhost:8080/"
        },
        "id": "gni8D6BzAkh6",
        "outputId": "0efe1af1-995a-410e-b9b9-f96b8ff39557"
      },
      "outputs": [
        {
          "output_type": "stream",
          "name": "stdout",
          "text": [
            "EER:  0.16666666666666663\n"
          ]
        }
      ],
      "source": [
        "estimator.fit(X_train, y_train)\n",
        "y_pred = estimator.predict(X_test)\n",
        "eer = compute_eer(y_test, y_pred, positive_label = 1)\n",
        "print(\"EER: \", eer)"
      ]
    },
    {
      "cell_type": "code",
      "execution_count": 30,
      "metadata": {
        "colab": {
          "base_uri": "https://localhost:8080/"
        },
        "id": "o0ZXHH-8bq6V",
        "outputId": "7d6c3e11-711c-4ed4-d2bc-016885d48403"
      },
      "outputs": [
        {
          "output_type": "stream",
          "name": "stdout",
          "text": [
            "EER:  0.16666666666666663\n"
          ]
        }
      ],
      "source": [
        "eer = compute_eer(y_test, y_pred, positive_label = 1)\n",
        "print(\"EER: \", eer)"
      ]
    },
    {
      "cell_type": "code",
      "execution_count": 31,
      "metadata": {
        "colab": {
          "base_uri": "https://localhost:8080/"
        },
        "id": "rVLseGh1bjm7",
        "outputId": "f0932035-9271-4371-805f-4750b97de7e4"
      },
      "outputs": [
        {
          "output_type": "stream",
          "name": "stdout",
          "text": [
            "[[130  26]\n",
            " [ 30 150]]\n"
          ]
        }
      ],
      "source": [
        "cm = confusion_matrix(y_test, y_pred)\n",
        "print(cm)"
      ]
    },
    {
      "cell_type": "code",
      "execution_count": 32,
      "metadata": {
        "colab": {
          "base_uri": "https://localhost:8080/"
        },
        "id": "m0HZH4eCBKTG",
        "outputId": "d059bab0-9e4b-42fc-b5b8-092d77278f77"
      },
      "outputs": [
        {
          "output_type": "stream",
          "name": "stdout",
          "text": [
            "              precision    recall  f1-score   support\n",
            "\n",
            "         0.0       0.81      0.83      0.82       156\n",
            "         1.0       0.85      0.83      0.84       180\n",
            "\n",
            "    accuracy                           0.83       336\n",
            "   macro avg       0.83      0.83      0.83       336\n",
            "weighted avg       0.83      0.83      0.83       336\n",
            "\n"
          ]
        }
      ],
      "source": [
        "print(classification_report(y_test, y_pred))"
      ]
    },
    {
      "cell_type": "markdown",
      "metadata": {
        "id": "F2I9UrUuobRr"
      },
      "source": [
        "## SVM"
      ]
    },
    {
      "cell_type": "code",
      "execution_count": 64,
      "metadata": {
        "id": "M9TOcJB9odZ_"
      },
      "outputs": [],
      "source": [
        ""
      ]
    },
    {
      "cell_type": "code",
      "execution_count": 65,
      "metadata": {
        "id": "TAUAsFUmpc9y"
      },
      "outputs": [],
      "source": [
        "X = main[:,0:-1]\n",
        "y = main[:,-1]\n",
        "X_train, X_test, y_train, y_test = train_test_split(X, y, test_size=0.2)"
      ]
    },
    {
      "cell_type": "code",
      "execution_count": 66,
      "metadata": {
        "colab": {
          "base_uri": "https://localhost:8080/"
        },
        "id": "39w9JCTSpXh8",
        "outputId": "653b681a-753f-430f-eb8b-910a24936cc3"
      },
      "outputs": [
        {
          "output_type": "stream",
          "name": "stdout",
          "text": [
            "Baseline: 80.89% (1.14%)\n"
          ]
        }
      ],
      "source": [
        "estimator = SVC()\n",
        "kfold = StratifiedKFold(n_splits=5, shuffle=True)\n",
        "results = cross_val_score(estimator, X, y, cv=kfold)\n",
        "print(\"Baseline: %.2f%% (%.2f%%)\" % (results.mean()*100, results.std()*100))"
      ]
    },
    {
      "cell_type": "code",
      "execution_count": 67,
      "metadata": {
        "colab": {
          "base_uri": "https://localhost:8080/"
        },
        "id": "le35roNlVJQb",
        "outputId": "701ee117-c047-4a8b-9410-1ee0396461cb"
      },
      "outputs": [
        {
          "output_type": "stream",
          "name": "stdout",
          "text": [
            "Accuracy : 0.7767857142857143\n"
          ]
        }
      ],
      "source": [
        "# Building the Support Vector Machine and evaluating it’s performance\n",
        "\n",
        "# Building the SVM model\n",
        "svmclf = SVC()\n",
        "svmclf.fit(X_train, y_train)\n",
        "  \n",
        "# Storing the predictions of the non-linear model\n",
        "y_pred_svmclf = svmclf.predict(X_test)\n",
        "  \n",
        "# Evaluating the performance of the non-linear model\n",
        "print('Accuracy : '+str(accuracy_score(y_test, y_pred_svmclf)))"
      ]
    },
    {
      "cell_type": "code",
      "execution_count": 68,
      "metadata": {
        "colab": {
          "base_uri": "https://localhost:8080/",
          "height": 373
        },
        "id": "91WTfpY-pvF2",
        "outputId": "6b413581-9614-4476-f445-91fd5c0c4d71"
      },
      "outputs": [
        {
          "output_type": "stream",
          "name": "stdout",
          "text": [
            "EER:  0.22190503209333662\n",
            "<sklearn.metrics._plot.confusion_matrix.ConfusionMatrixDisplay object at 0x7f9f669405d0>\n"
          ]
        },
        {
          "output_type": "stream",
          "name": "stderr",
          "text": [
            "/usr/local/lib/python3.7/dist-packages/sklearn/utils/deprecation.py:87: FutureWarning: Function plot_confusion_matrix is deprecated; Function `plot_confusion_matrix` is deprecated in 1.0 and will be removed in 1.2. Use one of the class methods: ConfusionMatrixDisplay.from_predictions or ConfusionMatrixDisplay.from_estimator.\n",
            "  warnings.warn(msg, category=FutureWarning)\n"
          ]
        },
        {
          "output_type": "display_data",
          "data": {
            "image/png": "[encoded data removed]",
            "text/plain": [
              "<Figure size 432x288 with 2 Axes>"
            ]
          },
          "metadata": {}
        }
      ],
      "source": [
        "estimator.fit(X_train, y_train)\n",
        "y_pred = estimator.predict(X_test)\n",
        "eer = compute_eer(y_test, y_pred, positive_label = 1)\n",
        "print(\"EER: \", eer)\n",
        "cm = pcm(estimator, X_test, y_test)\n",
        "print(cm)"
      ]
    },
    {
      "cell_type": "code",
      "execution_count": 69,
      "metadata": {
        "colab": {
          "base_uri": "https://localhost:8080/"
        },
        "id": "-LC5Z9vUqBg5",
        "outputId": "c503c8c9-117c-4540-db3f-04fd680a1e0f"
      },
      "outputs": [
        {
          "output_type": "stream",
          "name": "stdout",
          "text": [
            "              precision    recall  f1-score   support\n",
            "\n",
            "         0.0       0.74      0.82      0.78       163\n",
            "         1.0       0.81      0.73      0.77       173\n",
            "\n",
            "    accuracy                           0.78       336\n",
            "   macro avg       0.78      0.78      0.78       336\n",
            "weighted avg       0.78      0.78      0.78       336\n",
            "\n"
          ]
        }
      ],
      "source": [
        "print(classification_report(y_test, y_pred))"
      ]
    },
    {
      "cell_type": "markdown",
      "metadata": {
        "id": "KCtsI9rJL4b8"
      },
      "source": [
        "## Random Forest (GridSearchCV)"
      ]
    },
    {
      "cell_type": "code",
      "execution_count": null,
      "metadata": {
        "id": "LfT5obYpL-YT"
      },
      "outputs": [],
      "source": [
        "X = main[:,0:-1]\n",
        "y = main[:,-1]\n",
        "X_train, X_test, y_train, y_test = train_test_split(X, y, test_size=0.2)"
      ]
    },
    {
      "cell_type": "code",
      "execution_count": null,
      "metadata": {
        "id": "pptHzFrPNDpg"
      },
      "outputs": [],
      "source": [
        "n_estimators = [50, 100, 250, 500]      # Number of trees in random forest\n",
        "max_features = ['auto', 'sqrt']         # Number of features to consider at every split\n",
        "max_depth = [2, 5, 7, 10]               # Maximum number of levels in tree\n",
        "min_samples_split = [2, 5, 10]          # Minimum number of samples required to split a node\n",
        "min_samples_leaf = [1, 2, 4]            # Minimum number of samples required at each leaf node\n",
        "bootstrap = [True, False]               # Method of selecting samples for training each tree"
      ]
    },
    {
      "cell_type": "code",
      "execution_count": null,
      "metadata": {
        "id": "4CIMaqHJMRM2"
      },
      "outputs": [],
      "source": [
        "random_grid = {'n_estimators': n_estimators,\n",
        "               'max_features': max_features,\n",
        "               'max_depth': max_depth,\n",
        "               'min_samples_split': min_samples_split,\n",
        "               'min_samples_leaf': min_samples_leaf,\n",
        "               'bootstrap': bootstrap}"
      ]
    },
    {
      "cell_type": "code",
      "execution_count": null,
      "metadata": {
        "id": "zucPnNkxMGSG"
      },
      "outputs": [],
      "source": [
        "rf = RandomForestClassifier() "
      ]
    },
    {
      "cell_type": "code",
      "execution_count": null,
      "metadata": {
        "colab": {
          "base_uri": "https://localhost:8080/"
        },
        "id": "ieqwod7xL_Mp",
        "outputId": "9300431c-0706-40d2-c2f8-20bbc5276df1"
      },
      "outputs": [
        {
          "name": "stdout",
          "output_type": "stream",
          "text": [
            "{'n_estimators': 500, 'min_samples_split': 5, 'min_samples_leaf': 1, 'max_features': 'sqrt', 'max_depth': 10, 'bootstrap': True}\n"
          ]
        }
      ],
      "source": [
        "grid = RandomizedSearchCV(estimator=rf, param_distributions=random_grid, n_jobs=-1, cv=5, random_state = 42)\n",
        "grid.fit(X_train, y_train)\n",
        "print(grid.best_params_)"
      ]
    },
    {
      "cell_type": "code",
      "execution_count": null,
      "metadata": {
        "colab": {
          "base_uri": "https://localhost:8080/"
        },
        "id": "jpd5x6JFOlfz",
        "outputId": "d583c8bb-9f71-43f8-b3a4-bc45910c78da"
      },
      "outputs": [
        {
          "name": "stdout",
          "output_type": "stream",
          "text": [
            "              precision    recall  f1-score   support\n",
            "\n",
            "         0.0       0.77      0.81      0.79       175\n",
            "         1.0       0.78      0.73      0.76       161\n",
            "\n",
            "    accuracy                           0.77       336\n",
            "   macro avg       0.77      0.77      0.77       336\n",
            "weighted avg       0.77      0.77      0.77       336\n",
            "\n",
            "Accuracy : 0.7738095238095238\n"
          ]
        }
      ],
      "source": [
        "grid.fit(X_train, y_train)\n",
        "grid_pred = grid.predict(X_test) \n",
        "   \n",
        "print(classification_report(y_test, grid_pred))\n",
        "print('Accuracy : '+str(accuracy_score(y_test, grid_pred)))"
      ]
    },
    {
      "cell_type": "markdown",
      "metadata": {
        "id": "_T_LAotcohVS"
      },
      "source": [
        "## Random Forest"
      ]
    },
    {
      "cell_type": "code",
      "execution_count": 71,
      "metadata": {
        "id": "hPC4zJyOq2Bt"
      },
      "outputs": [],
      "source": [
        "X = main[:,0:-1]\n",
        "y = main[:,-1]\n",
        "X_train, X_test, y_train, y_test = train_test_split(X, y, test_size=0.2)"
      ]
    },
    {
      "cell_type": "code",
      "execution_count": 72,
      "metadata": {
        "colab": {
          "base_uri": "https://localhost:8080/"
        },
        "id": "Z91q1auxq54s",
        "outputId": "f4912ef3-17bc-4cc7-884c-9cb799d423fc"
      },
      "outputs": [
        {
          "output_type": "stream",
          "name": "stdout",
          "text": [
            "Baseline: 80.71% (2.40%)\n"
          ]
        }
      ],
      "source": [
        "estimator = RandomForestClassifier(n_estimators = 500, min_samples_split = 5, min_samples_leaf = 1, max_features = 'sqrt', max_depth = 10, bootstrap = True)\n",
        "kfold = StratifiedKFold(n_splits=5, shuffle=True)\n",
        "results = cross_val_score(estimator, X, y, cv=kfold)\n",
        "print(\"Baseline: %.2f%% (%.2f%%)\" % (results.mean()*100, results.std()*100))"
      ]
    },
    {
      "cell_type": "code",
      "execution_count": 73,
      "metadata": {
        "colab": {
          "base_uri": "https://localhost:8080/",
          "height": 373
        },
        "id": "8TMr6fKQq7yq",
        "outputId": "34e320aa-788b-4e79-a917-27c202538448"
      },
      "outputs": [
        {
          "output_type": "stream",
          "name": "stdout",
          "text": [
            "EER:  0.18974404868444603\n",
            "<sklearn.metrics._plot.confusion_matrix.ConfusionMatrixDisplay object at 0x7f9f6348efd0>\n"
          ]
        },
        {
          "output_type": "stream",
          "name": "stderr",
          "text": [
            "/usr/local/lib/python3.7/dist-packages/sklearn/utils/deprecation.py:87: FutureWarning: Function plot_confusion_matrix is deprecated; Function `plot_confusion_matrix` is deprecated in 1.0 and will be removed in 1.2. Use one of the class methods: ConfusionMatrixDisplay.from_predictions or ConfusionMatrixDisplay.from_estimator.\n",
            "  warnings.warn(msg, category=FutureWarning)\n"
          ]
        },
        {
          "output_type": "display_data",
          "data": {
            "image/png": "[encoded data removed]",
            "text/plain": [
              "<Figure size 432x288 with 2 Axes>"
            ]
          },
          "metadata": {}
        }
      ],
      "source": [
        "estimator.fit(X_train, y_train)\n",
        "y_pred = estimator.predict(X_test)\n",
        "eer = compute_eer(y_test, y_pred, positive_label = 1)\n",
        "print(\"EER: \", eer)\n",
        "cm = pcm(estimator, X_test, y_test)\n",
        "print(cm)"
      ]
    },
    {
      "cell_type": "code",
      "execution_count": 74,
      "metadata": {
        "colab": {
          "base_uri": "https://localhost:8080/"
        },
        "id": "7yOLcFwCq8C9",
        "outputId": "1f18b791-b3ef-4477-f683-690a6e114170"
      },
      "outputs": [
        {
          "output_type": "stream",
          "name": "stdout",
          "text": [
            "              precision    recall  f1-score   support\n",
            "\n",
            "         0.0       0.83      0.83      0.83       185\n",
            "         1.0       0.79      0.79      0.79       151\n",
            "\n",
            "    accuracy                           0.81       336\n",
            "   macro avg       0.81      0.81      0.81       336\n",
            "weighted avg       0.81      0.81      0.81       336\n",
            "\n"
          ]
        }
      ],
      "source": [
        "print(classification_report(y_test, y_pred))"
      ]
    },
    {
      "cell_type": "markdown",
      "metadata": {
        "id": "2l2rFbLpoU0w"
      },
      "source": [
        "## Logistic Regression"
      ]
    },
    {
      "cell_type": "code",
      "execution_count": 33,
      "metadata": {
        "id": "kavPrszvo3Pm"
      },
      "outputs": [],
      "source": [
        "X = main[:,0:-1]\n",
        "y = main[:,-1]\n",
        "X_train, X_test, y_train, y_test = train_test_split(X, y, test_size=0.2)"
      ]
    },
    {
      "cell_type": "code",
      "execution_count": 34,
      "metadata": {
        "colab": {
          "base_uri": "https://localhost:8080/"
        },
        "id": "-IRRv3Gfo_Qh",
        "outputId": "6d310733-3a97-41be-b1e5-610c933dbedc"
      },
      "outputs": [
        {
          "output_type": "stream",
          "name": "stdout",
          "text": [
            "Baseline: 68.27% (2.38%)\n"
          ]
        }
      ],
      "source": [
        "estimator = LogisticRegression()\n",
        "kfold = StratifiedKFold(n_splits=5, shuffle=True)\n",
        "results = cross_val_score(estimator, X, y, cv=kfold)\n",
        "print(\"Baseline: %.2f%% (%.2f%%)\" % (results.mean()*100, results.std()*100))"
      ]
    },
    {
      "cell_type": "code",
      "execution_count": 35,
      "metadata": {
        "colab": {
          "base_uri": "https://localhost:8080/",
          "height": 371
        },
        "id": "ObgKEYSwp_tL",
        "outputId": "523f49e7-4841-479c-b492-4fd4efac9da5"
      },
      "outputs": [
        {
          "output_type": "stream",
          "name": "stdout",
          "text": [
            "EER:  0.315629096835914\n",
            "<sklearn.metrics._plot.confusion_matrix.ConfusionMatrixDisplay object at 0x7ff45515e710>\n"
          ]
        },
        {
          "output_type": "stream",
          "name": "stderr",
          "text": [
            "/usr/local/lib/python3.7/dist-packages/sklearn/utils/deprecation.py:87: FutureWarning: Function plot_confusion_matrix is deprecated; Function `plot_confusion_matrix` is deprecated in 1.0 and will be removed in 1.2. Use one of the class methods: ConfusionMatrixDisplay.from_predictions or ConfusionMatrixDisplay.from_estimator.\n",
            "  warnings.warn(msg, category=FutureWarning)\n"
          ]
        },
        {
          "output_type": "display_data",
          "data": {
            "image/png": "[encoded data removed]",
            "text/plain": [
              "<Figure size 432x288 with 2 Axes>"
            ]
          },
          "metadata": {
            "needs_background": "light"
          }
        }
      ],
      "source": [
        "estimator.fit(X_train, y_train)\n",
        "y_pred = estimator.predict(X_test)\n",
        "eer = compute_eer(y_test, y_pred, positive_label = 1)\n",
        "print(\"EER: \", eer)\n",
        "cm = pcm(estimator, X_test, y_test)\n",
        "print(cm)"
      ]
    },
    {
      "cell_type": "code",
      "execution_count": 36,
      "metadata": {
        "colab": {
          "base_uri": "https://localhost:8080/"
        },
        "id": "996tbm51qCTN",
        "outputId": "a08575cf-cdbd-47a4-b669-d8d6638e7deb"
      },
      "outputs": [
        {
          "output_type": "stream",
          "name": "stdout",
          "text": [
            "              precision    recall  f1-score   support\n",
            "\n",
            "         0.0       0.69      0.66      0.67       167\n",
            "         1.0       0.68      0.71      0.69       169\n",
            "\n",
            "    accuracy                           0.68       336\n",
            "   macro avg       0.68      0.68      0.68       336\n",
            "weighted avg       0.68      0.68      0.68       336\n",
            "\n"
          ]
        }
      ],
      "source": [
        "print(classification_report(y_test, y_pred))"
      ]
    },
    {
      "cell_type": "markdown",
      "metadata": {
        "id": "V3mPxvx5Wrht"
      },
      "source": [
        "## Naive GB"
      ]
    },
    {
      "cell_type": "code",
      "execution_count": 82,
      "metadata": {
        "id": "c4raGqfqg9ZG"
      },
      "outputs": [],
      "source": [
        "X = main[:,0:-1]\n",
        "y = main[:,-1]\n",
        "X_train, X_test, y_train, y_test = train_test_split(X, y, test_size=0.3)"
      ]
    },
    {
      "cell_type": "code",
      "execution_count": 84,
      "metadata": {
        "colab": {
          "base_uri": "https://localhost:8080/"
        },
        "id": "N6RBpEuCXOcg",
        "outputId": "9128833f-5e9b-4b96-8e4a-218f4a0e9df1"
      },
      "outputs": [
        {
          "output_type": "stream",
          "name": "stdout",
          "text": [
            "Accuracy : 0.6468253968253969\n"
          ]
        }
      ],
      "source": [
        "clf = GaussianNB()\n",
        "clf.fit(X_train,y_train)\n",
        "y_pred = clf.predict(X_test)\n",
        "print('Accuracy : '+str(accuracy_score(y_test, y_pred)))"
      ]
    },
    {
      "cell_type": "markdown",
      "metadata": {
        "id": "cjEnSj7UUO4J"
      },
      "source": [
        "## GMM"
      ]
    },
    {
      "cell_type": "code",
      "execution_count": 86,
      "metadata": {
        "id": "1f7GlFFkUU6l"
      },
      "outputs": [],
      "source": [
        "X = main[:,0:-1]\n",
        "y = main[:,-1]\n",
        "X_train, X_test, y_train, y_test = train_test_split(X, y, test_size=0.3)"
      ]
    },
    {
      "cell_type": "code",
      "execution_count": 88,
      "metadata": {
        "colab": {
          "base_uri": "https://localhost:8080/"
        },
        "id": "s2XBI-aNUZBi",
        "outputId": "a509c4ad-47c8-405e-ad74-119620d03afa"
      },
      "outputs": [
        {
          "output_type": "stream",
          "name": "stdout",
          "text": [
            "Accuracy of Gaussian Mixture: 0.5257936507936508\n"
          ]
        }
      ],
      "source": [
        "clf = GaussianMixture()\n",
        "clf.fit(X_train,y_train)\n",
        "y_pred = clf.predict(X_test)\n",
        "print('Accuracy of Gaussian Mixture: '+str(accuracy_score(y_test, y_pred)))"
      ]
    },
    {
      "cell_type": "code",
      "execution_count": 89,
      "metadata": {
        "colab": {
          "base_uri": "https://localhost:8080/"
        },
        "id": "ZypodPmIUoDW",
        "outputId": "745dc407-a1dc-43d3-9296-1647e9003035"
      },
      "outputs": [
        {
          "output_type": "stream",
          "name": "stdout",
          "text": [
            "Accuracy of Bayesian Gaussian Mixture: 0.5257936507936508\n"
          ]
        }
      ],
      "source": [
        "clf = BayesianGaussianMixture()\n",
        "clf.fit(X_train,y_train)\n",
        "y_pred = clf.predict(X_test)\n",
        "print('Accuracy of Bayesian Gaussian Mixture: '+str(accuracy_score(y_test, y_pred)))"
      ]
    },
    {
      "cell_type": "markdown",
      "metadata": {
        "id": "KxzgMGo6ix1Z"
      },
      "source": [
        "## Encoder"
      ]
    },
    {
      "cell_type": "markdown",
      "metadata": {
        "id": "YzzcY13Rnj5H"
      },
      "source": [
        "https://www.geeksforgeeks.org/ml-classifying-data-using-an-auto-encoder/?ref=lbp"
      ]
    },
    {
      "cell_type": "code",
      "execution_count": 37,
      "metadata": {
        "id": "T6GEJsbPi1Sm"
      },
      "outputs": [],
      "source": [
        "X = main[:,0:-1]\n",
        "y = main[:,-1]"
      ]
    },
    {
      "cell_type": "code",
      "execution_count": 38,
      "metadata": {
        "id": "Qbk0YecXjSfE"
      },
      "outputs": [],
      "source": [
        "# Cleaning data to make it suitable for auto-encoder\n",
        "\n",
        "X_scaled = MinMaxScaler().fit_transform(X)\n",
        "X_normal_scaled = X_scaled[y == 0]\n",
        "X_fraud_scaled = X_scaled[y == 1]"
      ]
    },
    {
      "cell_type": "code",
      "execution_count": 39,
      "metadata": {
        "id": "b9cUygjUjmQf"
      },
      "outputs": [],
      "source": [
        "# Building auto-encoder for neural network\n",
        "\n",
        "# Building the Input Layer\n",
        "input_layer = Input(shape =(X.shape[1], ))\n",
        "  \n",
        "# Building the Encoder network\n",
        "encoded = Dense(100, activation ='tanh',\n",
        "                activity_regularizer = regularizers.l1(10e-5))(input_layer)\n",
        "encoded = Dense(50, activation ='tanh',\n",
        "                activity_regularizer = regularizers.l1(10e-5))(encoded)\n",
        "encoded = Dense(25, activation ='tanh',\n",
        "                activity_regularizer = regularizers.l1(10e-5))(encoded)\n",
        "encoded = Dense(12, activation ='tanh',\n",
        "                activity_regularizer = regularizers.l1(10e-5))(encoded)\n",
        "encoded = Dense(6, activation ='relu')(encoded)\n",
        "  \n",
        "# Building the Decoder network\n",
        "decoded = Dense(12, activation ='tanh')(encoded)\n",
        "decoded = Dense(25, activation ='tanh')(decoded)\n",
        "decoded = Dense(50, activation ='tanh')(decoded)\n",
        "decoded = Dense(100, activation ='tanh')(decoded)\n",
        "  \n",
        "# Building the Output Layer\n",
        "output_layer = Dense(X.shape[1], activation ='relu')(decoded)"
      ]
    },
    {
      "cell_type": "code",
      "execution_count": 40,
      "metadata": {
        "colab": {
          "base_uri": "https://localhost:8080/"
        },
        "id": "yraiCq5NjnUh",
        "outputId": "83518619-cb02-46c2-f74e-89d598e3c5d2"
      },
      "outputs": [
        {
          "output_type": "stream",
          "name": "stdout",
          "text": [
            "Epoch 1/10\n",
            "42/42 [==============================] - 2s 9ms/step - loss: 0.0099 - val_loss: -0.0061\n",
            "Epoch 2/10\n",
            "42/42 [==============================] - 0s 3ms/step - loss: 0.0052 - val_loss: -0.0085\n",
            "Epoch 3/10\n",
            "42/42 [==============================] - 0s 3ms/step - loss: 0.0039 - val_loss: -0.0101\n",
            "Epoch 4/10\n",
            "42/42 [==============================] - 0s 3ms/step - loss: 0.0025 - val_loss: -0.0114\n",
            "Epoch 5/10\n",
            "42/42 [==============================] - 0s 3ms/step - loss: 9.9868e-04 - val_loss: -0.0127\n",
            "Epoch 6/10\n",
            "42/42 [==============================] - 0s 3ms/step - loss: 6.2927e-05 - val_loss: -0.0133\n",
            "Epoch 7/10\n",
            "42/42 [==============================] - 0s 3ms/step - loss: -6.2520e-04 - val_loss: -0.0138\n",
            "Epoch 8/10\n",
            "42/42 [==============================] - 0s 3ms/step - loss: -9.4689e-04 - val_loss: -0.0141\n",
            "Epoch 9/10\n",
            "42/42 [==============================] - 0s 3ms/step - loss: -0.0013 - val_loss: -0.0148\n",
            "Epoch 10/10\n",
            "42/42 [==============================] - 0s 3ms/step - loss: -0.0018 - val_loss: -0.0157\n"
          ]
        },
        {
          "output_type": "execute_result",
          "data": {
            "text/plain": [
              "<keras.callbacks.History at 0x7ff4558cff50>"
            ]
          },
          "metadata": {},
          "execution_count": 40
        }
      ],
      "source": [
        "# Defining and training the autoencoder\n",
        "\n",
        "# Defining the parameters of the Auto-encoder network\n",
        "autoencoder = Model(input_layer, output_layer)\n",
        "autoencoder.compile(optimizer =\"adadelta\", loss =\"binary_crossentropy\")\n",
        "  \n",
        "# Training the Auto-encoder network\n",
        "autoencoder.fit(X[y==0], X[y==0], \n",
        "                batch_size = 16, epochs = 10, \n",
        "                shuffle = True, validation_split = 0.20)"
      ]
    },
    {
      "cell_type": "code",
      "execution_count": 41,
      "metadata": {
        "id": "NykceI3UjrWv"
      },
      "outputs": [],
      "source": [
        "# Retaining the encoder part of the Auto-encoder to encode data\n",
        "\n",
        "hidden_representation = Sequential()\n",
        "hidden_representation.add(autoencoder.layers[0])\n",
        "hidden_representation.add(autoencoder.layers[1])\n",
        "hidden_representation.add(autoencoder.layers[2])\n",
        "hidden_representation.add(autoencoder.layers[3])\n",
        "hidden_representation.add(autoencoder.layers[4])"
      ]
    },
    {
      "cell_type": "code",
      "execution_count": 42,
      "metadata": {
        "id": "Ncbhfb71jutd"
      },
      "outputs": [],
      "source": [
        "# Encoding the data and visualizing the encoded data\n",
        "\n",
        "# Separating the points encoded by the Auto-encoder as normal and fraud\n",
        "normal_hidden_rep = hidden_representation.predict(X_normal_scaled)\n",
        "fraud_hidden_rep = hidden_representation.predict(X_fraud_scaled)\n",
        "  \n",
        "# Combining the encoded points into a single table \n",
        "encoded_X = np.append(normal_hidden_rep, fraud_hidden_rep, axis = 0)\n",
        "y_normal = np.zeros(normal_hidden_rep.shape[0])\n",
        "y_fraud = np.ones(fraud_hidden_rep.shape[0])\n",
        "encoded_y = np.append(y_normal, y_fraud)"
      ]
    },
    {
      "cell_type": "code",
      "execution_count": 43,
      "metadata": {
        "id": "Q8gl0iqhjyjC"
      },
      "outputs": [],
      "source": [
        "#Splitting the original and encoded data into training and testing data\n",
        "\n",
        "# Splitting the encoded data for linear classification\n",
        "X_train_encoded, X_test_encoded, y_train_encoded, y_test_encoded = train_test_split(encoded_X, encoded_y, test_size = 0.2)\n",
        "  \n",
        "# Splitting the original data for non-linear classification\n",
        "X_train, X_test, y_train, y_test = train_test_split(X, y, test_size = 0.2)"
      ]
    },
    {
      "cell_type": "code",
      "execution_count": 44,
      "metadata": {
        "colab": {
          "base_uri": "https://localhost:8080/"
        },
        "id": "R4VbYL4rlpRp",
        "outputId": "44818944-83bb-4cf5-b834-7d04ea9c63e4"
      },
      "outputs": [
        {
          "output_type": "stream",
          "name": "stdout",
          "text": [
            "Accuracy : 0.6517857142857143\n"
          ]
        }
      ],
      "source": [
        "# Building the Logistic Regression model and evaluating it’s performance\n",
        "\n",
        "# Building the logistic regression model\n",
        "lrclf = LogisticRegression()\n",
        "lrclf.fit(X_train_encoded, y_train_encoded)\n",
        "  \n",
        "# Storing the predictions of the linear model\n",
        "y_pred_lrclf = lrclf.predict(X_test_encoded)\n",
        "  \n",
        "# Evaluating the performance of the linear model\n",
        "print('Accuracy : '+str(accuracy_score(y_test_encoded, y_pred_lrclf)))"
      ]
    },
    {
      "cell_type": "code",
      "execution_count": 45,
      "metadata": {
        "colab": {
          "base_uri": "https://localhost:8080/"
        },
        "id": "vOro6jeKYsmp",
        "outputId": "4c7cf39f-8b77-4fdf-b2e4-3ff9ba67e0a4"
      },
      "outputs": [
        {
          "output_type": "stream",
          "name": "stdout",
          "text": [
            "Baseline: 65.83% (2.97%)\n"
          ]
        }
      ],
      "source": [
        "estimator = LogisticRegression()\n",
        "kfold = StratifiedKFold(n_splits=5, shuffle=True)\n",
        "results = cross_val_score(estimator, encoded_X, encoded_y, cv=kfold)\n",
        "print(\"Baseline: %.2f%% (%.2f%%)\" % (results.mean()*100, results.std()*100))"
      ]
    },
    {
      "cell_type": "code",
      "execution_count": 46,
      "metadata": {
        "colab": {
          "base_uri": "https://localhost:8080/"
        },
        "id": "hftE1k8Gj6tk",
        "outputId": "16462a74-63bd-4e04-e211-f1f2f9ea0661"
      },
      "outputs": [
        {
          "output_type": "stream",
          "name": "stdout",
          "text": [
            "Accuracy : 0.6696428571428571\n"
          ]
        }
      ],
      "source": [
        "# Building the Support Vector Machine and evaluating it’s performance\n",
        "\n",
        "# Building the SVM model\n",
        "svmclf = SVC()\n",
        "svmclf.fit(X_train_encoded, y_train_encoded)\n",
        "  \n",
        "# Storing the predictions of the non-linear model\n",
        "y_pred_svmclf = svmclf.predict(X_test_encoded)\n",
        "  \n",
        "# Evaluating the performance of the non-linear model\n",
        "print('Accuracy : '+str(accuracy_score(y_test_encoded, y_pred_svmclf)))"
      ]
    },
    {
      "cell_type": "code",
      "execution_count": 47,
      "metadata": {
        "colab": {
          "base_uri": "https://localhost:8080/"
        },
        "id": "LyOJpzHMVTe4",
        "outputId": "54468e59-ade1-4237-de67-249c25bb511a"
      },
      "outputs": [
        {
          "output_type": "stream",
          "name": "stdout",
          "text": [
            "Accuracy : 0.7261904761904762\n"
          ]
        }
      ],
      "source": [
        "estimator = RandomForestClassifier()\n",
        "estimator.fit(X_train_encoded, y_train_encoded)\n",
        "  \n",
        "# Storing the predictions of the non-linear model\n",
        "y_pred = estimator.predict(X_test_encoded)\n",
        "  \n",
        "# Evaluating the performance of the non-linear model\n",
        "print('Accuracy : '+str(accuracy_score(y_test_encoded, y_pred)))"
      ]
    },
    {
      "cell_type": "code",
      "execution_count": 48,
      "metadata": {
        "colab": {
          "base_uri": "https://localhost:8080/"
        },
        "id": "VUkY7IMkX7dn",
        "outputId": "d24ff235-1ee9-45ce-ee57-e9cdcdf18029"
      },
      "outputs": [
        {
          "output_type": "stream",
          "name": "stdout",
          "text": [
            "Baseline: 69.88% (1.86%)\n"
          ]
        }
      ],
      "source": [
        "estimator = SVC()\n",
        "kfold = StratifiedKFold(n_splits=5, shuffle=True)\n",
        "results = cross_val_score(estimator, encoded_X, encoded_y, cv=kfold)\n",
        "print(\"Baseline: %.2f%% (%.2f%%)\" % (results.mean()*100, results.std()*100))"
      ]
    },
    {
      "cell_type": "code",
      "execution_count": 49,
      "metadata": {
        "colab": {
          "base_uri": "https://localhost:8080/"
        },
        "id": "Og8e60nhYBHF",
        "outputId": "f0241d4e-0b63-4369-acb0-fb2ab1805bf5"
      },
      "outputs": [
        {
          "output_type": "stream",
          "name": "stdout",
          "text": [
            "Baseline: 75.48% (1.51%)\n"
          ]
        }
      ],
      "source": [
        "estimator = RandomForestClassifier()\n",
        "kfold = StratifiedKFold(n_splits=5, shuffle=True)\n",
        "results = cross_val_score(estimator, encoded_X, encoded_y, cv=kfold)\n",
        "print(\"Baseline: %.2f%% (%.2f%%)\" % (results.mean()*100, results.std()*100))"
      ]
    },
    {
      "cell_type": "code",
      "execution_count": 50,
      "metadata": {
        "colab": {
          "base_uri": "https://localhost:8080/"
        },
        "id": "DEOgg6VaeOc4",
        "outputId": "8a712e61-6a0e-498e-fc08-6d84318f7281"
      },
      "outputs": [
        {
          "output_type": "stream",
          "name": "stdout",
          "text": [
            "(1680, 12) (1680,)\n"
          ]
        }
      ],
      "source": [
        "print(encoded_X.shape, encoded_y.shape)"
      ]
    },
    {
      "cell_type": "code",
      "execution_count": 51,
      "metadata": {
        "colab": {
          "base_uri": "https://localhost:8080/"
        },
        "id": "F08omvxEbWC6",
        "outputId": "de10a566-0a08-4526-de4a-f487eff26d2a"
      },
      "outputs": [
        {
          "output_type": "stream",
          "name": "stderr",
          "text": [
            "/usr/local/lib/python3.7/dist-packages/ipykernel_launcher.py:12: DeprecationWarning: KerasClassifier is deprecated, use Sci-Keras (https://github.com/adriangb/scikeras) instead. See https://www.adriangb.com/scikeras/stable/migration.html for help migrating.\n",
            "  if sys.path[0] == '':\n"
          ]
        },
        {
          "output_type": "stream",
          "name": "stdout",
          "text": [
            "Baseline: 71.37% (2.21%)\n"
          ]
        }
      ],
      "source": [
        "# baseline model\n",
        "def create_baseline():\n",
        "\t# create model\n",
        "  model = Sequential()\n",
        "  model.add(Dense(12, input_dim=12, activation='relu'))\n",
        "  model.add(Dense(6, activation='relu'))\n",
        "  model.add(Dense(1, activation='sigmoid'))\n",
        "\t# Compile model\n",
        "  model.compile(loss='binary_crossentropy', optimizer='adam', metrics=['accuracy'])\n",
        "  return model\n",
        "\n",
        "estimator = KerasClassifier(build_fn=create_baseline, epochs=100, batch_size=5, verbose=0)\n",
        "kfold = StratifiedKFold(n_splits=5, shuffle=True)\n",
        "results = cross_val_score(estimator, encoded_X, encoded_y, cv=kfold)\n",
        "print(\"Baseline: %.2f%% (%.2f%%)\" % (results.mean()*100, results.std()*100))"
      ]
    }
  ],
  "metadata": {
    "colab": {
      "collapsed_sections": [
        "QNH2jCYU-ozb",
        "YpIPeIGta9l_",
        "0PmL258F_uZu",
        "QVMafP1B2Dmq",
        "QNRs1drUAH6g",
        "F2I9UrUuobRr",
        "KCtsI9rJL4b8",
        "9Ui8P00aGdcb",
        "dVfsREnaNtsN",
        "mNrU23Y8qjSb",
        "jDY50l2rycgF",
        "6aatJCZSyj4e",
        "bvt1Yh6R9989"
      ],
      "name": "DrunkDriving.ipynb",
      "provenance": []
    },
    "kernelspec": {
      "display_name": "Python 3",
      "name": "python3"
    },
    "language_info": {
      "name": "python"
    }
  },
  "nbformat": 4,
  "nbformat_minor": 0
}