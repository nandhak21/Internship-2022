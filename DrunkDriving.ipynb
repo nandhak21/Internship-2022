{
  "cells": [
    {
      "cell_type": "markdown",
      "metadata": {
        "id": "1Kscs8MsyrtS"
      },
      "source": [
        "## Feature Extraction"
      ]
    },
    {
      "cell_type": "code",
      "execution_count": 174,
      "metadata": {
        "id": "6x7O2GIiy0B0"
      },
      "outputs": [],
      "source": [
        "import librosa\n",
        "from librosa.feature import mfcc as mfcc\n",
        "import librosa.display\n",
        "import IPython.display as ipd\n",
        "import matplotlib.pyplot as plt\n",
        "import numpy as np\n",
        "import scipy\n",
        "import os\n",
        "from sklearn.preprocessing import normalize\n",
        "from sklearn.preprocessing import MinMaxScaler"
      ]
    },
    {
      "cell_type": "code",
      "execution_count": 175,
      "metadata": {
        "id": "xQ24ThzXwTlI"
      },
      "outputs": [],
      "source": [
        "def lin(sr, n_fft, n_filter=128, fmin=0.0, fmax=None, dtype=np.float32):\n",
        "\n",
        "    if fmax is None:\n",
        "        fmax = float(sr) / 2\n",
        "    # Initialize the weights\n",
        "    n_filter = int(n_filter)\n",
        "    weights = np.zeros((n_filter, int(1 + n_fft // 2)), dtype=dtype)\n",
        "\n",
        "    # Center freqs of each FFT bin\n",
        "    fftfreqs = librosa.fft_frequencies(sr=sr, n_fft=n_fft)\n",
        "\n",
        "    # 'Center freqs' of liner bands - uniformly spaced between limits\n",
        "    linear_f = np.linspace(fmin, fmax, n_filter + 2)\n",
        "\n",
        "    fdiff = np.diff(linear_f)\n",
        "    ramps = np.subtract.outer(linear_f, fftfreqs)\n",
        "\n",
        "    for i in range(n_filter):\n",
        "        # lower and upper slopes for all bins\n",
        "        lower = -ramps[i] / fdiff[i]\n",
        "        upper = ramps[i + 2] / fdiff[i + 1]\n",
        "\n",
        "        # .. then intersect them with each other and zero\n",
        "        weights[i] = np.maximum(0, np.minimum(lower, upper))\n",
        "\n",
        "    return weights\n",
        "\n",
        "\n",
        "def linear_spec(y=None,\n",
        "                sr=22050,\n",
        "                n_fft=2048,\n",
        "                hop_length=512,\n",
        "                win_length=None,\n",
        "                window='hann',\n",
        "                center=True,\n",
        "                pad_mode='reflect',\n",
        "                power=2.0,\n",
        "                **kwargs):\n",
        "    S = np.abs(\n",
        "        librosa.core.stft(y=y,\n",
        "                          n_fft=n_fft,\n",
        "                          hop_length=hop_length,\n",
        "                          win_length=win_length,\n",
        "                          window=window,\n",
        "                          center=center,\n",
        "                          pad_mode=pad_mode))**power\n",
        "    filter = lin(sr=sr, n_fft=n_fft, **kwargs)\n",
        "    return np.dot(filter, S)\n",
        "\n",
        "\n",
        "def lfcc(y=None,\n",
        "         sr=22050,\n",
        "         S=None,\n",
        "         n_lfcc=20,\n",
        "         dct_type=2,\n",
        "         norm='ortho',\n",
        "         **kwargs):\n",
        "    if S is None:\n",
        "        S = librosa.power_to_db(linear_spec(y=y, sr=sr, **kwargs))\n",
        "    M = scipy.fftpack.dct(S, axis=0, type=dct_type, norm=norm)[:n_lfcc]\n",
        "    return M"
      ]
    },
    {
      "cell_type": "code",
      "execution_count": 176,
      "metadata": {
        "colab": {
          "base_uri": "https://localhost:8080/"
        },
        "id": "5jYnDCZHXvAz",
        "outputId": "18ee52de-8779-47e7-a2af-1f2115854f23"
      },
      "outputs": [
        {
          "output_type": "stream",
          "name": "stdout",
          "text": [
            "Mounted at /content/gdrive\n"
          ]
        }
      ],
      "source": [
        "# !fusermount -u drive\n",
        "# !google-drive-ocamlfuse drive\n",
        "from google.colab import drive\n",
        "drive.mount('/content/gdrive')"
      ]
    },
    {
      "cell_type": "code",
      "execution_count": 177,
      "metadata": {
        "id": "2iL3W4RRMzVn"
      },
      "outputs": [],
      "source": [
        "# from pydub import AudioSegment, effects  \n",
        "\n",
        "# rawsound = AudioSegment.from_file(\"Intoxicated\", \"wav\")  \n",
        "# normalizedsound = effects.normalize(rawsound)  \n",
        "# normalizedsound.export(\"./output.wav\", format=\"wav\")"
      ]
    },
    {
      "cell_type": "code",
      "execution_count": 178,
      "metadata": {
        "id": "23CPNHZiZQFN"
      },
      "outputs": [],
      "source": [
        "# # assign directory\n",
        "# directory = '/content/gdrive/MyDrive/Intoxicated'\n",
        "# lfccsi = []\n",
        "# # iterate over files in\n",
        "# # that directory\n",
        "# for filename in os.listdir(directory):\n",
        "#   f = os.path.join(directory, filename)\n",
        "#   # checking if it is a file\n",
        "#   if os.path.isfile(f):\n",
        "#     y, sr = librosa.load(f)\n",
        "#     # lf = lfcc(y, sr, n_lfcc=16)\n",
        "#     lf = librosa.filters.mel(sr, n_fft= 2048, n_mels = 16)\n",
        "#     lff = np.mean(lf, axis=1)\n",
        "#     lff = np.append(lff, 1)\n",
        "#     lfccsi.append(lff)\n"
      ]
    },
    {
      "cell_type": "code",
      "execution_count": 179,
      "metadata": {
        "id": "UKKxOp1E0s8E"
      },
      "outputs": [],
      "source": [
        "# # assign directory\n",
        "# directory = '/content/gdrive/MyDrive/alex-intox'\n",
        "# lfccsi = []\n",
        "# # iterate over files in\n",
        "# # that directory\n",
        "# for filename in os.listdir(directory):\n",
        "#   f = os.path.join(directory, filename)\n",
        "#   # checking if it is a file\n",
        "#   if os.path.isfile(f):\n",
        "#     y, sr = librosa.load(f)\n",
        "#     lf = lfcc(y, sr, n_lfcc=16)\n",
        "#     delta_lfc = librosa.feature.delta(lf)\n",
        "#     final = np.concatenate((lf, delta_lfc))\n",
        "#     final = normalize(final, axis=1)\n",
        "#     final = np.mean(final, axis=1)\n",
        "#     rmse = librosa.feature.rms(y=y)[0]\n",
        "#     orms = np.mean(rmse)\n",
        "#     fin = np.append(final, orms)\n",
        "#     fin = np.append(fin, 1)\n",
        "#     lfccsi.append(fin)\n"
      ]
    },
    {
      "cell_type": "code",
      "source": [
        "# zero_crossing\n",
        "x1, sr1 = librosa.load('Alex_24_Intoxicated_2.wav')\n",
        "x2, sr2 = librosa.load('Alex_24_sober_2.wav')\n",
        "zero_crossings1 = librosa.zero_crossings(x1, pad=False)\n",
        "zero_crossings2 = librosa.zero_crossings(x2, pad=False)\n",
        "print(sum(zero_crossings1))\n",
        "print(sum(zero_crossings2))"
      ],
      "metadata": {
        "id": "Jti07gVke-rv",
        "colab": {
          "base_uri": "https://localhost:8080/"
        },
        "outputId": "402038ff-7568-44c4-8541-a86dd689eafb"
      },
      "execution_count": 180,
      "outputs": [
        {
          "output_type": "stream",
          "name": "stdout",
          "text": [
            "2610\n",
            "1720\n"
          ]
        }
      ]
    },
    {
      "cell_type": "code",
      "execution_count": 181,
      "metadata": {
        "id": "W_ydNWBOtUAz"
      },
      "outputs": [],
      "source": [
        "# assign directory\n",
        "directory = '/content/gdrive/MyDrive/Intoxicated'\n",
        "lfccsi = []\n",
        "# iterate over files in\n",
        "# that directory\n",
        "for filename in os.listdir(directory):\n",
        "  f = os.path.join(directory, filename)\n",
        "  # checking if it is a file\n",
        "  if os.path.isfile(f):\n",
        "    y, sr = librosa.load(f)\n",
        "    zero_crossings = librosa.zero_crossings(y, pad=False)\n",
        "    zc = sum(zero_crossings)\n",
        "    mf = mfcc(y, sr, n_mfcc=16)\n",
        "    #mf = librosa.filters.mel(sr, n_fft=2048, n_mels = 16)\n",
        "    delta_mfc = librosa.feature.delta(mf)\n",
        "    final = np.concatenate((mf, delta_mfc))\n",
        "    final = normalize(final, axis=1)\n",
        "    final = np.mean(final, axis=1)\n",
        "    rmse = librosa.feature.rms(y=y)[0]\n",
        "    orms = np.mean(rmse)\n",
        "    fin = np.append(final, orms)\n",
        "    fin = np.append(fin, zc)\n",
        "    fin = np.append(fin, 1)\n",
        "    lfccsi.append(fin)"
      ]
    },
    {
      "cell_type": "code",
      "execution_count": null,
      "metadata": {
        "id": "5ncsYvzsMqZ2"
      },
      "outputs": [],
      "source": [
        "# # assign directory\n",
        "# directory = '/content/gdrive/MyDrive/Intoxicated'\n",
        "# lfccsi = []\n",
        "# # iterate over files in\n",
        "# # that directory\n",
        "# for filename in os.listdir(directory):\n",
        "#   f = os.path.join(directory, filename)\n",
        "#   # checking if it is a file\n",
        "#   if os.path.isfile(f):\n",
        "#     Y, sample_rate = librosa.load(f)\n",
        "#     mfccs=np.mean(librosa.feature.mfcc(y=Y, sr=sample_rate, n_mfcc=16).T, axis=0)\n",
        "#     mx = mfccs.max()\n",
        "#     mn = mfccs.min()\n",
        "#     mfc = (mfccs - mn)/(mx-mn)\n",
        "\n",
        "#     #mf = librosa.filters.mel(sr, n_fft= 2048, n_mels = 16)\n",
        "    \n",
        "#     delta_mfccs = librosa.feature.delta(mfccs)\n",
        "#     mx = mfccs.max()\n",
        "#     mn = mfccs.min()\n",
        "#     delta_mfc = (delta_mfccs - mn)/(mx-mn)\n",
        "    \n",
        "#     final = np.concatenate((mfc, delta_mfc))\n",
        "    \n",
        "#     #final2 = normalize(final1, axis=1)\n",
        "#     rmse = librosa.feature.rms(y=Y)[0]\n",
        "#     orms = np.mean(rmse)\n",
        "#     fin = np.append(final, orms)\n",
        "#     fin = np.append(fin, 1)\n",
        "#     lfccsi.append(fin)"
      ]
    },
    {
      "cell_type": "code",
      "execution_count": null,
      "metadata": {
        "id": "6G7UScMWkx6J"
      },
      "outputs": [],
      "source": [
        "# _X, sample_rate = librosa.load(\"Alex_24_Intoxicated_40.wav\")\n",
        "# mfccs=np.mean(librosa.feature.mfcc(y=X, sr=sample_rate, n_mfcc=16).T, axis=0)\n",
        "# mx = mfccs.max()\n",
        "# mn = mfccs.min()\n",
        "# mfc = (mfccs - mn)/(mx-mn)\n",
        "# print(mfccs.shape)\n",
        "# print(mfc.shape)\n",
        "# print(mfc)\n",
        "# delta_mfc = librosa.feature.delta(mfccs)\n",
        "# print(delta_mfc)\n",
        "# print(delta_mfc.shape)"
      ]
    },
    {
      "cell_type": "code",
      "execution_count": null,
      "metadata": {
        "id": "BJgODoEnpNGc"
      },
      "outputs": [],
      "source": [
        "# delta_mfccs = librosa.feature.delta(mfccs)\n",
        "# mx = mfccs.max()\n",
        "# mn = mfccs.min()\n",
        "# delta_mfc = (delta_mfccs - mn)/(mx-mn)\n",
        "# print(delta_mfccs.shape)\n",
        "# print(delta_mfc.shape)\n"
      ]
    },
    {
      "cell_type": "code",
      "execution_count": null,
      "metadata": {
        "id": "_TwSvrzZrGEZ"
      },
      "outputs": [],
      "source": [
        "# final = np.concatenate((mfc, delta_mfc))\n",
        "# print(final.shape)"
      ]
    },
    {
      "cell_type": "code",
      "execution_count": null,
      "metadata": {
        "id": "AaiItmZ8de9W"
      },
      "outputs": [],
      "source": [
        "# print(mf.shape)\n",
        "# print(delta_mfc.shape)\n",
        "# print(final1.shape)\n",
        "# print(final2.shape)\n",
        "# print(final3.shape)"
      ]
    },
    {
      "cell_type": "code",
      "execution_count": null,
      "metadata": {
        "id": "TTwaSdRGDYG5"
      },
      "outputs": [],
      "source": [
        "# # assign directory\n",
        "# directory = '/content/gdrive/MyDrive/Sober'\n",
        "# lfccss = []\n",
        "# # iterate over files in\n",
        "# # that directory\n",
        "# for filename in os.listdir(directory):\n",
        "#   f = os.path.join(directory, filename)\n",
        "#   # checking if it is a file\n",
        "#   if os.path.isfile(f):\n",
        "#     y, sr = librosa.load(f)\n",
        "#     #lf = lfcc(y, sr, n_lfcc=16)\n",
        "#     lf = librosa.filters.mel(sr, n_fft= 2048, n_mels = 16)\n",
        "#     lff = np.mean(lf, axis=1)\n",
        "#     lff = np.append(lff, 0)\n",
        "#     lfccss.append(lff)"
      ]
    },
    {
      "cell_type": "code",
      "execution_count": null,
      "metadata": {
        "id": "6nqkLtDy0Jhu"
      },
      "outputs": [],
      "source": [
        "# # assign directory\n",
        "# directory = '/content/gdrive/MyDrive/alex-sober'\n",
        "# lfccss = []\n",
        "# # iterate over files in\n",
        "# # that directory\n",
        "# for filename in os.listdir(directory):\n",
        "#   f = os.path.join(directory, filename)\n",
        "#   # checking if it is a file\n",
        "#   if os.path.isfile(f):\n",
        "#     y, sr = librosa.load(f)\n",
        "#     lf = lfcc(y, sr, n_lfcc=16)\n",
        "#     delta_lfc = librosa.feature.delta(lf)\n",
        "#     final = np.concatenate((lf, delta_lfc))\n",
        "#     final = normalize(final, axis=1)\n",
        "#     final = np.mean(final, axis=1)\n",
        "#     rmse = librosa.feature.rms(y=y)[0]\n",
        "#     orms = np.mean(rmse)\n",
        "#     fin = np.append(final, orms)\n",
        "#     fin = np.append(fin, 0)\n",
        "#     lfccss.append(fin)\n"
      ]
    },
    {
      "cell_type": "code",
      "execution_count": null,
      "metadata": {
        "id": "jRStoMScMVhV",
        "colab": {
          "base_uri": "https://localhost:8080/"
        },
        "outputId": "f0912427-8045-4931-e31a-2e5b411704e3"
      },
      "outputs": [
        {
          "output_type": "stream",
          "name": "stderr",
          "text": [
            "/usr/local/lib/python3.7/dist-packages/librosa/core/audio.py:165: UserWarning: PySoundFile failed. Trying audioread instead.\n",
            "  warnings.warn(\"PySoundFile failed. Trying audioread instead.\")\n",
            "/usr/local/lib/python3.7/dist-packages/librosa/core/audio.py:165: UserWarning: PySoundFile failed. Trying audioread instead.\n",
            "  warnings.warn(\"PySoundFile failed. Trying audioread instead.\")\n"
          ]
        }
      ],
      "source": [
        "# assign directory\n",
        "directory = '/content/gdrive/MyDrive/Sober'\n",
        "lfccss = []\n",
        "# iterate over files in\n",
        "# that directory\n",
        "for filename in os.listdir(directory):\n",
        "  f = os.path.join(directory, filename)\n",
        "  # checking if it is a file\n",
        "  if os.path.isfile(f):\n",
        "    y, sr = librosa.load(f)\n",
        "    zero_crossings = librosa.zero_crossings(y, pad=False)\n",
        "    zc = sum(zero_crossings)\n",
        "    mf = mfcc(y, sr, n_mfcc=16)\n",
        "    #mf = librosa.filters.mel(sr, n_fft=2048, n_mels = 16)\n",
        "    delta_mfc = librosa.feature.delta(mf)\n",
        "    final = np.concatenate((mf, delta_mfc))\n",
        "    final = normalize(final, axis=1)\n",
        "    final = np.mean(final, axis=1)\n",
        "    rmse = librosa.feature.rms(y=y)[0]\n",
        "    orms = np.mean(rmse)\n",
        "    fin = np.append(final, orms)\n",
        "    fin = np.append(fin, zc)\n",
        "    fin = np.append(fin, 0)\n",
        "    lfccss.append(fin)"
      ]
    },
    {
      "cell_type": "code",
      "execution_count": null,
      "metadata": {
        "id": "dgb5Xg4Gvq_Y"
      },
      "outputs": [],
      "source": [
        "# # assign directory\n",
        "# directory = '/content/gdrive/MyDrive/Sober'\n",
        "# lfccss = []\n",
        "# # iterate over files in\n",
        "# # that directory\n",
        "# for filename in os.listdir(directory):\n",
        "#   f = os.path.join(directory, filename)\n",
        "#   # checking if it is a file\n",
        "#   if os.path.isfile(f):    \n",
        "#     Y, sample_rate = librosa.load(f)\n",
        "#     mfccs=np.mean(librosa.feature.mfcc(y=Y, sr=sample_rate, n_mfcc=16).T, axis=0)\n",
        "#     mx = mfccs.max()\n",
        "#     mn = mfccs.min()\n",
        "#     mfc = (mfccs - mn)/(mx-mn)\n",
        "\n",
        "#     #mf = librosa.filters.mel(sr, n_fft= 2048, n_mels = 16)\n",
        "    \n",
        "#     delta_mfccs = librosa.feature.delta(mfccs)\n",
        "#     mx = mfccs.max()\n",
        "#     mn = mfccs.min()\n",
        "#     delta_mfc = (delta_mfccs - mn)/(mx-mn)\n",
        "    \n",
        "#     final = np.concatenate((mfc, delta_mfc))\n",
        "    \n",
        "#     #final2 = normalize(final1, axis=1)\n",
        "#     rmse = librosa.feature.rms(y=Y)[0]\n",
        "#     orms = np.mean(rmse)\n",
        "#     fin = np.append(final, orms)\n",
        "#     fin = np.append(fin, 1)\n",
        "#     lfccss.append(fin)"
      ]
    },
    {
      "cell_type": "code",
      "execution_count": null,
      "metadata": {
        "id": "fU27xVm0IlJ3"
      },
      "outputs": [],
      "source": [
        "lfccsi = np.array(lfccsi)\n",
        "lfccss = np.array(lfccss)\n",
        "print(lfccsi.shape)\n",
        "print(lfccss.shape)"
      ]
    },
    {
      "cell_type": "code",
      "execution_count": null,
      "metadata": {
        "id": "2fKIWJIt--Q0"
      },
      "outputs": [],
      "source": [
        "main = np.concatenate((lfccsi, lfccss), axis=0)"
      ]
    },
    {
      "cell_type": "code",
      "execution_count": null,
      "metadata": {
        "id": "iK3MMxlH_YEN"
      },
      "outputs": [],
      "source": [
        "main.shape"
      ]
    },
    {
      "cell_type": "code",
      "execution_count": null,
      "metadata": {
        "id": "CIBjKv6nxKQM"
      },
      "outputs": [],
      "source": [
        "# DATABASE_PATH = '/content/gdrive/MyDrive/intox-temp'\n",
        "# lfccsi = []\n",
        "# import glob\n",
        "\n",
        "\n",
        "\n",
        "# for file in os.listdir(DATABASE_PATH):\n",
        "#   y, sr = librosa.load(file)\n",
        "#   lf = lfcc(y, sr, n_lfcc=16)\n",
        "#   lff = np.mean(lf, axis=1)\n",
        "#   print(len(lff))\n",
        "#   lfccsi.append(lff, axis = 0)  \n",
        "\n",
        "# lfccsi = np.array(lfccsi)\n",
        "# mfccs = np.array(mfccs)\n",
        "# true_labels = np.array(true_labels)"
      ]
    },
    {
      "cell_type": "code",
      "execution_count": null,
      "metadata": {
        "id": "0waKAimgkwvC"
      },
      "outputs": [],
      "source": [
        "# log_rmse = numpy.log1p(10*rmse)\n",
        "# log_rmse_diff = numpy.zeros_like(log_rmse)\n",
        "# log_rmse_diff[1:] = numpy.diff(log_rmse)\n",
        "\n",
        "# hop_length = 512\n",
        "# frame_length = 1024\n",
        "# rmse = librosa.feature.rmse(x, frame_length=frame_length, hop_length=hop_length).flatten()\n",
        "# rmse_diff = numpy.zeros_like(rmse)\n",
        "# rmse_diff[1:] = numpy.diff(rmse)"
      ]
    },
    {
      "cell_type": "markdown",
      "metadata": {
        "id": "YpIPeIGta9l_"
      },
      "source": [
        "## Neural network (GridSearch)"
      ]
    },
    {
      "cell_type": "code",
      "execution_count": null,
      "metadata": {
        "id": "CrIWtU0elJoX"
      },
      "outputs": [],
      "source": [
        "X = main[:,0:-1]\n",
        "y = main[:,-1]"
      ]
    },
    {
      "cell_type": "code",
      "source": [
        "from sklearn.model_selection import GridSearchCV\n",
        "from sklearn.model_selection import RandomizedSearchCV"
      ],
      "metadata": {
        "id": "RumqTdeZpyRg"
      },
      "execution_count": null,
      "outputs": []
    },
    {
      "cell_type": "code",
      "execution_count": null,
      "metadata": {
        "id": "ZgLS3j_JFndp"
      },
      "outputs": [],
      "source": [
        "from sklearn.model_selection import train_test_split\n",
        "from sklearn.metrics import accuracy_score\n",
        "X_train, X_test, y_train, y_test = train_test_split(X, y, test_size=0.2)"
      ]
    },
    {
      "cell_type": "code",
      "execution_count": null,
      "metadata": {
        "colab": {
          "base_uri": "https://localhost:8080/"
        },
        "id": "1tfAhHO__ox8",
        "outputId": "49ea917e-6b36-4dfd-dea4-fd2cce24f8c9"
      },
      "outputs": [
        {
          "output_type": "stream",
          "name": "stdout",
          "text": [
            "(1680, 33)\n",
            "(1680,)\n"
          ]
        }
      ],
      "source": [
        "print(X.shape)\n",
        "print(y.shape)"
      ]
    },
    {
      "cell_type": "code",
      "execution_count": null,
      "metadata": {
        "id": "WVUqQsWibBSd"
      },
      "outputs": [],
      "source": [
        "from pandas import read_csv\n",
        "from keras.models import Sequential\n",
        "from keras.layers import Dense\n",
        "from keras.wrappers.scikit_learn import KerasClassifier\n",
        "from sklearn.model_selection import cross_val_score\n",
        "from sklearn.model_selection import StratifiedKFold\n",
        "from tensorflow.keras.optimizers import Adam\n",
        "\n",
        "# baseline model\n",
        "def create_baseline(learning_rate = 0.01):\n",
        "\t# create model\n",
        "  model = Sequential()\n",
        "  model.add(Dense(33, input_dim=33, activation='relu'))\n",
        "  model.add(Dense(10, activation='relu'))\n",
        "  model.add(Dense(1, activation='sigmoid'))\n",
        "\t# Compile model\n",
        "  optimizer = Adam(learning_rate = learning_rate)\n",
        "  model.compile(loss='binary_crossentropy', optimizer=optimizer, metrics=['accuracy'])\n",
        "  return model\n",
        "\n"
      ]
    },
    {
      "cell_type": "code",
      "source": [
        "# estimator = KerasClassifier(build_fn=create_baseline, epochs=100, batch_size=5, verbose=0)\n",
        "# kfold = StratifiedKFold(n_splits=5, shuffle=True)\n",
        "# results = cross_val_score(estimator, X, y, cv=kfold)\n",
        "# print(\"Baseline: %.2f%% (%.2f%%)\" % (results.mean()*100, results.std()*100))"
      ],
      "metadata": {
        "id": "ggCP2WtZ6YRv"
      },
      "execution_count": null,
      "outputs": []
    },
    {
      "cell_type": "code",
      "source": [
        "#batch_size = [20, 50, 75]\n",
        "#epochs = [25, 50, 75]\n",
        "# optimizer = ['SGD', 'RMSprop', 'Adagrad', 'Adadelta', 'Adam', 'Adamax', 'Nadam']\n",
        "#optimizer = ['SGD', 'Adagrad','Adam', 'Adamax']\n",
        "learn_rate = [0.001, 0.01, 0.1, 0.2, 0.3]\n",
        "momentum = [0.0, 0.2, 0.4, 0.6, 0.8, 0.9]\n",
        "#init_mode = ['uniform', 'lecun_uniform', 'normal', 'zero', 'glorot_normal', 'glorot_uniform', 'he_normal', 'he_uniform']\n",
        "#activation = ['softmax', 'softplus', 'softsign', 'relu', 'tanh', 'sigmoid', 'hard_sigmoid', 'linear']\n",
        "#activation = ['softmax', 'relu', 'tanh', 'sigmoid', 'linear']\n",
        "#weight_constraint = [1, 3, 5]\n",
        "#dropout_rate = [0.0, 0.4, 0.8]\n",
        "#neurons = [5, 10, 20]\n",
        "#hidden_layers = [1, 2, 3]\n"
      ],
      "metadata": {
        "id": "dG9XFD5jHXAG"
      },
      "execution_count": null,
      "outputs": []
    },
    {
      "cell_type": "code",
      "source": [
        "estimator = KerasClassifier(build_fn=create_baseline, epochs=100, batch_size=5, verbose=0)\n",
        "param_grid = dict(learning_rate = learn_rate)\n",
        "grid = RandomizedSearchCV(estimator=estimator, param_distributions=param_grid, n_jobs=-1, cv=5, random_state = 42)\n",
        "grid.fit(X_train, y_train)"
      ],
      "metadata": {
        "id": "qFTUh6GVNAMl",
        "colab": {
          "base_uri": "https://localhost:8080/"
        },
        "outputId": "3844f035-23e0-45cb-e5dd-5a0c84833eaf"
      },
      "execution_count": null,
      "outputs": [
        {
          "output_type": "stream",
          "name": "stderr",
          "text": [
            "/usr/local/lib/python3.7/dist-packages/ipykernel_launcher.py:1: DeprecationWarning: KerasClassifier is deprecated, use Sci-Keras (https://github.com/adriangb/scikeras) instead. See https://www.adriangb.com/scikeras/stable/migration.html for help migrating.\n",
            "  \"\"\"Entry point for launching an IPython kernel.\n",
            "/usr/local/lib/python3.7/dist-packages/sklearn/model_selection/_search.py:296: UserWarning: The total space of parameters 5 is smaller than n_iter=10. Running 5 iterations. For exhaustive searches, use GridSearchCV.\n",
            "  UserWarning,\n"
          ]
        }
      ]
    },
    {
      "cell_type": "code",
      "source": [
        "print(grid.best_params_)"
      ],
      "metadata": {
        "colab": {
          "base_uri": "https://localhost:8080/"
        },
        "id": "IkPmziDxndtA",
        "outputId": "95541154-d302-470f-815f-3ad0dda97cd4"
      },
      "execution_count": null,
      "outputs": [
        {
          "output_type": "stream",
          "name": "stdout",
          "text": [
            "{'learning_rate': 0.001}\n"
          ]
        }
      ]
    },
    {
      "cell_type": "code",
      "source": [
        "grid_pred = grid.predict(X_test) \n",
        "   \n",
        "# print classification report\n",
        "from sklearn.metrics import classification_report\n",
        "print(classification_report(y_test, grid_pred))"
      ],
      "metadata": {
        "colab": {
          "base_uri": "https://localhost:8080/"
        },
        "id": "xJ95w3QIoy0P",
        "outputId": "28a48816-30bc-42ff-859d-c21776449517"
      },
      "execution_count": null,
      "outputs": [
        {
          "output_type": "stream",
          "name": "stdout",
          "text": [
            "              precision    recall  f1-score   support\n",
            "\n",
            "         0.0       0.78      0.89      0.83       161\n",
            "         1.0       0.89      0.77      0.83       175\n",
            "\n",
            "    accuracy                           0.83       336\n",
            "   macro avg       0.84      0.83      0.83       336\n",
            "weighted avg       0.84      0.83      0.83       336\n",
            "\n"
          ]
        }
      ]
    },
    {
      "cell_type": "code",
      "source": [
        "print('Accuracy : '+str(accuracy_score(y_test, grid_pred)))"
      ],
      "metadata": {
        "colab": {
          "base_uri": "https://localhost:8080/"
        },
        "id": "oOxyEdULpDE1",
        "outputId": "07646e3a-86dc-4aaf-b497-c18c5392f573"
      },
      "execution_count": null,
      "outputs": [
        {
          "output_type": "stream",
          "name": "stdout",
          "text": [
            "Accuracy : 0.8303571428571429\n"
          ]
        }
      ]
    },
    {
      "cell_type": "code",
      "execution_count": null,
      "metadata": {
        "id": "BDhdpG2ZtZPL"
      },
      "outputs": [],
      "source": [
        "# import numpy as np\n",
        "# import sklearn.metrics\n",
        "\n",
        "# \"\"\"\n",
        "# Python compute equal error rate (eer)\n",
        "# ONLY tested on binary classification\n",
        "\n",
        "# :param label: ground-truth label, should be a 1-d list or np.array, each element represents the ground-truth label of one sample\n",
        "# :param pred: model prediction, should be a 1-d list or np.array, each element represents the model prediction of one sample\n",
        "# :param positive_label: the class that is viewed as positive class when computing EER\n",
        "# :return: equal error rate (EER)\n",
        "# \"\"\"\n",
        "# def compute_eer(label, pred, positive_label=1):\n",
        "#     # all fpr, tpr, fnr, fnr, threshold are lists (in the format of np.array)\n",
        "#     fpr, tpr, threshold = sklearn.metrics.roc_curve(label, pred, pos_label = positive_label)\n",
        "#     fnr = 1 - tpr\n",
        "\n",
        "#     # the threshold of fnr == fpr\n",
        "#     eer_threshold = threshold[np.nanargmin(np.absolute((fnr - fpr)))]\n",
        "\n",
        "#     # theoretically eer from fpr and eer from fnr should be identical but they can be slightly differ in reality\n",
        "#     eer_1 = fpr[np.nanargmin(np.absolute((fnr - fpr)))]\n",
        "#     eer_2 = fnr[np.nanargmin(np.absolute((fnr - fpr)))]\n",
        "\n",
        "#     # return the mean of eer from fpr and from fnr\n",
        "#     eer = (eer_1 + eer_2) / 2\n",
        "#     return eer"
      ]
    },
    {
      "cell_type": "code",
      "execution_count": null,
      "metadata": {
        "id": "IJegWG9jtaUA"
      },
      "outputs": [],
      "source": [
        "# # label = [1, 1, 0, 0, 1]\n",
        "# # prediction = [0.3, 0.1, 0.4, 0.8, 0.9]\n",
        "# estimator.fit(X_train, y_train)\n",
        "# y_pred = estimator.predict(X_test)\n",
        "# eer = compute_eer(y_test, y_pred, positive_label = 1)\n",
        "# print('The equal error rate is {:.3f}'.format(eer))"
      ]
    },
    {
      "cell_type": "code",
      "execution_count": null,
      "metadata": {
        "id": "b-_GoCdVqbve"
      },
      "outputs": [],
      "source": [
        "# from sklearn.metrics import classification_report\n",
        "# print(classification_report(y_test, y_pred))"
      ]
    },
    {
      "cell_type": "code",
      "execution_count": null,
      "metadata": {
        "id": "C-lky_4Jyeh-"
      },
      "outputs": [],
      "source": [
        "# from sklearn.metrics import confusion_matrix\n",
        "# cm = confusion_matrix(y_test, y_pred)\n",
        "# print(cm)"
      ]
    },
    {
      "cell_type": "markdown",
      "source": [
        "## Neural network"
      ],
      "metadata": {
        "id": "0PmL258F_uZu"
      }
    },
    {
      "cell_type": "code",
      "source": [
        "X = main[:,0:-1]\n",
        "y = main[:,-1]"
      ],
      "metadata": {
        "id": "HWJyNAH5_wfj"
      },
      "execution_count": null,
      "outputs": []
    },
    {
      "cell_type": "code",
      "source": [
        "from sklearn.model_selection import train_test_split\n",
        "from sklearn.metrics import accuracy_score\n",
        "X_train, X_test, y_train, y_test = train_test_split(X, y, test_size=0.2)"
      ],
      "metadata": {
        "id": "9-sMpGpC_xf2"
      },
      "execution_count": null,
      "outputs": []
    },
    {
      "cell_type": "code",
      "source": [
        "from pandas import read_csv\n",
        "from keras.models import Sequential\n",
        "from keras.layers import Dense\n",
        "from keras.wrappers.scikit_learn import KerasClassifier\n",
        "from sklearn.model_selection import cross_val_score\n",
        "from sklearn.model_selection import StratifiedKFold\n",
        "from tensorflow.keras.optimizers import Adam\n",
        "\n",
        "# baseline model\n",
        "def create_baseline(learning_rate = 0.01):\n",
        "\t# create model\n",
        "  model = Sequential()\n",
        "  model.add(Dense(33, input_dim=33, activation='relu'))\n",
        "  model.add(Dense(10, activation='relu'))\n",
        "  model.add(Dense(1, activation='sigmoid'))\n",
        "\t# Compile model\n",
        "  optimizer = Adam(learning_rate = learning_rate)\n",
        "  model.compile(loss='binary_crossentropy', optimizer=optimizer, metrics=['accuracy'])\n",
        "  return model"
      ],
      "metadata": {
        "id": "Cq4wOF3u_1V6"
      },
      "execution_count": null,
      "outputs": []
    },
    {
      "cell_type": "code",
      "source": [
        "estimator = KerasClassifier(build_fn=create_baseline, epochs=100, batch_size=5, verbose=0)\n",
        "kfold = StratifiedKFold(n_splits=5, shuffle=True)\n",
        "results = cross_val_score(estimator, X, y, cv=kfold)\n",
        "print(\"Baseline: %.2f%% (%.2f%%)\" % (results.mean()*100, results.std()*100))"
      ],
      "metadata": {
        "colab": {
          "base_uri": "https://localhost:8080/"
        },
        "id": "HDqqqqHcABnu",
        "outputId": "76a98674-9018-4549-e0a5-be92da625555"
      },
      "execution_count": null,
      "outputs": [
        {
          "output_type": "stream",
          "name": "stderr",
          "text": [
            "/usr/local/lib/python3.7/dist-packages/ipykernel_launcher.py:1: DeprecationWarning: KerasClassifier is deprecated, use Sci-Keras (https://github.com/adriangb/scikeras) instead. See https://www.adriangb.com/scikeras/stable/migration.html for help migrating.\n",
            "  \"\"\"Entry point for launching an IPython kernel.\n"
          ]
        },
        {
          "output_type": "stream",
          "name": "stdout",
          "text": [
            "Baseline: 82.38% (2.29%)\n"
          ]
        }
      ]
    },
    {
      "cell_type": "code",
      "source": [
        "import numpy as np\n",
        "import sklearn.metrics\n",
        "\n",
        "\"\"\"\n",
        "Python compute equal error rate (eer)\n",
        "ONLY tested on binary classification\n",
        "\n",
        ":param label: ground-truth label, should be a 1-d list or np.array, each element represents the ground-truth label of one sample\n",
        ":param pred: model prediction, should be a 1-d list or np.array, each element represents the model prediction of one sample\n",
        ":param positive_label: the class that is viewed as positive class when computing EER\n",
        ":return: equal error rate (EER)\n",
        "\"\"\"\n",
        "def compute_eer(label, pred, positive_label=1):\n",
        "    # all fpr, tpr, fnr, fnr, threshold are lists (in the format of np.array)\n",
        "    fpr, tpr, threshold = sklearn.metrics.roc_curve(label, pred, pos_label = positive_label)\n",
        "    fnr = 1 - tpr\n",
        "\n",
        "    # the threshold of fnr == fpr\n",
        "    eer_threshold = threshold[np.nanargmin(np.absolute((fnr - fpr)))]\n",
        "\n",
        "    # theoretically eer from fpr and eer from fnr should be identical but they can be slightly differ in reality\n",
        "    eer_1 = fpr[np.nanargmin(np.absolute((fnr - fpr)))]\n",
        "    eer_2 = fnr[np.nanargmin(np.absolute((fnr - fpr)))]\n",
        "\n",
        "    # return the mean of eer from fpr and from fnr\n",
        "    eer = (eer_1 + eer_2) / 2\n",
        "    return eer"
      ],
      "metadata": {
        "id": "J4bDOBZsAhPU"
      },
      "execution_count": null,
      "outputs": []
    },
    {
      "cell_type": "code",
      "source": [
        "estimator.fit(X_train, y_train)\n",
        "y_pred = estimator.predict(X_test)\n",
        "eer = compute_eer(y_test, y_pred, positive_label = 1)\n",
        "print(\"EER: \", eer)"
      ],
      "metadata": {
        "colab": {
          "base_uri": "https://localhost:8080/"
        },
        "id": "gni8D6BzAkh6",
        "outputId": "82a003ae-3f30-4065-8e4f-d05919d7a1c2"
      },
      "execution_count": null,
      "outputs": [
        {
          "output_type": "stream",
          "name": "stdout",
          "text": [
            "EER:  0.15191510470183894\n"
          ]
        }
      ]
    },
    {
      "cell_type": "code",
      "source": [
        "eer = compute_eer(y_test, y_pred, positive_label = 1)\n",
        "print(\"EER: \", eer)"
      ],
      "metadata": {
        "id": "o0ZXHH-8bq6V"
      },
      "execution_count": null,
      "outputs": []
    },
    {
      "cell_type": "code",
      "source": [
        "from sklearn.metrics import confusion_matrix\n",
        "cm = confusion_matrix(y_test, y_pred)\n",
        "print(cm)"
      ],
      "metadata": {
        "colab": {
          "base_uri": "https://localhost:8080/"
        },
        "id": "rVLseGh1bjm7",
        "outputId": "3e94135f-58c6-479f-a5ad-a8d120e07af5"
      },
      "execution_count": null,
      "outputs": [
        {
          "output_type": "stream",
          "name": "stdout",
          "text": [
            "[[147  22]\n",
            " [ 29 138]]\n"
          ]
        }
      ]
    },
    {
      "cell_type": "code",
      "source": [
        "from sklearn.metrics import classification_report\n",
        "print(classification_report(y_test, y_pred))"
      ],
      "metadata": {
        "colab": {
          "base_uri": "https://localhost:8080/"
        },
        "id": "m0HZH4eCBKTG",
        "outputId": "e0750cfa-ae26-4979-8bff-e1c96de84653"
      },
      "execution_count": null,
      "outputs": [
        {
          "output_type": "stream",
          "name": "stdout",
          "text": [
            "              precision    recall  f1-score   support\n",
            "\n",
            "         0.0       0.84      0.87      0.85       169\n",
            "         1.0       0.86      0.83      0.84       167\n",
            "\n",
            "    accuracy                           0.85       336\n",
            "   macro avg       0.85      0.85      0.85       336\n",
            "weighted avg       0.85      0.85      0.85       336\n",
            "\n"
          ]
        }
      ]
    },
    {
      "cell_type": "markdown",
      "metadata": {
        "id": "F2I9UrUuobRr"
      },
      "source": [
        "## SVM"
      ]
    },
    {
      "cell_type": "code",
      "execution_count": null,
      "metadata": {
        "id": "M9TOcJB9odZ_"
      },
      "outputs": [],
      "source": [
        "from sklearn.svm import SVC\n",
        "from sklearn.model_selection import train_test_split\n",
        "from sklearn.metrics import plot_confusion_matrix as pcm\n",
        "from sklearn.model_selection import cross_val_score\n",
        "from sklearn.model_selection import StratifiedKFold"
      ]
    },
    {
      "cell_type": "code",
      "execution_count": null,
      "metadata": {
        "id": "TAUAsFUmpc9y"
      },
      "outputs": [],
      "source": [
        "X = main[:,0:-1]\n",
        "y = main[:,-1]\n",
        "X_train, X_test, y_train, y_test = train_test_split(X, y, test_size=0.2)"
      ]
    },
    {
      "cell_type": "code",
      "execution_count": null,
      "metadata": {
        "colab": {
          "base_uri": "https://localhost:8080/"
        },
        "id": "39w9JCTSpXh8",
        "outputId": "a8a1222d-574e-4c87-fc79-e6afb7f56ed2"
      },
      "outputs": [
        {
          "output_type": "stream",
          "name": "stdout",
          "text": [
            "Baseline: 80.83% (0.99%)\n"
          ]
        }
      ],
      "source": [
        "estimator = SVC()\n",
        "kfold = StratifiedKFold(n_splits=5, shuffle=True)\n",
        "results = cross_val_score(estimator, X, y, cv=kfold)\n",
        "print(\"Baseline: %.2f%% (%.2f%%)\" % (results.mean()*100, results.std()*100))"
      ]
    },
    {
      "cell_type": "code",
      "source": [
        "# Building the Support Vector Machine and evaluating it’s performance\n",
        "\n",
        "# Building the SVM model\n",
        "svmclf = SVC()\n",
        "svmclf.fit(X_train, y_train)\n",
        "  \n",
        "# Storing the predictions of the non-linear model\n",
        "y_pred_svmclf = svmclf.predict(X_test)\n",
        "  \n",
        "# Evaluating the performance of the non-linear model\n",
        "print('Accuracy : '+str(accuracy_score(y_test, y_pred_svmclf)))"
      ],
      "metadata": {
        "colab": {
          "base_uri": "https://localhost:8080/"
        },
        "id": "le35roNlVJQb",
        "outputId": "22789292-d97b-44a7-8b53-9e60daa33621"
      },
      "execution_count": null,
      "outputs": [
        {
          "output_type": "stream",
          "name": "stdout",
          "text": [
            "Accuracy : 0.8422619047619048\n"
          ]
        }
      ]
    },
    {
      "cell_type": "code",
      "execution_count": null,
      "metadata": {
        "colab": {
          "base_uri": "https://localhost:8080/",
          "height": 319
        },
        "id": "91WTfpY-pvF2",
        "outputId": "449364ca-4fb4-4bd4-e98a-98e31ee4f479"
      },
      "outputs": [
        {
          "output_type": "stream",
          "name": "stdout",
          "text": [
            "EER:  0.15739130434782606\n",
            "<sklearn.metrics._plot.confusion_matrix.ConfusionMatrixDisplay object at 0x7fe9acae89d0>\n"
          ]
        },
        {
          "output_type": "display_data",
          "data": {
            "image/png": "[encoded data removed]",
            "text/plain": [
              "<Figure size 432x288 with 2 Axes>"
            ]
          },
          "metadata": {}
        }
      ],
      "source": [
        "estimator.fit(X_train, y_train)\n",
        "y_pred = estimator.predict(X_test)\n",
        "eer = compute_eer(y_test, y_pred, positive_label = 1)\n",
        "print(\"EER: \", eer)\n",
        "cm = pcm(estimator, X_test, y_test)\n",
        "print(cm)"
      ]
    },
    {
      "cell_type": "code",
      "execution_count": null,
      "metadata": {
        "id": "-LC5Z9vUqBg5",
        "colab": {
          "base_uri": "https://localhost:8080/"
        },
        "outputId": "5f9fc1ee-9bcf-4997-cdae-d24157aeaa5f"
      },
      "outputs": [
        {
          "output_type": "stream",
          "name": "stdout",
          "text": [
            "              precision    recall  f1-score   support\n",
            "\n",
            "         0.0       0.86      0.83      0.85       175\n",
            "         1.0       0.83      0.85      0.84       161\n",
            "\n",
            "    accuracy                           0.84       336\n",
            "   macro avg       0.84      0.84      0.84       336\n",
            "weighted avg       0.84      0.84      0.84       336\n",
            "\n"
          ]
        }
      ],
      "source": [
        "from sklearn.metrics import classification_report\n",
        "print(classification_report(y_test, y_pred))"
      ]
    },
    {
      "cell_type": "markdown",
      "source": [
        "## Random Forest (GridSearchCV)"
      ],
      "metadata": {
        "id": "KCtsI9rJL4b8"
      }
    },
    {
      "cell_type": "code",
      "source": [
        "from sklearn.ensemble import RandomForestClassifier\n",
        "from sklearn.metrics import plot_confusion_matrix as pcm\n",
        "from sklearn.model_selection import GridSearchCV\n",
        "from sklearn.model_selection import RandomizedSearchCV"
      ],
      "metadata": {
        "id": "XZ-onMEQU2w3"
      },
      "execution_count": null,
      "outputs": []
    },
    {
      "cell_type": "code",
      "source": [
        "X = main[:,0:-1]\n",
        "y = main[:,-1]\n",
        "X_train, X_test, y_train, y_test = train_test_split(X, y, test_size=0.2)"
      ],
      "metadata": {
        "id": "LfT5obYpL-YT"
      },
      "execution_count": null,
      "outputs": []
    },
    {
      "cell_type": "code",
      "source": [
        "from sklearn.model_selection import RandomizedSearchCV\n",
        "# Number of trees in random forest\n",
        "n_estimators = [50, 100, 250, 500]\n",
        "# Number of features to consider at every split\n",
        "max_features = ['auto', 'sqrt']\n",
        "# Maximum number of levels in tree\n",
        "max_depth = [2, 5, 7, 10]\n",
        "# Minimum number of samples required to split a node\n",
        "min_samples_split = [2, 5, 10]\n",
        "# Minimum number of samples required at each leaf node\n",
        "min_samples_leaf = [1, 2, 4]\n",
        "# Method of selecting samples for training each tree\n",
        "bootstrap = [True, False]"
      ],
      "metadata": {
        "id": "pptHzFrPNDpg"
      },
      "execution_count": null,
      "outputs": []
    },
    {
      "cell_type": "code",
      "source": [
        "random_grid = {'n_estimators': n_estimators,\n",
        "               'max_features': max_features,\n",
        "               'max_depth': max_depth,\n",
        "               'min_samples_split': min_samples_split,\n",
        "               'min_samples_leaf': min_samples_leaf,\n",
        "               'bootstrap': bootstrap}"
      ],
      "metadata": {
        "id": "4CIMaqHJMRM2"
      },
      "execution_count": null,
      "outputs": []
    },
    {
      "cell_type": "code",
      "source": [
        "rf = RandomForestClassifier() "
      ],
      "metadata": {
        "id": "zucPnNkxMGSG"
      },
      "execution_count": null,
      "outputs": []
    },
    {
      "cell_type": "code",
      "source": [
        "grid = RandomizedSearchCV(estimator=rf, param_distributions=random_grid, n_jobs=-1, cv=5, random_state = 42)\n",
        "grid.fit(X_train, y_train)\n",
        "print(grid.best_params_)"
      ],
      "metadata": {
        "colab": {
          "base_uri": "https://localhost:8080/"
        },
        "id": "ieqwod7xL_Mp",
        "outputId": "9300431c-0706-40d2-c2f8-20bbc5276df1"
      },
      "execution_count": null,
      "outputs": [
        {
          "output_type": "stream",
          "name": "stdout",
          "text": [
            "{'n_estimators': 500, 'min_samples_split': 5, 'min_samples_leaf': 1, 'max_features': 'sqrt', 'max_depth': 10, 'bootstrap': True}\n"
          ]
        }
      ]
    },
    {
      "cell_type": "code",
      "source": [
        "grid.fit(X_train, y_train)\n",
        "grid_pred = grid.predict(X_test) \n",
        "   \n",
        "# print classification report\n",
        "from sklearn.metrics import classification_report\n",
        "print(classification_report(y_test, grid_pred))\n",
        "print('Accuracy : '+str(accuracy_score(y_test, grid_pred)))"
      ],
      "metadata": {
        "colab": {
          "base_uri": "https://localhost:8080/"
        },
        "id": "jpd5x6JFOlfz",
        "outputId": "d583c8bb-9f71-43f8-b3a4-bc45910c78da"
      },
      "execution_count": null,
      "outputs": [
        {
          "output_type": "stream",
          "name": "stdout",
          "text": [
            "              precision    recall  f1-score   support\n",
            "\n",
            "         0.0       0.77      0.81      0.79       175\n",
            "         1.0       0.78      0.73      0.76       161\n",
            "\n",
            "    accuracy                           0.77       336\n",
            "   macro avg       0.77      0.77      0.77       336\n",
            "weighted avg       0.77      0.77      0.77       336\n",
            "\n",
            "Accuracy : 0.7738095238095238\n"
          ]
        }
      ]
    },
    {
      "cell_type": "markdown",
      "metadata": {
        "id": "_T_LAotcohVS"
      },
      "source": [
        "## Random Forest"
      ]
    },
    {
      "cell_type": "code",
      "execution_count": null,
      "metadata": {
        "id": "d1wZeG11q00C"
      },
      "outputs": [],
      "source": [
        "from sklearn.ensemble import RandomForestClassifier\n",
        "from sklearn.metrics import plot_confusion_matrix as pcm"
      ]
    },
    {
      "cell_type": "code",
      "execution_count": null,
      "metadata": {
        "id": "hPC4zJyOq2Bt"
      },
      "outputs": [],
      "source": [
        "X = main[:,0:-1]\n",
        "y = main[:,-1]\n",
        "X_train, X_test, y_train, y_test = train_test_split(X, y, test_size=0.2)"
      ]
    },
    {
      "cell_type": "code",
      "execution_count": null,
      "metadata": {
        "colab": {
          "base_uri": "https://localhost:8080/"
        },
        "id": "Z91q1auxq54s",
        "outputId": "edeb415d-c674-425d-c989-c03bd5f5292c"
      },
      "outputs": [
        {
          "output_type": "stream",
          "name": "stdout",
          "text": [
            "Baseline: 80.06% (2.61%)\n"
          ]
        }
      ],
      "source": [
        "estimator = RandomForestClassifier(n_estimators = 500, min_samples_split = 5, min_samples_leaf = 1, max_features = 'sqrt', max_depth = 10, bootstrap = True)\n",
        "kfold = StratifiedKFold(n_splits=5, shuffle=True)\n",
        "results = cross_val_score(estimator, X, y, cv=kfold)\n",
        "print(\"Baseline: %.2f%% (%.2f%%)\" % (results.mean()*100, results.std()*100))"
      ]
    },
    {
      "cell_type": "code",
      "execution_count": null,
      "metadata": {
        "colab": {
          "base_uri": "https://localhost:8080/",
          "height": 368
        },
        "id": "8TMr6fKQq7yq",
        "outputId": "bb5087d4-88b0-4109-9b4c-3d53922a4681"
      },
      "outputs": [
        {
          "output_type": "stream",
          "name": "stdout",
          "text": [
            "EER:  0.2216900808854832\n",
            "<sklearn.metrics._plot.confusion_matrix.ConfusionMatrixDisplay object at 0x7ffa3acdf390>\n"
          ]
        },
        {
          "output_type": "stream",
          "name": "stderr",
          "text": [
            "/usr/local/lib/python3.7/dist-packages/sklearn/utils/deprecation.py:87: FutureWarning: Function plot_confusion_matrix is deprecated; Function `plot_confusion_matrix` is deprecated in 1.0 and will be removed in 1.2. Use one of the class methods: ConfusionMatrixDisplay.from_predictions or ConfusionMatrixDisplay.from_estimator.\n",
            "  warnings.warn(msg, category=FutureWarning)\n"
          ]
        },
        {
          "output_type": "display_data",
          "data": {
            "image/png": "[encoded data removed]",
            "text/plain": [
              "<Figure size 432x288 with 2 Axes>"
            ]
          },
          "metadata": {
            "needs_background": "light"
          }
        }
      ],
      "source": [
        "estimator.fit(X_train, y_train)\n",
        "y_pred = estimator.predict(X_test)\n",
        "eer = compute_eer(y_test, y_pred, positive_label = 1)\n",
        "print(\"EER: \", eer)\n",
        "cm = pcm(estimator, X_test, y_test)\n",
        "print(cm)"
      ]
    },
    {
      "cell_type": "code",
      "execution_count": null,
      "metadata": {
        "colab": {
          "base_uri": "https://localhost:8080/"
        },
        "id": "7yOLcFwCq8C9",
        "outputId": "beeea591-2646-4a53-a370-f69794a10922"
      },
      "outputs": [
        {
          "output_type": "stream",
          "name": "stdout",
          "text": [
            "              precision    recall  f1-score   support\n",
            "\n",
            "         0.0       0.74      0.82      0.78       162\n",
            "         1.0       0.82      0.74      0.77       174\n",
            "\n",
            "    accuracy                           0.78       336\n",
            "   macro avg       0.78      0.78      0.78       336\n",
            "weighted avg       0.78      0.78      0.78       336\n",
            "\n"
          ]
        }
      ],
      "source": [
        "from sklearn.metrics import classification_report\n",
        "print(classification_report(y_test, y_pred))"
      ]
    },
    {
      "cell_type": "code",
      "execution_count": null,
      "metadata": {
        "id": "Zr6CFA2Br2Wy"
      },
      "outputs": [],
      "source": [
        "# imp = rf.feature_importances_\n",
        "# print(imp[:10])"
      ]
    },
    {
      "cell_type": "markdown",
      "metadata": {
        "id": "2l2rFbLpoU0w"
      },
      "source": [
        "## Logistic Regression"
      ]
    },
    {
      "cell_type": "code",
      "execution_count": null,
      "metadata": {
        "id": "RqRt2MOYoYVL"
      },
      "outputs": [],
      "source": [
        "from sklearn.linear_model import LogisticRegression"
      ]
    },
    {
      "cell_type": "code",
      "execution_count": null,
      "metadata": {
        "id": "kavPrszvo3Pm"
      },
      "outputs": [],
      "source": [
        "X = main[:,0:-1]\n",
        "y = main[:,-1]\n",
        "X_train, X_test, y_train, y_test = train_test_split(X, y, test_size=0.2)"
      ]
    },
    {
      "cell_type": "code",
      "execution_count": null,
      "metadata": {
        "colab": {
          "base_uri": "https://localhost:8080/"
        },
        "id": "-IRRv3Gfo_Qh",
        "outputId": "b572c256-99d7-4918-b74e-edc4184cc264"
      },
      "outputs": [
        {
          "name": "stdout",
          "output_type": "stream",
          "text": [
            "Baseline: 68.10% (1.57%)\n"
          ]
        }
      ],
      "source": [
        "estimator = LogisticRegression()\n",
        "kfold = StratifiedKFold(n_splits=5, shuffle=True)\n",
        "results = cross_val_score(estimator, X, y, cv=kfold)\n",
        "print(\"Baseline: %.2f%% (%.2f%%)\" % (results.mean()*100, results.std()*100))"
      ]
    },
    {
      "cell_type": "code",
      "execution_count": null,
      "metadata": {
        "colab": {
          "base_uri": "https://localhost:8080/",
          "height": 367
        },
        "id": "ObgKEYSwp_tL",
        "outputId": "80822edb-c76f-4aeb-a3c0-f0610eb23bb5"
      },
      "outputs": [
        {
          "name": "stdout",
          "output_type": "stream",
          "text": [
            "EER:  0.3230113636363636\n",
            "<sklearn.metrics._plot.confusion_matrix.ConfusionMatrixDisplay object at 0x7f034e055c10>\n"
          ]
        },
        {
          "name": "stderr",
          "output_type": "stream",
          "text": [
            "/usr/local/lib/python3.7/dist-packages/sklearn/utils/deprecation.py:87: FutureWarning: Function plot_confusion_matrix is deprecated; Function `plot_confusion_matrix` is deprecated in 1.0 and will be removed in 1.2. Use one of the class methods: ConfusionMatrixDisplay.from_predictions or ConfusionMatrixDisplay.from_estimator.\n",
            "  warnings.warn(msg, category=FutureWarning)\n"
          ]
        },
        {
          "data": {
            "image/png": "[encoded data removed]",
            "text/plain": [
              "<Figure size 432x288 with 2 Axes>"
            ]
          },
          "metadata": {},
          "output_type": "display_data"
        }
      ],
      "source": [
        "estimator.fit(X_train, y_train)\n",
        "y_pred = estimator.predict(X_test)\n",
        "eer = compute_eer(y_test, y_pred, positive_label = 1)\n",
        "print(\"EER: \", eer)\n",
        "cm = pcm(estimator, X_test, y_test)\n",
        "print(cm)"
      ]
    },
    {
      "cell_type": "code",
      "execution_count": null,
      "metadata": {
        "colab": {
          "base_uri": "https://localhost:8080/"
        },
        "id": "996tbm51qCTN",
        "outputId": "705126c9-1b11-4f86-8844-dc054a4ccc8c"
      },
      "outputs": [
        {
          "name": "stdout",
          "output_type": "stream",
          "text": [
            "              precision    recall  f1-score   support\n",
            "\n",
            "         0.0       0.71      0.65      0.68       176\n",
            "         1.0       0.65      0.71      0.67       160\n",
            "\n",
            "    accuracy                           0.68       336\n",
            "   macro avg       0.68      0.68      0.68       336\n",
            "weighted avg       0.68      0.68      0.68       336\n",
            "\n"
          ]
        }
      ],
      "source": [
        "from sklearn.metrics import classification_report\n",
        "print(classification_report(y_test, y_pred))"
      ]
    },
    {
      "cell_type": "markdown",
      "metadata": {
        "id": "9Ui8P00aGdcb"
      },
      "source": [
        "## Conditional VAE"
      ]
    },
    {
      "cell_type": "code",
      "execution_count": null,
      "metadata": {
        "colab": {
          "base_uri": "https://localhost:8080/"
        },
        "id": "FoeFsE6fGiiM",
        "outputId": "a7c31e37-2426-411c-da65-6d9d89b60d48"
      },
      "outputs": [
        {
          "output_type": "stream",
          "name": "stdout",
          "text": [
            "Populating the interactive namespace from numpy and matplotlib\n"
          ]
        }
      ],
      "source": [
        "import warnings\n",
        "import numpy as np\n",
        "from keras.layers import Input, Dense, Lambda\n",
        "from keras.layers.merge import concatenate as concat\n",
        "from keras.models import Model\n",
        "from keras import backend as K\n",
        "from keras.datasets import mnist\n",
        "from tensorflow.keras.utils import to_categorical\n",
        "from keras.callbacks import EarlyStopping\n",
        "from tensorflow.keras.optimizers import Adam\n",
        "# from scipy.misc import imsave\n",
        "import matplotlib.pyplot as plt\n",
        "\n",
        "warnings.filterwarnings('ignore')\n",
        "%pylab inline"
      ]
    },
    {
      "cell_type": "code",
      "execution_count": null,
      "metadata": {
        "id": "rYSbapGPGpyY"
      },
      "outputs": [],
      "source": [
        "X = main[:,0:-1]\n",
        "y = main[:,-1]\n",
        "# (X_train, Y_train), (X_test, Y_test) = mnist.load_data()"
      ]
    },
    {
      "cell_type": "code",
      "execution_count": null,
      "metadata": {
        "id": "3EI5fyMyGxz6"
      },
      "outputs": [],
      "source": [
        "from sklearn.model_selection import train_test_split\n",
        "X_train, X_test, Y_train, Y_test = train_test_split(X, y, test_size=0.2)\n",
        "# X_train = X_train.astype('float32') / 255.\n",
        "# X_test = X_test.astype('float32') / 255.\n",
        "\n",
        "# n_pixels = np.prod(X_train.shape[1:])\n",
        "# X_train = X_train.reshape((len(X_train), n_pixels))\n",
        "# X_test = X_test.reshape((len(X_test), n_pixels))\n"
      ]
    },
    {
      "cell_type": "code",
      "execution_count": null,
      "metadata": {
        "colab": {
          "base_uri": "https://localhost:8080/"
        },
        "id": "a5mmAdk6FBKE",
        "outputId": "a2e40ec2-04be-4923-c10c-c9be244aaa43"
      },
      "outputs": [
        {
          "output_type": "stream",
          "name": "stdout",
          "text": [
            "(1344, 33)\n",
            "(1344,)\n",
            "(336, 33)\n",
            "(336,)\n"
          ]
        }
      ],
      "source": [
        "print(X_train.shape)\n",
        "print(Y_train.shape)\n",
        "print(X_test.shape)\n",
        "print(Y_test.shape)"
      ]
    },
    {
      "cell_type": "code",
      "execution_count": null,
      "metadata": {
        "id": "wJCAK4HTHnL5"
      },
      "outputs": [],
      "source": [
        "y_train = to_categorical(Y_train)\n",
        "y_test = to_categorical(Y_test)"
      ]
    },
    {
      "cell_type": "code",
      "execution_count": null,
      "metadata": {
        "colab": {
          "base_uri": "https://localhost:8080/"
        },
        "id": "be5at-yYFB_J",
        "outputId": "f96439e2-b9a1-4652-ab00-89fe44a514a8"
      },
      "outputs": [
        {
          "output_type": "stream",
          "name": "stdout",
          "text": [
            "(1344, 33)\n",
            "(1344, 2)\n",
            "(336, 33)\n",
            "(336, 2)\n"
          ]
        }
      ],
      "source": [
        "print(X_train.shape)\n",
        "print(y_train.shape)\n",
        "print(X_test.shape)\n",
        "print(y_test.shape)"
      ]
    },
    {
      "cell_type": "code",
      "execution_count": null,
      "metadata": {
        "id": "ai0QTcPyIal_"
      },
      "outputs": [],
      "source": [
        "m = 250 # batch size\n",
        "n_z = 2 # latent space size\n",
        "encoder_dim1 = 512 # dim of encoder hidden layer\n",
        "decoder_dim = 512 # dim of decoder hidden layer\n",
        "decoder_out_dim = 784 # dim of decoder output layer\n",
        "activ = 'relu'\n",
        "optim = Adam(lr=0.001)\n",
        "\n",
        "\n",
        "n_x = X_train.shape[1]\n",
        "n_y = y_train.shape[1]\n",
        "\n",
        "\n",
        "n_epoch = 50"
      ]
    },
    {
      "cell_type": "code",
      "execution_count": null,
      "metadata": {
        "id": "ZH4_nsCRIlFE"
      },
      "outputs": [],
      "source": [
        "X = Input(shape=(n_x,))\n",
        "label = Input(shape=(n_y,))"
      ]
    },
    {
      "cell_type": "code",
      "execution_count": null,
      "metadata": {
        "id": "xNnkN0WEIv3W"
      },
      "outputs": [],
      "source": [
        "inputs = concat([X, label])"
      ]
    },
    {
      "cell_type": "code",
      "execution_count": null,
      "metadata": {
        "id": "HLX3PA6ZI3XM"
      },
      "outputs": [],
      "source": [
        "encoder_h = Dense(encoder_dim1, activation=activ)(inputs)\n",
        "mu = Dense(n_z, activation='linear')(encoder_h)\n",
        "l_sigma = Dense(n_z, activation='linear')(encoder_h)"
      ]
    },
    {
      "cell_type": "code",
      "execution_count": null,
      "metadata": {
        "id": "2uVZcITAJR67"
      },
      "outputs": [],
      "source": [
        "def sample_z(args):\n",
        "    mu, l_sigma = args\n",
        "    eps = K.random_normal(shape=(m, n_z), mean=0., stddev=1.)\n",
        "    return mu + K.exp(l_sigma / 2) * eps\n",
        "\n",
        "\n",
        "# Sampling latent space\n",
        "z = Lambda(sample_z, output_shape = (n_z, ))([mu, l_sigma])"
      ]
    },
    {
      "cell_type": "code",
      "execution_count": null,
      "metadata": {
        "id": "MDScwY0mJWED"
      },
      "outputs": [],
      "source": [
        "z = Lambda(sample_z, output_shape = (n_z, ))([mu, l_sigma])\n",
        "\n",
        "# merge latent space with label\n",
        "zc = concat([z, label])"
      ]
    },
    {
      "cell_type": "code",
      "execution_count": null,
      "metadata": {
        "id": "Ov8ufXXUJbA-"
      },
      "outputs": [],
      "source": [
        "decoder_hidden = Dense(decoder_dim, activation=activ)\n",
        "decoder_out = Dense(decoder_out_dim, activation='sigmoid')\n",
        "h_p = decoder_hidden(zc)\n",
        "outputs = decoder_out(h_p)"
      ]
    },
    {
      "cell_type": "code",
      "execution_count": null,
      "metadata": {
        "id": "XSNZj80XJeER"
      },
      "outputs": [],
      "source": [
        "def vae_loss(y_true, y_pred):\n",
        "    recon = K.sum(K.categorical_crossentropy(y_true, y_pred), axis=-1)\n",
        "    kl = 0.5 * K.sum(K.exp(l_sigma) + K.square(mu) - 1. - l_sigma, axis=-1)\n",
        "    return recon + kl\n",
        "\n",
        "def KL_loss(y_true, y_pred):\n",
        "\treturn(0.5 * K.sum(K.exp(l_sigma) + K.square(mu) - 1. - l_sigma, axis=1))\n",
        "\n",
        "def recon_loss(y_true, y_pred):\n",
        "\treturn K.sum(K.categorical_crossentropy(y_true, y_pred), axis=-1)"
      ]
    },
    {
      "cell_type": "code",
      "execution_count": null,
      "metadata": {
        "id": "bSFIqiTuJlul"
      },
      "outputs": [],
      "source": [
        "cvae = Model([X, label], outputs)\n",
        "encoder = Model([X, label], mu)\n",
        "\n",
        "d_in = Input(shape=(n_z+n_y,))\n",
        "d_h = decoder_hidden(d_in)\n",
        "d_out = decoder_out(d_h)\n",
        "decoder = Model(d_in, d_out)"
      ]
    },
    {
      "cell_type": "code",
      "execution_count": null,
      "metadata": {
        "id": "1z1QvoRsJmqf"
      },
      "outputs": [],
      "source": [
        "cvae.compile(optimizer=optim, loss='categorical_crossentropy', metrics = 'accuracy')"
      ]
    },
    {
      "cell_type": "code",
      "execution_count": null,
      "metadata": {
        "colab": {
          "base_uri": "https://localhost:8080/",
          "height": 749
        },
        "id": "a1DBOPdLjC_u",
        "outputId": "b548e91b-ae06-4ade-dd79-2c01b3f9dec0"
      },
      "outputs": [
        {
          "output_type": "stream",
          "name": "stdout",
          "text": [
            "Epoch 1/50\n"
          ]
        },
        {
          "output_type": "error",
          "ename": "ValueError",
          "evalue": "ignored",
          "traceback": [
            "\u001b[0;31m---------------------------------------------------------------------------\u001b[0m",
            "\u001b[0;31mValueError\u001b[0m                                Traceback (most recent call last)",
            "\u001b[0;32m<ipython-input-219-506d2c57f0e4>\u001b[0m in \u001b[0;36m<module>\u001b[0;34m()\u001b[0m\n\u001b[1;32m      1\u001b[0m cvae_hist = cvae.fit([X_train, y_train], X_train, verbose = 1, batch_size=m, epochs=n_epoch,\n\u001b[1;32m      2\u001b[0m                                                         \u001b[0mvalidation_data\u001b[0m \u001b[0;34m=\u001b[0m \u001b[0;34m(\u001b[0m\u001b[0;34m[\u001b[0m\u001b[0mX_test\u001b[0m\u001b[0;34m,\u001b[0m \u001b[0my_test\u001b[0m\u001b[0;34m]\u001b[0m\u001b[0;34m,\u001b[0m \u001b[0mX_test\u001b[0m\u001b[0;34m)\u001b[0m\u001b[0;34m,\u001b[0m\u001b[0;34m\u001b[0m\u001b[0;34m\u001b[0m\u001b[0m\n\u001b[0;32m----> 3\u001b[0;31m \t\t\t\t\t\t\tcallbacks = [EarlyStopping(patience = 5)])\n\u001b[0m",
            "\u001b[0;32m/usr/local/lib/python3.7/dist-packages/keras/utils/traceback_utils.py\u001b[0m in \u001b[0;36merror_handler\u001b[0;34m(*args, **kwargs)\u001b[0m\n\u001b[1;32m     65\u001b[0m     \u001b[0;32mexcept\u001b[0m \u001b[0mException\u001b[0m \u001b[0;32mas\u001b[0m \u001b[0me\u001b[0m\u001b[0;34m:\u001b[0m  \u001b[0;31m# pylint: disable=broad-except\u001b[0m\u001b[0;34m\u001b[0m\u001b[0;34m\u001b[0m\u001b[0m\n\u001b[1;32m     66\u001b[0m       \u001b[0mfiltered_tb\u001b[0m \u001b[0;34m=\u001b[0m \u001b[0m_process_traceback_frames\u001b[0m\u001b[0;34m(\u001b[0m\u001b[0me\u001b[0m\u001b[0;34m.\u001b[0m\u001b[0m__traceback__\u001b[0m\u001b[0;34m)\u001b[0m\u001b[0;34m\u001b[0m\u001b[0;34m\u001b[0m\u001b[0m\n\u001b[0;32m---> 67\u001b[0;31m       \u001b[0;32mraise\u001b[0m \u001b[0me\u001b[0m\u001b[0;34m.\u001b[0m\u001b[0mwith_traceback\u001b[0m\u001b[0;34m(\u001b[0m\u001b[0mfiltered_tb\u001b[0m\u001b[0;34m)\u001b[0m \u001b[0;32mfrom\u001b[0m \u001b[0;32mNone\u001b[0m\u001b[0;34m\u001b[0m\u001b[0;34m\u001b[0m\u001b[0m\n\u001b[0m\u001b[1;32m     68\u001b[0m     \u001b[0;32mfinally\u001b[0m\u001b[0;34m:\u001b[0m\u001b[0;34m\u001b[0m\u001b[0;34m\u001b[0m\u001b[0m\n\u001b[1;32m     69\u001b[0m       \u001b[0;32mdel\u001b[0m \u001b[0mfiltered_tb\u001b[0m\u001b[0;34m\u001b[0m\u001b[0;34m\u001b[0m\u001b[0m\n",
            "\u001b[0;32m/usr/local/lib/python3.7/dist-packages/tensorflow/python/framework/func_graph.py\u001b[0m in \u001b[0;36mautograph_handler\u001b[0;34m(*args, **kwargs)\u001b[0m\n\u001b[1;32m   1145\u001b[0m           \u001b[0;32mexcept\u001b[0m \u001b[0mException\u001b[0m \u001b[0;32mas\u001b[0m \u001b[0me\u001b[0m\u001b[0;34m:\u001b[0m  \u001b[0;31m# pylint:disable=broad-except\u001b[0m\u001b[0;34m\u001b[0m\u001b[0;34m\u001b[0m\u001b[0m\n\u001b[1;32m   1146\u001b[0m             \u001b[0;32mif\u001b[0m \u001b[0mhasattr\u001b[0m\u001b[0;34m(\u001b[0m\u001b[0me\u001b[0m\u001b[0;34m,\u001b[0m \u001b[0;34m\"ag_error_metadata\"\u001b[0m\u001b[0;34m)\u001b[0m\u001b[0;34m:\u001b[0m\u001b[0;34m\u001b[0m\u001b[0;34m\u001b[0m\u001b[0m\n\u001b[0;32m-> 1147\u001b[0;31m               \u001b[0;32mraise\u001b[0m \u001b[0me\u001b[0m\u001b[0;34m.\u001b[0m\u001b[0mag_error_metadata\u001b[0m\u001b[0;34m.\u001b[0m\u001b[0mto_exception\u001b[0m\u001b[0;34m(\u001b[0m\u001b[0me\u001b[0m\u001b[0;34m)\u001b[0m\u001b[0;34m\u001b[0m\u001b[0;34m\u001b[0m\u001b[0m\n\u001b[0m\u001b[1;32m   1148\u001b[0m             \u001b[0;32melse\u001b[0m\u001b[0;34m:\u001b[0m\u001b[0;34m\u001b[0m\u001b[0;34m\u001b[0m\u001b[0m\n\u001b[1;32m   1149\u001b[0m               \u001b[0;32mraise\u001b[0m\u001b[0;34m\u001b[0m\u001b[0;34m\u001b[0m\u001b[0m\n",
            "\u001b[0;31mValueError\u001b[0m: in user code:\n\n    File \"/usr/local/lib/python3.7/dist-packages/keras/engine/training.py\", line 1021, in train_function  *\n        return step_function(self, iterator)\n    File \"/usr/local/lib/python3.7/dist-packages/keras/engine/training.py\", line 1010, in step_function  **\n        outputs = model.distribute_strategy.run(run_step, args=(data,))\n    File \"/usr/local/lib/python3.7/dist-packages/keras/engine/training.py\", line 1000, in run_step  **\n        outputs = model.train_step(data)\n    File \"/usr/local/lib/python3.7/dist-packages/keras/engine/training.py\", line 860, in train_step\n        loss = self.compute_loss(x, y, y_pred, sample_weight)\n    File \"/usr/local/lib/python3.7/dist-packages/keras/engine/training.py\", line 919, in compute_loss\n        y, y_pred, sample_weight, regularization_losses=self.losses)\n    File \"/usr/local/lib/python3.7/dist-packages/keras/engine/compile_utils.py\", line 201, in __call__\n        loss_value = loss_obj(y_t, y_p, sample_weight=sw)\n    File \"/usr/local/lib/python3.7/dist-packages/keras/losses.py\", line 141, in __call__\n        losses = call_fn(y_true, y_pred)\n    File \"/usr/local/lib/python3.7/dist-packages/keras/losses.py\", line 245, in call  **\n        return ag_fn(y_true, y_pred, **self._fn_kwargs)\n    File \"/usr/local/lib/python3.7/dist-packages/keras/losses.py\", line 1790, in categorical_crossentropy\n        y_true, y_pred, from_logits=from_logits, axis=axis)\n    File \"/usr/local/lib/python3.7/dist-packages/keras/backend.py\", line 5083, in categorical_crossentropy\n        target.shape.assert_is_compatible_with(output.shape)\n\n    ValueError: Shapes (None, 33) and (250, 784) are incompatible\n"
          ]
        }
      ],
      "source": [
        "cvae_hist = cvae.fit([X_train, y_train], X_train, verbose = 1, batch_size=m, epochs=n_epoch,\n",
        "\t\t\t\t\t\t\tvalidation_data = ([X_test, y_test], X_test),\n",
        "\t\t\t\t\t\t\tcallbacks = [EarlyStopping(patience = 5)])"
      ]
    },
    {
      "cell_type": "code",
      "execution_count": null,
      "metadata": {
        "id": "mNnLlsox-E2t",
        "colab": {
          "base_uri": "https://localhost:8080/",
          "height": 412
        },
        "outputId": "c8f727d3-9326-4ee7-d60a-b8af6a1c5ccd"
      },
      "outputs": [
        {
          "output_type": "stream",
          "name": "stdout",
          "text": [
            "WARNING:tensorflow:Keras is training/fitting/evaluating on array-like data. Keras may not be optimized for this format, so if your input data format is supported by TensorFlow I/O (https://github.com/tensorflow/io) we recommend using that to load a Dataset instead.\n"
          ]
        },
        {
          "output_type": "error",
          "ename": "TypeError",
          "evalue": "ignored",
          "traceback": [
            "\u001b[0;31m---------------------------------------------------------------------------\u001b[0m",
            "\u001b[0;31mTypeError\u001b[0m                                 Traceback (most recent call last)",
            "\u001b[0;32m<ipython-input-220-bf8792b0088f>\u001b[0m in \u001b[0;36m<module>\u001b[0;34m()\u001b[0m\n\u001b[1;32m      1\u001b[0m \u001b[0;34m\u001b[0m\u001b[0m\n\u001b[0;32m----> 2\u001b[0;31m \u001b[0mnormal_hidden_rep\u001b[0m \u001b[0;34m=\u001b[0m \u001b[0mencoder\u001b[0m\u001b[0;34m.\u001b[0m\u001b[0mpredict\u001b[0m\u001b[0;34m(\u001b[0m\u001b[0mX\u001b[0m\u001b[0;34m[\u001b[0m\u001b[0my\u001b[0m\u001b[0;34m==\u001b[0m\u001b[0;36m0\u001b[0m\u001b[0;34m]\u001b[0m\u001b[0;34m)\u001b[0m\u001b[0;34m\u001b[0m\u001b[0;34m\u001b[0m\u001b[0m\n\u001b[0m\u001b[1;32m      3\u001b[0m \u001b[0mfraud_hidden_rep\u001b[0m \u001b[0;34m=\u001b[0m \u001b[0mencoder\u001b[0m\u001b[0;34m.\u001b[0m\u001b[0mpredict\u001b[0m\u001b[0;34m(\u001b[0m\u001b[0mX\u001b[0m\u001b[0;34m[\u001b[0m\u001b[0my\u001b[0m\u001b[0;34m==\u001b[0m\u001b[0;36m1\u001b[0m\u001b[0;34m]\u001b[0m\u001b[0;34m)\u001b[0m\u001b[0;34m\u001b[0m\u001b[0;34m\u001b[0m\u001b[0m\n\u001b[1;32m      4\u001b[0m \u001b[0;34m\u001b[0m\u001b[0m\n\u001b[1;32m      5\u001b[0m \u001b[0;31m# Combining the encoded points into a single table\u001b[0m\u001b[0;34m\u001b[0m\u001b[0;34m\u001b[0m\u001b[0;34m\u001b[0m\u001b[0m\n",
            "\u001b[0;32m/usr/local/lib/python3.7/dist-packages/keras/utils/traceback_utils.py\u001b[0m in \u001b[0;36merror_handler\u001b[0;34m(*args, **kwargs)\u001b[0m\n\u001b[1;32m     65\u001b[0m     \u001b[0;32mexcept\u001b[0m \u001b[0mException\u001b[0m \u001b[0;32mas\u001b[0m \u001b[0me\u001b[0m\u001b[0;34m:\u001b[0m  \u001b[0;31m# pylint: disable=broad-except\u001b[0m\u001b[0;34m\u001b[0m\u001b[0;34m\u001b[0m\u001b[0m\n\u001b[1;32m     66\u001b[0m       \u001b[0mfiltered_tb\u001b[0m \u001b[0;34m=\u001b[0m \u001b[0m_process_traceback_frames\u001b[0m\u001b[0;34m(\u001b[0m\u001b[0me\u001b[0m\u001b[0;34m.\u001b[0m\u001b[0m__traceback__\u001b[0m\u001b[0;34m)\u001b[0m\u001b[0;34m\u001b[0m\u001b[0;34m\u001b[0m\u001b[0m\n\u001b[0;32m---> 67\u001b[0;31m       \u001b[0;32mraise\u001b[0m \u001b[0me\u001b[0m\u001b[0;34m.\u001b[0m\u001b[0mwith_traceback\u001b[0m\u001b[0;34m(\u001b[0m\u001b[0mfiltered_tb\u001b[0m\u001b[0;34m)\u001b[0m \u001b[0;32mfrom\u001b[0m \u001b[0;32mNone\u001b[0m\u001b[0;34m\u001b[0m\u001b[0;34m\u001b[0m\u001b[0m\n\u001b[0m\u001b[1;32m     68\u001b[0m     \u001b[0;32mfinally\u001b[0m\u001b[0;34m:\u001b[0m\u001b[0;34m\u001b[0m\u001b[0;34m\u001b[0m\u001b[0m\n\u001b[1;32m     69\u001b[0m       \u001b[0;32mdel\u001b[0m \u001b[0mfiltered_tb\u001b[0m\u001b[0;34m\u001b[0m\u001b[0;34m\u001b[0m\u001b[0m\n",
            "\u001b[0;32m/usr/local/lib/python3.7/dist-packages/keras/engine/data_adapter.py\u001b[0m in \u001b[0;36m<genexpr>\u001b[0;34m(.0)\u001b[0m\n\u001b[1;32m    244\u001b[0m     \u001b[0minputs\u001b[0m \u001b[0;34m=\u001b[0m \u001b[0mpack_x_y_sample_weight\u001b[0m\u001b[0;34m(\u001b[0m\u001b[0mx\u001b[0m\u001b[0;34m,\u001b[0m \u001b[0my\u001b[0m\u001b[0;34m,\u001b[0m \u001b[0msample_weights\u001b[0m\u001b[0;34m)\u001b[0m\u001b[0;34m\u001b[0m\u001b[0;34m\u001b[0m\u001b[0m\n\u001b[1;32m    245\u001b[0m \u001b[0;34m\u001b[0m\u001b[0m\n\u001b[0;32m--> 246\u001b[0;31m     \u001b[0mnum_samples\u001b[0m \u001b[0;34m=\u001b[0m \u001b[0mset\u001b[0m\u001b[0;34m(\u001b[0m\u001b[0mint\u001b[0m\u001b[0;34m(\u001b[0m\u001b[0mi\u001b[0m\u001b[0;34m.\u001b[0m\u001b[0mshape\u001b[0m\u001b[0;34m[\u001b[0m\u001b[0;36m0\u001b[0m\u001b[0;34m]\u001b[0m\u001b[0;34m)\u001b[0m \u001b[0;32mfor\u001b[0m \u001b[0mi\u001b[0m \u001b[0;32min\u001b[0m \u001b[0mtf\u001b[0m\u001b[0;34m.\u001b[0m\u001b[0mnest\u001b[0m\u001b[0;34m.\u001b[0m\u001b[0mflatten\u001b[0m\u001b[0;34m(\u001b[0m\u001b[0minputs\u001b[0m\u001b[0;34m)\u001b[0m\u001b[0;34m)\u001b[0m\u001b[0;34m.\u001b[0m\u001b[0mpop\u001b[0m\u001b[0;34m(\u001b[0m\u001b[0;34m)\u001b[0m\u001b[0;34m\u001b[0m\u001b[0;34m\u001b[0m\u001b[0m\n\u001b[0m\u001b[1;32m    247\u001b[0m     \u001b[0m_check_data_cardinality\u001b[0m\u001b[0;34m(\u001b[0m\u001b[0minputs\u001b[0m\u001b[0;34m)\u001b[0m\u001b[0;34m\u001b[0m\u001b[0;34m\u001b[0m\u001b[0m\n\u001b[1;32m    248\u001b[0m \u001b[0;34m\u001b[0m\u001b[0m\n",
            "\u001b[0;31mTypeError\u001b[0m: int() argument must be a string, a bytes-like object or a number, not 'NoneType'"
          ]
        }
      ],
      "source": [
        "normal_hidden_rep = encoder.predict(X[y==0])\n",
        "fraud_hidden_rep = encoder.predict(X[y==1])\n",
        "  \n",
        "# Combining the encoded points into a single table \n",
        "encoded_X = np.append(normal_hidden_rep, fraud_hidden_rep, axis = 0)\n",
        "y_normal = np.zeros(normal_hidden_rep.shape[0])\n",
        "y_fraud = np.ones(fraud_hidden_rep.shape[0])\n",
        "encoded_y = np.append(y_normal, y_fraud)"
      ]
    },
    {
      "cell_type": "code",
      "source": [
        "X_train_encoded, X_test_encoded, y_train_encoded, y_test_encoded = train_test_split(encoded_X, encoded_y, test_size = 0.2)"
      ],
      "metadata": {
        "id": "jm_MqKyee371"
      },
      "execution_count": null,
      "outputs": []
    },
    {
      "cell_type": "markdown",
      "metadata": {
        "id": "dVfsREnaNtsN"
      },
      "source": [
        "## Conditional VAE-2"
      ]
    },
    {
      "cell_type": "code",
      "execution_count": null,
      "metadata": {
        "colab": {
          "base_uri": "https://localhost:8080/"
        },
        "id": "-vPCZIuSNxSp",
        "outputId": "1b86cc3b-5e30-4b83-e43d-c4e058ceb5bc"
      },
      "outputs": [
        {
          "name": "stdout",
          "output_type": "stream",
          "text": [
            "WARNING:tensorflow:From /usr/local/lib/python3.7/dist-packages/tensorflow/python/compat/v2_compat.py:111: disable_resource_variables (from tensorflow.python.ops.variable_scope) is deprecated and will be removed in a future version.\n",
            "Instructions for updating:\n",
            "non-resource variables are not supported in the long term\n"
          ]
        }
      ],
      "source": [
        "import numpy as np\n",
        "import tensorflow.compat.v1 as tf\n",
        "tf.disable_v2_behavior()\n",
        "import matplotlib.pyplot as plt"
      ]
    },
    {
      "cell_type": "code",
      "execution_count": null,
      "metadata": {
        "id": "4KXxEFsYN66P"
      },
      "outputs": [],
      "source": [
        "lr = 1e-3\n",
        "epochs = 20000\n",
        "img_dim = 784 #28x28 images\n",
        "nn_dim = 512 #encoder/decoder dense layer\n",
        "lv_dim = 2 #lower dimensional representation\n",
        "lab_dim = 10 #10 labels for mnist"
      ]
    },
    {
      "cell_type": "code",
      "execution_count": null,
      "metadata": {
        "id": "AUpg855-N8TI"
      },
      "outputs": [],
      "source": [
        "def Xavier(in_shape):\n",
        "  return tf.random.normal(shape = in_shape, stddev = 1./tf.sqrt(in_shape[0]/2.))"
      ]
    },
    {
      "cell_type": "code",
      "execution_count": null,
      "metadata": {
        "id": "0HgZYewYN-fL"
      },
      "outputs": [],
      "source": [
        "Weight = {'W_inp_enc' : tf.Variable(Xavier([img_dim + lab_dim, nn_dim])),\n",
        "          'W_enc_mean' : tf.Variable(Xavier([nn_dim, lv_dim])),\n",
        "          'W_enc_std' : tf.Variable(Xavier([nn_dim, lv_dim])),\n",
        "          'W_lv_dec' : tf.Variable(Xavier([lv_dim + lab_dim, nn_dim])),\n",
        "          'W_dec_out' : tf.Variable(Xavier([nn_dim, img_dim]))    \n",
        "}\n",
        "\n",
        "Bias = {'B_enc' : tf.Variable(Xavier([nn_dim])),\n",
        "        'B_mean' : tf.Variable(Xavier([lv_dim])),\n",
        "        'B_std' : tf.Variable(Xavier([lv_dim])),\n",
        "        'B_dec' : tf.Variable(Xavier([nn_dim])),\n",
        "        'B_out' : tf.Variable(Xavier([img_dim]))\n",
        "}"
      ]
    },
    {
      "cell_type": "code",
      "execution_count": null,
      "metadata": {
        "colab": {
          "base_uri": "https://localhost:8080/"
        },
        "id": "Oa2ouX9lN-mt",
        "outputId": "8ad9b0e2-35e3-4b9e-f6cd-0a1d7316023c"
      },
      "outputs": [
        {
          "name": "stdout",
          "output_type": "stream",
          "text": [
            "(?, 794)\n"
          ]
        }
      ],
      "source": [
        "temp_in = tf.placeholder(tf.float32, shape = [None, img_dim])\n",
        "\n",
        "lab = tf.placeholder(tf.float32, shape = [None, lab_dim]) #label\n",
        "\n",
        "inp = tf.concat(axis = 1, values = [temp_in, lab])\n",
        "print(inp.shape)\n",
        "\n",
        "encoder = tf.add(tf.matmul(inp, Weight['W_inp_enc']), Bias['B_enc'])\n",
        "encoder = tf.nn.tanh(encoder)\n",
        "\n",
        "mean = tf.add(tf.matmul(encoder, Weight['W_enc_mean']), Bias['B_mean'])\n",
        "stddev = tf.add(tf.matmul(encoder, Weight['W_enc_std']), Bias['B_std'])"
      ]
    },
    {
      "cell_type": "code",
      "execution_count": null,
      "metadata": {
        "id": "2d4UwZbPOF7b"
      },
      "outputs": [],
      "source": [
        "epsilon = tf.random_normal(tf.shape(stddev), dtype = tf.float32, mean = 0.0, stddev = 1.0)\n",
        "latent_layer = tf.add(mean, tf.exp(0.5*stddev)*epsilon)"
      ]
    },
    {
      "cell_type": "code",
      "execution_count": null,
      "metadata": {
        "id": "t031p7gqOI_c"
      },
      "outputs": [],
      "source": [
        "decoder_in = tf.concat(axis = 1, values = [latent_layer, lab])\n",
        "decoder = tf.add(tf.matmul(decoder_in, Weight['W_lv_dec']), Bias['B_dec'])\n",
        "decoder = tf.nn.tanh(decoder)"
      ]
    },
    {
      "cell_type": "code",
      "execution_count": null,
      "metadata": {
        "colab": {
          "base_uri": "https://localhost:8080/"
        },
        "id": "VLzFFhOtOJGH",
        "outputId": "e458a082-b59c-41d8-bd3c-820e4283b970"
      },
      "outputs": [
        {
          "data": {
            "text/plain": [
              "TensorShape([Dimension(None), Dimension(784)])"
            ]
          },
          "execution_count": 8,
          "metadata": {},
          "output_type": "execute_result"
        }
      ],
      "source": [
        "out = tf.add(tf.matmul(decoder, Weight['W_dec_out']), Bias['B_out'])\n",
        "out = tf.nn.sigmoid(out)\n",
        "out.shape"
      ]
    },
    {
      "cell_type": "code",
      "execution_count": null,
      "metadata": {
        "id": "aqC7wY-kONLW"
      },
      "outputs": [],
      "source": [
        "def loss_fn(original, reconstructed):\n",
        "  eps = 1e-10\n",
        "  df_loss = original*tf.log(eps + reconstructed) + ((1 - original)*tf.log(eps + 1 - reconstructed))\n",
        "  df_loss = -tf.reduce_sum(df_loss, 1)\n",
        "  \n",
        "  kl_div = 1 + stddev - tf.square(mean) - tf.exp(stddev)\n",
        "  kl_div = -0.5*tf.reduce_sum(kl_div, 1)\n",
        "  \n",
        "  alpha = 1\n",
        "  beta = 1\n",
        "  \n",
        "  return tf.reduce_mean(alpha*df_loss + beta*kl_div)"
      ]
    },
    {
      "cell_type": "code",
      "execution_count": null,
      "metadata": {
        "colab": {
          "base_uri": "https://localhost:8080/"
        },
        "id": "jKd2G9FrOPq-",
        "outputId": "0f841aaf-aaad-4ea1-9beb-a9f7376af396"
      },
      "outputs": [
        {
          "name": "stdout",
          "output_type": "stream",
          "text": [
            "WARNING:tensorflow:From /usr/local/lib/python3.7/dist-packages/tensorflow/python/training/rmsprop.py:192: calling Ones.__init__ (from tensorflow.python.ops.init_ops) with dtype is deprecated and will be removed in a future version.\n",
            "Instructions for updating:\n",
            "Call initializer instance with the dtype argument instead of passing it to the constructor\n"
          ]
        }
      ],
      "source": [
        "loss = loss_fn(temp_in, out)\n",
        "optimizer = tf.train.RMSPropOptimizer(lr).minimize(loss)"
      ]
    },
    {
      "cell_type": "code",
      "execution_count": null,
      "metadata": {
        "colab": {
          "base_uri": "https://localhost:8080/"
        },
        "id": "YHkwP2m3ORmV",
        "outputId": "02916aea-2f97-42ec-afb5-b458e8508097"
      },
      "outputs": [
        {
          "name": "stdout",
          "output_type": "stream",
          "text": [
            "Downloading data from https://storage.googleapis.com/tensorflow/tf-keras-datasets/mnist.npz\n",
            "11493376/11490434 [==============================] - 0s 0us/step\n",
            "11501568/11490434 [==============================] - 0s 0us/step\n"
          ]
        }
      ],
      "source": [
        "mnist = tf.keras.datasets.mnist\n",
        "(x_train, y_train), (x_test, y_test) = mnist.load_data()\n",
        "x_train, x_test = x_train / 255.0, x_test / 255.0\n",
        "# X = main[:,0:-1]\n",
        "# y = main[:,-1]\n",
        "\n",
        "# from sklearn.model_selection import train_test_split\n",
        "# x_train, x_test, y_train, y_test = train_test_split(X, y, test_size=0.2)"
      ]
    },
    {
      "cell_type": "code",
      "execution_count": null,
      "metadata": {
        "colab": {
          "base_uri": "https://localhost:8080/"
        },
        "id": "SepAMIggOTYh",
        "outputId": "f69781f9-916e-4c84-9e64-c0c731903b4d"
      },
      "outputs": [
        {
          "data": {
            "text/plain": [
              "array([0., 0., 0., 0., 0., 1., 0., 0., 0., 0.])"
            ]
          },
          "execution_count": 12,
          "metadata": {},
          "output_type": "execute_result"
        }
      ],
      "source": [
        "y_train = y_train.reshape(-1)\n",
        "y_train[:6]\n",
        "y_train = np.eye(10)[y_train]\n",
        "y_train[0]"
      ]
    },
    {
      "cell_type": "code",
      "execution_count": null,
      "metadata": {
        "colab": {
          "base_uri": "https://localhost:8080/",
          "height": 468
        },
        "id": "NzwgP9a7OVSp",
        "outputId": "9f542c68-8e38-4741-c8c0-007dbc4dbdab"
      },
      "outputs": [
        {
          "name": "stdout",
          "output_type": "stream",
          "text": [
            "Loss after 0 epochs is 613.4205932617188 \n",
            "Loss after 100 epochs is 183.3012237548828 \n",
            "Loss after 200 epochs is 164.53236389160156 \n",
            "Loss after 300 epochs is 157.1249542236328 \n"
          ]
        },
        {
          "ename": "KeyboardInterrupt",
          "evalue": "ignored",
          "output_type": "error",
          "traceback": [
            "\u001b[0;31m---------------------------------------------------------------------------\u001b[0m",
            "\u001b[0;31mKeyboardInterrupt\u001b[0m                         Traceback (most recent call last)",
            "\u001b[0;32m<ipython-input-13-fa25a17c679d>\u001b[0m in \u001b[0;36m<module>\u001b[0;34m()\u001b[0m\n\u001b[1;32m      9\u001b[0m \u001b[0;34m\u001b[0m\u001b[0m\n\u001b[1;32m     10\u001b[0m \u001b[0;32mfor\u001b[0m \u001b[0mi\u001b[0m \u001b[0;32min\u001b[0m \u001b[0mrange\u001b[0m\u001b[0;34m(\u001b[0m\u001b[0;36m10000\u001b[0m\u001b[0;34m)\u001b[0m\u001b[0;34m:\u001b[0m\u001b[0;34m\u001b[0m\u001b[0;34m\u001b[0m\u001b[0m\n\u001b[0;32m---> 11\u001b[0;31m   \u001b[0m_\u001b[0m\u001b[0;34m,\u001b[0m \u001b[0mloss_val\u001b[0m \u001b[0;34m=\u001b[0m \u001b[0msess\u001b[0m\u001b[0;34m.\u001b[0m\u001b[0mrun\u001b[0m\u001b[0;34m(\u001b[0m\u001b[0;34m[\u001b[0m\u001b[0moptimizer\u001b[0m\u001b[0;34m,\u001b[0m \u001b[0mloss\u001b[0m\u001b[0;34m]\u001b[0m\u001b[0;34m,\u001b[0m \u001b[0mfeed_dict\u001b[0m \u001b[0;34m=\u001b[0m \u001b[0;34m{\u001b[0m\u001b[0mtemp_in\u001b[0m\u001b[0;34m:\u001b[0m \u001b[0mx_train\u001b[0m\u001b[0;34m,\u001b[0m \u001b[0mlab\u001b[0m\u001b[0;34m:\u001b[0m \u001b[0my_train\u001b[0m\u001b[0;34m}\u001b[0m\u001b[0;34m)\u001b[0m\u001b[0;34m\u001b[0m\u001b[0;34m\u001b[0m\u001b[0m\n\u001b[0m\u001b[1;32m     12\u001b[0m   \u001b[0mlosses\u001b[0m\u001b[0;34m.\u001b[0m\u001b[0mappend\u001b[0m\u001b[0;34m(\u001b[0m\u001b[0mloss_val\u001b[0m\u001b[0;34m)\u001b[0m\u001b[0;34m\u001b[0m\u001b[0;34m\u001b[0m\u001b[0m\n\u001b[1;32m     13\u001b[0m   \u001b[0;32mif\u001b[0m \u001b[0mi\u001b[0m\u001b[0;34m%\u001b[0m\u001b[0;36m100\u001b[0m \u001b[0;34m==\u001b[0m \u001b[0;36m0\u001b[0m\u001b[0;34m:\u001b[0m\u001b[0;34m\u001b[0m\u001b[0;34m\u001b[0m\u001b[0m\n",
            "\u001b[0;32m/usr/local/lib/python3.7/dist-packages/tensorflow/python/client/session.py\u001b[0m in \u001b[0;36mrun\u001b[0;34m(self, fetches, feed_dict, options, run_metadata)\u001b[0m\n\u001b[1;32m    969\u001b[0m     \u001b[0;32mtry\u001b[0m\u001b[0;34m:\u001b[0m\u001b[0;34m\u001b[0m\u001b[0;34m\u001b[0m\u001b[0m\n\u001b[1;32m    970\u001b[0m       result = self._run(None, fetches, feed_dict, options_ptr,\n\u001b[0;32m--> 971\u001b[0;31m                          run_metadata_ptr)\n\u001b[0m\u001b[1;32m    972\u001b[0m       \u001b[0;32mif\u001b[0m \u001b[0mrun_metadata\u001b[0m\u001b[0;34m:\u001b[0m\u001b[0;34m\u001b[0m\u001b[0;34m\u001b[0m\u001b[0m\n\u001b[1;32m    973\u001b[0m         \u001b[0mproto_data\u001b[0m \u001b[0;34m=\u001b[0m \u001b[0mtf_session\u001b[0m\u001b[0;34m.\u001b[0m\u001b[0mTF_GetBuffer\u001b[0m\u001b[0;34m(\u001b[0m\u001b[0mrun_metadata_ptr\u001b[0m\u001b[0;34m)\u001b[0m\u001b[0;34m\u001b[0m\u001b[0;34m\u001b[0m\u001b[0m\n",
            "\u001b[0;32m/usr/local/lib/python3.7/dist-packages/tensorflow/python/client/session.py\u001b[0m in \u001b[0;36m_run\u001b[0;34m(self, handle, fetches, feed_dict, options, run_metadata)\u001b[0m\n\u001b[1;32m   1192\u001b[0m     \u001b[0;32mif\u001b[0m \u001b[0mfinal_fetches\u001b[0m \u001b[0;32mor\u001b[0m \u001b[0mfinal_targets\u001b[0m \u001b[0;32mor\u001b[0m \u001b[0;34m(\u001b[0m\u001b[0mhandle\u001b[0m \u001b[0;32mand\u001b[0m \u001b[0mfeed_dict_tensor\u001b[0m\u001b[0;34m)\u001b[0m\u001b[0;34m:\u001b[0m\u001b[0;34m\u001b[0m\u001b[0;34m\u001b[0m\u001b[0m\n\u001b[1;32m   1193\u001b[0m       results = self._do_run(handle, final_targets, final_fetches,\n\u001b[0;32m-> 1194\u001b[0;31m                              feed_dict_tensor, options, run_metadata)\n\u001b[0m\u001b[1;32m   1195\u001b[0m     \u001b[0;32melse\u001b[0m\u001b[0;34m:\u001b[0m\u001b[0;34m\u001b[0m\u001b[0;34m\u001b[0m\u001b[0m\n\u001b[1;32m   1196\u001b[0m       \u001b[0mresults\u001b[0m \u001b[0;34m=\u001b[0m \u001b[0;34m[\u001b[0m\u001b[0;34m]\u001b[0m\u001b[0;34m\u001b[0m\u001b[0;34m\u001b[0m\u001b[0m\n",
            "\u001b[0;32m/usr/local/lib/python3.7/dist-packages/tensorflow/python/client/session.py\u001b[0m in \u001b[0;36m_do_run\u001b[0;34m(self, handle, target_list, fetch_list, feed_dict, options, run_metadata)\u001b[0m\n\u001b[1;32m   1372\u001b[0m     \u001b[0;32mif\u001b[0m \u001b[0mhandle\u001b[0m \u001b[0;32mis\u001b[0m \u001b[0;32mNone\u001b[0m\u001b[0;34m:\u001b[0m\u001b[0;34m\u001b[0m\u001b[0;34m\u001b[0m\u001b[0m\n\u001b[1;32m   1373\u001b[0m       return self._do_call(_run_fn, feeds, fetches, targets, options,\n\u001b[0;32m-> 1374\u001b[0;31m                            run_metadata)\n\u001b[0m\u001b[1;32m   1375\u001b[0m     \u001b[0;32melse\u001b[0m\u001b[0;34m:\u001b[0m\u001b[0;34m\u001b[0m\u001b[0;34m\u001b[0m\u001b[0m\n\u001b[1;32m   1376\u001b[0m       \u001b[0;32mreturn\u001b[0m \u001b[0mself\u001b[0m\u001b[0;34m.\u001b[0m\u001b[0m_do_call\u001b[0m\u001b[0;34m(\u001b[0m\u001b[0m_prun_fn\u001b[0m\u001b[0;34m,\u001b[0m \u001b[0mhandle\u001b[0m\u001b[0;34m,\u001b[0m \u001b[0mfeeds\u001b[0m\u001b[0;34m,\u001b[0m \u001b[0mfetches\u001b[0m\u001b[0;34m)\u001b[0m\u001b[0;34m\u001b[0m\u001b[0;34m\u001b[0m\u001b[0m\n",
            "\u001b[0;32m/usr/local/lib/python3.7/dist-packages/tensorflow/python/client/session.py\u001b[0m in \u001b[0;36m_do_call\u001b[0;34m(self, fn, *args)\u001b[0m\n\u001b[1;32m   1378\u001b[0m   \u001b[0;32mdef\u001b[0m \u001b[0m_do_call\u001b[0m\u001b[0;34m(\u001b[0m\u001b[0mself\u001b[0m\u001b[0;34m,\u001b[0m \u001b[0mfn\u001b[0m\u001b[0;34m,\u001b[0m \u001b[0;34m*\u001b[0m\u001b[0margs\u001b[0m\u001b[0;34m)\u001b[0m\u001b[0;34m:\u001b[0m\u001b[0;34m\u001b[0m\u001b[0;34m\u001b[0m\u001b[0m\n\u001b[1;32m   1379\u001b[0m     \u001b[0;32mtry\u001b[0m\u001b[0;34m:\u001b[0m\u001b[0;34m\u001b[0m\u001b[0;34m\u001b[0m\u001b[0m\n\u001b[0;32m-> 1380\u001b[0;31m       \u001b[0;32mreturn\u001b[0m \u001b[0mfn\u001b[0m\u001b[0;34m(\u001b[0m\u001b[0;34m*\u001b[0m\u001b[0margs\u001b[0m\u001b[0;34m)\u001b[0m\u001b[0;34m\u001b[0m\u001b[0;34m\u001b[0m\u001b[0m\n\u001b[0m\u001b[1;32m   1381\u001b[0m     \u001b[0;32mexcept\u001b[0m \u001b[0merrors\u001b[0m\u001b[0;34m.\u001b[0m\u001b[0mOpError\u001b[0m \u001b[0;32mas\u001b[0m \u001b[0me\u001b[0m\u001b[0;34m:\u001b[0m\u001b[0;34m\u001b[0m\u001b[0;34m\u001b[0m\u001b[0m\n\u001b[1;32m   1382\u001b[0m       \u001b[0mmessage\u001b[0m \u001b[0;34m=\u001b[0m \u001b[0mcompat\u001b[0m\u001b[0;34m.\u001b[0m\u001b[0mas_text\u001b[0m\u001b[0;34m(\u001b[0m\u001b[0me\u001b[0m\u001b[0;34m.\u001b[0m\u001b[0mmessage\u001b[0m\u001b[0;34m)\u001b[0m\u001b[0;34m\u001b[0m\u001b[0;34m\u001b[0m\u001b[0m\n",
            "\u001b[0;32m/usr/local/lib/python3.7/dist-packages/tensorflow/python/client/session.py\u001b[0m in \u001b[0;36m_run_fn\u001b[0;34m(feed_dict, fetch_list, target_list, options, run_metadata)\u001b[0m\n\u001b[1;32m   1362\u001b[0m       \u001b[0mself\u001b[0m\u001b[0;34m.\u001b[0m\u001b[0m_extend_graph\u001b[0m\u001b[0;34m(\u001b[0m\u001b[0;34m)\u001b[0m\u001b[0;34m\u001b[0m\u001b[0;34m\u001b[0m\u001b[0m\n\u001b[1;32m   1363\u001b[0m       return self._call_tf_sessionrun(options, feed_dict, fetch_list,\n\u001b[0;32m-> 1364\u001b[0;31m                                       target_list, run_metadata)\n\u001b[0m\u001b[1;32m   1365\u001b[0m \u001b[0;34m\u001b[0m\u001b[0m\n\u001b[1;32m   1366\u001b[0m     \u001b[0;32mdef\u001b[0m \u001b[0m_prun_fn\u001b[0m\u001b[0;34m(\u001b[0m\u001b[0mhandle\u001b[0m\u001b[0;34m,\u001b[0m \u001b[0mfeed_dict\u001b[0m\u001b[0;34m,\u001b[0m \u001b[0mfetch_list\u001b[0m\u001b[0;34m)\u001b[0m\u001b[0;34m:\u001b[0m\u001b[0;34m\u001b[0m\u001b[0;34m\u001b[0m\u001b[0m\n",
            "\u001b[0;32m/usr/local/lib/python3.7/dist-packages/tensorflow/python/client/session.py\u001b[0m in \u001b[0;36m_call_tf_sessionrun\u001b[0;34m(self, options, feed_dict, fetch_list, target_list, run_metadata)\u001b[0m\n\u001b[1;32m   1456\u001b[0m     return tf_session.TF_SessionRun_wrapper(self._session, options, feed_dict,\n\u001b[1;32m   1457\u001b[0m                                             \u001b[0mfetch_list\u001b[0m\u001b[0;34m,\u001b[0m \u001b[0mtarget_list\u001b[0m\u001b[0;34m,\u001b[0m\u001b[0;34m\u001b[0m\u001b[0;34m\u001b[0m\u001b[0m\n\u001b[0;32m-> 1458\u001b[0;31m                                             run_metadata)\n\u001b[0m\u001b[1;32m   1459\u001b[0m \u001b[0;34m\u001b[0m\u001b[0m\n\u001b[1;32m   1460\u001b[0m   \u001b[0;32mdef\u001b[0m \u001b[0m_call_tf_sessionprun\u001b[0m\u001b[0;34m(\u001b[0m\u001b[0mself\u001b[0m\u001b[0;34m,\u001b[0m \u001b[0mhandle\u001b[0m\u001b[0;34m,\u001b[0m \u001b[0mfeed_dict\u001b[0m\u001b[0;34m,\u001b[0m \u001b[0mfetch_list\u001b[0m\u001b[0;34m)\u001b[0m\u001b[0;34m:\u001b[0m\u001b[0;34m\u001b[0m\u001b[0;34m\u001b[0m\u001b[0m\n",
            "\u001b[0;31mKeyboardInterrupt\u001b[0m: "
          ]
        }
      ],
      "source": [
        "init = tf.global_variables_initializer()\n",
        "\n",
        "sess = tf.compat.v1.Session()\n",
        "sess.run(init)\n",
        "\n",
        "x_train = np.reshape(x_train, [-1, img_dim])\n",
        "\n",
        "losses = []\n",
        "\n",
        "for i in range(10000):\n",
        "  _, loss_val = sess.run([optimizer, loss], feed_dict = {temp_in: x_train, lab: y_train})\n",
        "  losses.append(loss_val)\n",
        "  if i%100 == 0:\n",
        "    print(\"Loss after {0} epochs is {1} \".format(i, loss_val))"
      ]
    },
    {
      "cell_type": "code",
      "execution_count": null,
      "metadata": {
        "id": "nFkGA_fBOVVN"
      },
      "outputs": [],
      "source": [
        "noise = tf.placeholder(tf.float32, shape = [None, lv_dim])\n",
        "labs = tf.placeholder(tf.float32, shape = [None, lab_dim])\n",
        "dec_inp = tf.concat(axis = 1, values = [noise, labs])\n",
        "decoder = tf.add(tf.matmul(dec_inp, Weight['W_lv_dec']), Bias['B_dec'])\n",
        "decoder = tf.nn.tanh(decoder)\n",
        "out = tf.add(tf.matmul(decoder, Weight['W_dec_out']), Bias['B_out'])\n",
        "out = tf.nn.sigmoid(out)"
      ]
    },
    {
      "cell_type": "code",
      "execution_count": null,
      "metadata": {
        "id": "_7iz-8J7Ogih"
      },
      "outputs": [],
      "source": [
        "n = 20\n",
        "x_limit = np.linspace(-2,2,n)\n",
        "y_limit = np.linspace(-2,2,n)\n",
        "\n",
        "test_img = np.empty((28*n,28*n))\n",
        "\n",
        "digit_lab = np.array([[0, 0, 0, 0, 0, 0, 0, 0, 1, 0]]*32)\n",
        "\n",
        "for i,zi in enumerate(x_limit):\n",
        "  for j,pi in enumerate(y_limit):\n",
        "    #gen_layer = np.array([[zi,pi]] * 32)\n",
        "    gen_layer = np.random.normal(0,1, size = [32, lv_dim])\n",
        "    gen_img = sess.run(out, feed_dict = {noise : gen_layer, labs : digit_lab})\n",
        "    test_img[(n-i-1)*28:(n-i)*28, j*28:(j+1)*28] = gen_img[0].reshape(28,28)\n",
        "    \n",
        "plt.figure(figsize = (8,10))\n",
        "X,Y = np.meshgrid(x_limit, y_limit)\n",
        "plt.imshow(test_img, origin = 'upper', cmap = 'gray')\n",
        "plt.grid(False)\n",
        "plt.show()"
      ]
    },
    {
      "cell_type": "code",
      "execution_count": null,
      "metadata": {
        "id": "Y8FmIKYPOoJv"
      },
      "outputs": [],
      "source": [
        "epochs = np.arange(len(losses))\n",
        "plt.plot(epochs, losses)"
      ]
    },
    {
      "cell_type": "markdown",
      "metadata": {
        "id": "jDY50l2rycgF"
      },
      "source": [
        "## Autoencoder for classification"
      ]
    },
    {
      "cell_type": "code",
      "execution_count": null,
      "metadata": {
        "id": "avGKcTJMDpCy"
      },
      "outputs": [],
      "source": [
        "from tensorflow.keras.layers import BatchNormalization\n",
        "from tensorflow.keras.layers import LeakyReLU"
      ]
    },
    {
      "cell_type": "code",
      "execution_count": null,
      "metadata": {
        "colab": {
          "base_uri": "https://localhost:8080/"
        },
        "id": "RIn7RN_KyjGx",
        "outputId": "683035a5-d764-496f-b843-103d8b4f916e"
      },
      "outputs": [
        {
          "output_type": "stream",
          "name": "stdout",
          "text": [
            "(1680, 33) (1680,)\n"
          ]
        }
      ],
      "source": [
        "\n",
        "# synthetic classification dataset\n",
        "#from sklearn.datasets import make_classification\n",
        "# define dataset\n",
        "X = main[:,0:-1]\n",
        "y = main[:,-1]\n",
        "#X, y = make_classification(n_samples=1000, n_features=100, n_informative=10, n_redundant=90, random_state=1)\n",
        "# summarize the dataset\n",
        "print(X.shape, y.shape)"
      ]
    },
    {
      "cell_type": "code",
      "source": [
        "X = MinMaxScaler().fit_transform(X)"
      ],
      "metadata": {
        "id": "lUUSO1qpP1q5"
      },
      "execution_count": null,
      "outputs": []
    },
    {
      "cell_type": "code",
      "source": [
        "print(y)"
      ],
      "metadata": {
        "colab": {
          "base_uri": "https://localhost:8080/"
        },
        "id": "GlbZZmgeQFM_",
        "outputId": "6d375cf0-a1fb-46db-f743-c5446e302bd5"
      },
      "execution_count": null,
      "outputs": [
        {
          "output_type": "stream",
          "name": "stdout",
          "text": [
            "[1. 1. 1. ... 0. 0. 0.]\n"
          ]
        }
      ]
    },
    {
      "cell_type": "code",
      "execution_count": null,
      "metadata": {
        "id": "2PCbGM-VyvkU"
      },
      "outputs": [],
      "source": [
        "# split into train test sets\n",
        "X_train, X_test, y_train, y_test = train_test_split(X, y, test_size=0.33, random_state=1)\n",
        "# scale data\n",
        "# t = MinMaxScaler()\n",
        "# t.fit(X_train)\n",
        "# X_train = t.transform(X_train)\n",
        "# X_test = t.transform(X_test)"
      ]
    },
    {
      "cell_type": "code",
      "execution_count": null,
      "metadata": {
        "id": "ZsJy1YsL6ayb"
      },
      "outputs": [],
      "source": [
        "n_inputs = X.shape[1]\n"
      ]
    },
    {
      "cell_type": "code",
      "execution_count": null,
      "metadata": {
        "id": "EHLNNphkyw-2"
      },
      "outputs": [],
      "source": [
        "# define encoder\n",
        "visible = Input(shape=(n_inputs,))\n",
        "# encoder level 1\n",
        "e = Dense(n_inputs*2)(visible)\n",
        "e = BatchNormalization()(e)\n",
        "e = LeakyReLU()(e)\n",
        "# encoder level 2\n",
        "e = Dense(n_inputs)(e)\n",
        "e = BatchNormalization()(e)\n",
        "e = LeakyReLU()(e)\n",
        "# bottleneck\n",
        "n_bottleneck = n_inputs\n",
        "bottleneck = Dense(n_bottleneck)(e)"
      ]
    },
    {
      "cell_type": "code",
      "execution_count": null,
      "metadata": {
        "id": "ZWA2IYdQy277"
      },
      "outputs": [],
      "source": [
        "# define decoder, level 1\n",
        "d = Dense(n_inputs)(bottleneck)\n",
        "d = BatchNormalization()(d)\n",
        "d = LeakyReLU()(d)\n",
        "# decoder level 2\n",
        "d = Dense(n_inputs*2)(d)\n",
        "d = BatchNormalization()(d)\n",
        "d = LeakyReLU()(d)\n",
        "# output layer\n",
        "output = Dense(n_inputs, activation='linear')(d)\n",
        "# define autoencoder model\n",
        "model = Model(inputs=visible, outputs=output)"
      ]
    },
    {
      "cell_type": "code",
      "execution_count": null,
      "metadata": {
        "id": "3IjnOZQ43WdV"
      },
      "outputs": [],
      "source": [
        "# compile autoencoder model\n",
        "model.compile(optimizer='adam', loss='binary_crossentropy')"
      ]
    },
    {
      "cell_type": "code",
      "execution_count": null,
      "metadata": {
        "colab": {
          "base_uri": "https://localhost:8080/"
        },
        "id": "k5HGH9g63aJT",
        "outputId": "77fc4d5e-576f-44bb-9c2f-7fbf297f03d7"
      },
      "outputs": [
        {
          "output_type": "stream",
          "name": "stdout",
          "text": [
            "Epoch 1/50\n",
            "71/71 - 2s - loss: 0.4471 - val_loss: 1.1561 - 2s/epoch - 28ms/step\n",
            "Epoch 2/50\n",
            "71/71 - 0s - loss: 0.3567 - val_loss: 1.4366 - 235ms/epoch - 3ms/step\n",
            "Epoch 3/50\n",
            "71/71 - 0s - loss: 0.3812 - val_loss: 1.5348 - 260ms/epoch - 4ms/step\n",
            "Epoch 4/50\n",
            "71/71 - 0s - loss: 0.4680 - val_loss: 4.5020 - 298ms/epoch - 4ms/step\n",
            "Epoch 5/50\n",
            "71/71 - 0s - loss: 0.6118 - val_loss: 0.7840 - 278ms/epoch - 4ms/step\n",
            "Epoch 6/50\n",
            "71/71 - 0s - loss: 0.4280 - val_loss: 0.7136 - 265ms/epoch - 4ms/step\n",
            "Epoch 7/50\n",
            "71/71 - 0s - loss: 0.3868 - val_loss: 0.7265 - 245ms/epoch - 3ms/step\n",
            "Epoch 8/50\n",
            "71/71 - 0s - loss: 0.4806 - val_loss: 1.0419 - 267ms/epoch - 4ms/step\n",
            "Epoch 9/50\n",
            "71/71 - 0s - loss: 0.4825 - val_loss: 1.2512 - 261ms/epoch - 4ms/step\n",
            "Epoch 10/50\n",
            "71/71 - 0s - loss: 0.5499 - val_loss: 1.9828 - 278ms/epoch - 4ms/step\n",
            "Epoch 11/50\n",
            "71/71 - 0s - loss: 0.6124 - val_loss: 0.8346 - 230ms/epoch - 3ms/step\n",
            "Epoch 12/50\n",
            "71/71 - 0s - loss: 0.4994 - val_loss: 0.5887 - 271ms/epoch - 4ms/step\n",
            "Epoch 13/50\n",
            "71/71 - 0s - loss: 0.4424 - val_loss: 0.5854 - 251ms/epoch - 4ms/step\n",
            "Epoch 14/50\n",
            "71/71 - 0s - loss: 0.4549 - val_loss: 1.0790 - 224ms/epoch - 3ms/step\n",
            "Epoch 15/50\n",
            "71/71 - 0s - loss: 0.4083 - val_loss: 0.7318 - 225ms/epoch - 3ms/step\n",
            "Epoch 16/50\n",
            "71/71 - 0s - loss: 0.4102 - val_loss: 0.6096 - 225ms/epoch - 3ms/step\n",
            "Epoch 17/50\n",
            "71/71 - 0s - loss: 0.3474 - val_loss: 0.8292 - 249ms/epoch - 4ms/step\n",
            "Epoch 18/50\n",
            "71/71 - 0s - loss: 0.3980 - val_loss: 1.3657 - 251ms/epoch - 4ms/step\n",
            "Epoch 19/50\n",
            "71/71 - 0s - loss: 0.3517 - val_loss: 0.8240 - 224ms/epoch - 3ms/step\n",
            "Epoch 20/50\n",
            "71/71 - 0s - loss: 0.3511 - val_loss: 0.6514 - 246ms/epoch - 3ms/step\n",
            "Epoch 21/50\n",
            "71/71 - 0s - loss: 0.3619 - val_loss: 0.6734 - 225ms/epoch - 3ms/step\n",
            "Epoch 22/50\n",
            "71/71 - 0s - loss: 0.3484 - val_loss: 0.6311 - 245ms/epoch - 3ms/step\n",
            "Epoch 23/50\n",
            "71/71 - 0s - loss: 0.2907 - val_loss: 1.4152 - 246ms/epoch - 3ms/step\n",
            "Epoch 24/50\n",
            "71/71 - 0s - loss: 0.2723 - val_loss: 1.6399 - 229ms/epoch - 3ms/step\n",
            "Epoch 25/50\n",
            "71/71 - 0s - loss: 0.4172 - val_loss: 0.9073 - 231ms/epoch - 3ms/step\n",
            "Epoch 26/50\n",
            "71/71 - 0s - loss: 0.2862 - val_loss: 0.8477 - 232ms/epoch - 3ms/step\n",
            "Epoch 27/50\n",
            "71/71 - 0s - loss: 0.2846 - val_loss: 0.6654 - 224ms/epoch - 3ms/step\n",
            "Epoch 28/50\n",
            "71/71 - 0s - loss: 0.3056 - val_loss: 2.4283 - 233ms/epoch - 3ms/step\n",
            "Epoch 29/50\n",
            "71/71 - 0s - loss: 0.4128 - val_loss: 0.6790 - 259ms/epoch - 4ms/step\n",
            "Epoch 30/50\n",
            "71/71 - 0s - loss: 0.3655 - val_loss: 2.4161 - 221ms/epoch - 3ms/step\n",
            "Epoch 31/50\n",
            "71/71 - 0s - loss: 0.3958 - val_loss: 0.8812 - 220ms/epoch - 3ms/step\n",
            "Epoch 32/50\n",
            "71/71 - 0s - loss: 0.3220 - val_loss: 0.6956 - 242ms/epoch - 3ms/step\n",
            "Epoch 33/50\n",
            "71/71 - 0s - loss: 0.5040 - val_loss: 2.3635 - 233ms/epoch - 3ms/step\n",
            "Epoch 34/50\n",
            "71/71 - 0s - loss: 0.5264 - val_loss: 1.8620 - 235ms/epoch - 3ms/step\n",
            "Epoch 35/50\n",
            "71/71 - 0s - loss: 0.4050 - val_loss: 1.4000 - 216ms/epoch - 3ms/step\n",
            "Epoch 36/50\n",
            "71/71 - 0s - loss: 0.4083 - val_loss: 1.4186 - 224ms/epoch - 3ms/step\n",
            "Epoch 37/50\n",
            "71/71 - 0s - loss: 0.4385 - val_loss: 0.7901 - 233ms/epoch - 3ms/step\n",
            "Epoch 38/50\n",
            "71/71 - 0s - loss: 0.5626 - val_loss: 3.2901 - 225ms/epoch - 3ms/step\n",
            "Epoch 39/50\n",
            "71/71 - 0s - loss: 0.5024 - val_loss: 0.8432 - 245ms/epoch - 3ms/step\n",
            "Epoch 40/50\n",
            "71/71 - 0s - loss: 0.4737 - val_loss: 2.7242 - 275ms/epoch - 4ms/step\n",
            "Epoch 41/50\n",
            "71/71 - 0s - loss: 0.5575 - val_loss: 1.1141 - 245ms/epoch - 3ms/step\n",
            "Epoch 42/50\n",
            "71/71 - 0s - loss: 0.4695 - val_loss: 0.9654 - 249ms/epoch - 4ms/step\n",
            "Epoch 43/50\n",
            "71/71 - 0s - loss: 0.3617 - val_loss: 0.8468 - 223ms/epoch - 3ms/step\n",
            "Epoch 44/50\n",
            "71/71 - 0s - loss: 0.3285 - val_loss: 0.7948 - 218ms/epoch - 3ms/step\n",
            "Epoch 45/50\n",
            "71/71 - 0s - loss: 0.4029 - val_loss: 0.9834 - 216ms/epoch - 3ms/step\n",
            "Epoch 46/50\n",
            "71/71 - 0s - loss: 0.7843 - val_loss: 1.4247 - 261ms/epoch - 4ms/step\n",
            "Epoch 47/50\n",
            "71/71 - 0s - loss: 0.6858 - val_loss: 0.8722 - 248ms/epoch - 3ms/step\n",
            "Epoch 48/50\n",
            "71/71 - 0s - loss: 0.5667 - val_loss: 1.2972 - 223ms/epoch - 3ms/step\n",
            "Epoch 49/50\n",
            "71/71 - 0s - loss: 0.4832 - val_loss: 0.9248 - 251ms/epoch - 4ms/step\n",
            "Epoch 50/50\n",
            "71/71 - 0s - loss: 0.4499 - val_loss: 0.9095 - 259ms/epoch - 4ms/step\n"
          ]
        }
      ],
      "source": [
        "# fit the autoencoder model to reconstruct input\n",
        "history = model.fit(X_train, y_train, epochs=50, batch_size=16, verbose=2, validation_data=(X_test, y_test))"
      ]
    },
    {
      "cell_type": "code",
      "execution_count": null,
      "metadata": {
        "colab": {
          "base_uri": "https://localhost:8080/",
          "height": 268
        },
        "id": "IhPiA1BU3hJY",
        "outputId": "c8da1b50-31ea-4157-ae85-c9349a6bd6fd"
      },
      "outputs": [
        {
          "output_type": "display_data",
          "data": {
            "image/png": "[encoded data removed]",
            "text/plain": [
              "<Figure size 432x288 with 1 Axes>"
            ]
          },
          "metadata": {}
        }
      ],
      "source": [
        "# plot loss\n",
        "pyplot.plot(history.history['loss'], label='train')\n",
        "pyplot.plot(history.history['val_loss'], label='test')\n",
        "pyplot.legend()\n",
        "pyplot.show()"
      ]
    },
    {
      "cell_type": "code",
      "execution_count": null,
      "metadata": {
        "colab": {
          "base_uri": "https://localhost:8080/"
        },
        "id": "wVy2uexG3mQ4",
        "outputId": "47534dff-85d1-4d76-c6f1-e75c21982475"
      },
      "outputs": [
        {
          "output_type": "stream",
          "name": "stdout",
          "text": [
            "[0. 0. 1. 1. 1. 1. 0. 1. 0. 1. 0. 1. 0. 1. 1. 1. 0. 1. 1. 1. 0. 1. 0. 1.\n",
            " 1. 0. 0. 0. 0. 0. 1. 1. 0. 1. 0. 1. 1. 0. 1. 0. 1. 0. 1. 0. 1. 1. 1. 1.\n",
            " 0. 0. 1. 0. 1. 1. 0. 0. 0. 1. 1. 0. 0. 0. 0. 0. 0. 1. 0. 1. 0. 0. 0. 1.\n",
            " 0. 0. 1. 1. 0. 1. 1. 0. 1. 0. 1. 1. 0. 0. 1. 0. 1. 1. 1. 1. 1. 1. 0. 1.\n",
            " 1. 1. 0. 1. 0. 1. 0. 1. 1. 0. 0. 1. 1. 0. 0. 1. 1. 1. 0. 1. 1. 0. 0. 0.\n",
            " 0. 1. 1. 1. 1. 0. 1. 0. 1. 1. 1. 0. 0. 1. 0. 1. 0. 0. 1. 0. 1. 0. 0. 1.\n",
            " 1. 1. 0. 1. 1. 0. 0. 1. 0. 0. 0. 1. 1. 1. 1. 1. 0. 1. 0. 1. 1. 0. 0. 1.\n",
            " 0. 1. 0. 0. 1. 1. 0. 1. 1. 1. 0. 0. 0. 0. 0. 0. 0. 0. 1. 1. 1. 0. 1. 0.\n",
            " 0. 1. 0. 0. 0. 0. 1. 0. 0. 0. 1. 0. 0. 1. 0. 0. 1. 1. 0. 0. 1. 1. 1. 0.\n",
            " 1. 1. 1. 1. 1. 1. 0. 1. 1. 1. 0. 0. 0. 0. 0. 1. 0. 0. 1. 1. 0. 0. 0. 0.\n",
            " 0. 1. 1. 0. 0. 0. 0. 0. 0. 0. 0. 0. 1. 1. 1. 0. 0. 0. 1. 0. 1. 1. 0. 0.\n",
            " 1. 1. 0. 1. 1. 1. 0. 0. 1. 1. 0. 1. 1. 1. 0. 1. 1. 1. 0. 0. 0. 1. 1. 1.\n",
            " 0. 1. 0. 0. 1. 1. 1. 1. 0. 0. 0. 0. 0. 1. 1. 0. 1. 1. 0. 1. 0. 0. 0. 0.\n",
            " 1. 1. 1. 1. 0. 1. 1. 1. 0. 0. 0. 1. 0. 0. 1. 1. 0. 1. 0. 0. 1. 1. 1. 1.\n",
            " 0. 1. 0. 0. 1. 0. 0. 1. 0. 0. 0. 1. 1. 0. 1. 0. 0. 0. 1. 1. 0. 0. 1. 0.\n",
            " 0. 1. 0. 1. 1. 0. 0. 0. 1. 0. 0. 0. 0. 1. 0. 1. 0. 1. 0. 0. 1. 1. 1. 1.\n",
            " 1. 0. 0. 0. 1. 0. 1. 1. 0. 1. 1. 1. 0. 0. 0. 1. 0. 0. 1. 1. 1. 0. 0. 0.\n",
            " 0. 0. 1. 1. 1. 0. 1. 1. 0. 0. 0. 1. 1. 0. 0. 1. 0. 0. 0. 1. 1. 0. 1. 0.\n",
            " 1. 1. 0. 1. 0. 1. 0. 0. 1. 1. 1. 1. 1. 0. 0. 0. 1. 1. 1. 0. 0. 1. 1. 1.\n",
            " 0. 0. 1. 1. 0. 1. 1. 1. 0. 0. 1. 0. 0. 0. 0. 1. 0. 0. 0. 1. 1. 0. 1. 1.\n",
            " 0. 1. 1. 1. 1. 1. 1. 1. 0. 1. 1. 0. 0. 1. 1. 0. 0. 1. 0. 1. 0. 1. 1. 0.\n",
            " 1. 0. 0. 1. 0. 1. 1. 1. 0. 1. 1. 1. 1. 0. 1. 0. 0. 0. 0. 1. 0. 1. 0. 1.\n",
            " 1. 0. 1. 1. 0. 0. 1. 0. 0. 0. 1. 0. 0. 0. 1. 0. 1. 0. 0. 1. 0. 0. 1. 0.\n",
            " 1. 0. 1.]\n",
            "[[ 4.9978545e-01  2.5854269e-01 -6.6030139e-01 ... -8.6855197e-01\n",
            "  -3.8061779e-02  5.8021528e-01]\n",
            " [-1.6645580e-03 -5.7231772e-01  6.7492771e-01 ...  6.4008445e-02\n",
            "  -1.6398667e+00  1.7014382e+00]\n",
            " [-4.6372464e-01 -1.7286408e-01  3.7265927e-02 ... -1.2108796e+00\n",
            "  -3.9714974e-01  1.3211123e+00]\n",
            " ...\n",
            " [ 1.7712159e-01  5.8479542e-01  3.3084860e-01 ... -1.3143289e+00\n",
            "   4.8939121e-01  1.3803920e+00]\n",
            " [ 1.5016496e-02 -6.7388117e-02  7.6058692e-01 ...  2.1351354e-02\n",
            "  -7.4731398e-01  8.4517950e-01]\n",
            " [-2.6160786e-02  1.7632070e+00  1.4350380e+00 ... -3.4279597e-01\n",
            "  -9.1535670e-01  2.2571588e+00]]\n"
          ]
        }
      ],
      "source": [
        "# define an encoder model (without the decoder)\n",
        "encoder = Model(inputs=visible, outputs=bottleneck)\n",
        "# plot_model(encoder, 'encoder_no_compress.png', show_shapes=True)\n",
        "# # save the encoder to file\n",
        "# encoder.save('encoder.h5')\n",
        "y_pred = encoder.predict(X_test)\n",
        "from sklearn.metrics import accuracy_score\n",
        "print(y_test)\n",
        "print(y_pred)\n",
        "#print('Accuracy : '+str(accuracy_score(y_test, y_pred)))"
      ]
    },
    {
      "cell_type": "markdown",
      "metadata": {
        "id": "V3mPxvx5Wrht"
      },
      "source": [
        "## Sklearn Naive GB"
      ]
    },
    {
      "cell_type": "code",
      "execution_count": null,
      "metadata": {
        "id": "Wwzw087rWuNB"
      },
      "outputs": [],
      "source": [
        "import numpy as np\n",
        "from sklearn.naive_bayes import GaussianNB\n",
        "from sklearn.metrics import accuracy_score"
      ]
    },
    {
      "cell_type": "code",
      "execution_count": null,
      "metadata": {
        "id": "c4raGqfqg9ZG"
      },
      "outputs": [],
      "source": [
        "X = main[:,0:-1]\n",
        "y = main[:,-1]"
      ]
    },
    {
      "cell_type": "code",
      "execution_count": null,
      "metadata": {
        "id": "vfpI3SQ9g-fR"
      },
      "outputs": [],
      "source": [
        "from sklearn.model_selection import train_test_split\n",
        "X_train, X_test, y_train, y_test = train_test_split(X, y, test_size=0.3)"
      ]
    },
    {
      "cell_type": "code",
      "execution_count": null,
      "metadata": {
        "colab": {
          "base_uri": "https://localhost:8080/"
        },
        "id": "N6RBpEuCXOcg",
        "outputId": "db263ba8-37f8-4f7d-df07-9610c0114f9f"
      },
      "outputs": [
        {
          "output_type": "stream",
          "name": "stdout",
          "text": [
            "Accuracy : 0.6607142857142857\n"
          ]
        }
      ],
      "source": [
        "clf = GaussianNB()\n",
        "clf.fit(X_train,y_train)\n",
        "y_pred = clf.predict(X_test)\n",
        "print('Accuracy : '+str(accuracy_score(y_test, y_pred)))"
      ]
    },
    {
      "cell_type": "markdown",
      "source": [
        "## GMM"
      ],
      "metadata": {
        "id": "cjEnSj7UUO4J"
      }
    },
    {
      "cell_type": "code",
      "source": [
        "import numpy as np\n",
        "from sklearn.mixture import GaussianMixture\n",
        "from sklearn.mixture import BayesianGaussianMixture\n",
        "from sklearn.metrics import accuracy_score"
      ],
      "metadata": {
        "id": "p8UqYGekUQBd"
      },
      "execution_count": null,
      "outputs": []
    },
    {
      "cell_type": "code",
      "source": [
        "X = main[:,0:-1]\n",
        "y = main[:,-1]"
      ],
      "metadata": {
        "id": "1f7GlFFkUU6l"
      },
      "execution_count": null,
      "outputs": []
    },
    {
      "cell_type": "code",
      "source": [
        "from sklearn.model_selection import train_test_split\n",
        "X_train, X_test, y_train, y_test = train_test_split(X, y, test_size=0.3)"
      ],
      "metadata": {
        "id": "EX1CvsW4UXUH"
      },
      "execution_count": null,
      "outputs": []
    },
    {
      "cell_type": "code",
      "source": [
        "clf = GaussianMixture()\n",
        "clf.fit(X_train,y_train)\n",
        "y_pred = clf.predict(X_test)\n",
        "print('Accuracy of Gaussian Mixture: '+str(accuracy_score(y_test, y_pred)))"
      ],
      "metadata": {
        "colab": {
          "base_uri": "https://localhost:8080/"
        },
        "id": "s2XBI-aNUZBi",
        "outputId": "48b6d0ab-62ee-44e7-9f52-6e55719bf24e"
      },
      "execution_count": null,
      "outputs": [
        {
          "output_type": "stream",
          "name": "stdout",
          "text": [
            "Accuracy of Gaussian Mixture: 0.5099206349206349\n"
          ]
        }
      ]
    },
    {
      "cell_type": "code",
      "source": [
        "clf = BayesianGaussianMixture()\n",
        "clf.fit(X_train,y_train)\n",
        "y_pred = clf.predict(X_test)\n",
        "print('Accuracy of Bayesian Gaussian Mixture: '+str(accuracy_score(y_test, y_pred)))"
      ],
      "metadata": {
        "colab": {
          "base_uri": "https://localhost:8080/"
        },
        "id": "ZypodPmIUoDW",
        "outputId": "1d99d162-260f-413a-a588-ee95fec70835"
      },
      "execution_count": null,
      "outputs": [
        {
          "output_type": "stream",
          "name": "stdout",
          "text": [
            "Accuracy of Bayesian Gaussian Mixture: 0.5099206349206349\n"
          ]
        }
      ]
    },
    {
      "cell_type": "markdown",
      "metadata": {
        "id": "KxzgMGo6ix1Z"
      },
      "source": [
        "## Encoder"
      ]
    },
    {
      "cell_type": "markdown",
      "metadata": {
        "id": "YzzcY13Rnj5H"
      },
      "source": [
        "https://www.geeksforgeeks.org/ml-classifying-data-using-an-auto-encoder/?ref=lbp"
      ]
    },
    {
      "cell_type": "code",
      "execution_count": null,
      "metadata": {
        "id": "-6HKmnsbi1Hb"
      },
      "outputs": [],
      "source": [
        "# Loading libraries\n",
        "\n",
        "import pandas as pd \n",
        "import numpy as np\n",
        "from sklearn.model_selection import train_test_split \n",
        "from sklearn.linear_model import LogisticRegression\n",
        "from sklearn.svm import SVC\n",
        "from sklearn.metrics import accuracy_score\n",
        "from sklearn.preprocessing import MinMaxScaler \n",
        "from sklearn.manifold import TSNE\n",
        "import matplotlib.pyplot as plt\n",
        "import seaborn as sns\n",
        "from keras.layers import Input, Dense\n",
        "from keras.models import Model, Sequential\n",
        "from keras import regularizers"
      ]
    },
    {
      "cell_type": "code",
      "execution_count": null,
      "metadata": {
        "id": "T6GEJsbPi1Sm"
      },
      "outputs": [],
      "source": [
        "# # Loading data\n",
        "\n",
        "\n",
        "# # Changing the working location to the location of the data\n",
        "# cd C:\\Users\\Dev\\Desktop\\Kaggle\\Credit Card Fraud\n",
        "  \n",
        "# # Loading the dataset\n",
        "# df = pd.read_csv('creditcard.csv')\n",
        "  \n",
        "# # Making the Time values appropriate for future work\n",
        "# df['Time'] = df['Time'].apply(lambda x : (x / 3600) % 24)\n",
        "  \n",
        "# # Separating the normal and fraudulent transactions\n",
        "# fraud = df[df['Class']== 1]\n",
        "# normal = df[df['Class']== 0].sample(2500)\n",
        "  \n",
        "# # Reducing the dataset because of machinery constraints\n",
        "# df = normal.append(fraud).reset_index(drop = True)\n",
        "  \n",
        "# # Separating the dependent and independent variables\n",
        "# y = df['Class']\n",
        "# X = df.drop('Class', axis = 1)\n",
        "\n",
        "X = main[:,0:-1]\n",
        "y = main[:,-1]"
      ]
    },
    {
      "cell_type": "code",
      "execution_count": null,
      "metadata": {
        "id": "4mEnHzcRjNLA"
      },
      "outputs": [],
      "source": [
        "# Writing function for plotting\n",
        "\n",
        "def tsne_plot(x, y):\n",
        "      \n",
        "    # Setting the plotting background\n",
        "    sns.set(style =\"whitegrid\")\n",
        "      \n",
        "    tsne = TSNE(n_components = 2, random_state = 0)\n",
        "      \n",
        "    # Reducing the dimensionality of the data\n",
        "    X_transformed = tsne.fit_transform(x)\n",
        "  \n",
        "    plt.figure(figsize =(12, 8))\n",
        "      \n",
        "    # Building the scatter plot\n",
        "    plt.scatter(X_transformed[np.where(y == 0), 0], \n",
        "                X_transformed[np.where(y == 0), 1],\n",
        "                marker ='o', color ='y', linewidth ='1',\n",
        "                alpha = 0.8, label ='Normal')\n",
        "    plt.scatter(X_transformed[np.where(y == 1), 0],\n",
        "                X_transformed[np.where(y == 1), 1],\n",
        "                marker ='o', color ='k', linewidth ='1',\n",
        "                alpha = 0.8, label ='Fraud')\n",
        "  \n",
        "    # Specifying the location of the legend\n",
        "    plt.legend(loc ='best')\n",
        "      \n",
        "    # Plotting the reduced data\n",
        "    plt.show()"
      ]
    },
    {
      "cell_type": "code",
      "execution_count": null,
      "metadata": {
        "id": "7eZaJJy-jhaY",
        "colab": {
          "base_uri": "https://localhost:8080/",
          "height": 485
        },
        "outputId": "83d473fe-ceb9-460c-fb65-5a5291bf7982"
      },
      "outputs": [
        {
          "output_type": "display_data",
          "data": {
            "image/png": "[encoded data removed]",
            "text/plain": [
              "<Figure size 864x576 with 1 Axes>"
            ]
          },
          "metadata": {}
        }
      ],
      "source": [
        "# Visualizing data\n",
        "tsne_plot(X, y)"
      ]
    },
    {
      "cell_type": "code",
      "execution_count": null,
      "metadata": {
        "id": "Qbk0YecXjSfE"
      },
      "outputs": [],
      "source": [
        "# Cleaning data to make it suitable for auto-encoder\n",
        "\n",
        "X_scaled = MinMaxScaler().fit_transform(X)\n",
        "X_normal_scaled = X_scaled[y == 0]\n",
        "X_fraud_scaled = X_scaled[y == 1]"
      ]
    },
    {
      "cell_type": "code",
      "execution_count": null,
      "metadata": {
        "id": "b9cUygjUjmQf"
      },
      "outputs": [],
      "source": [
        "# Building auto-encoder for neural network\n",
        "\n",
        "# Building the Input Layer\n",
        "input_layer = Input(shape =(X.shape[1], ))\n",
        "  \n",
        "# Building the Encoder network\n",
        "encoded = Dense(100, activation ='tanh',\n",
        "                activity_regularizer = regularizers.l1(10e-5))(input_layer)\n",
        "encoded = Dense(50, activation ='tanh',\n",
        "                activity_regularizer = regularizers.l1(10e-5))(encoded)\n",
        "encoded = Dense(25, activation ='tanh',\n",
        "                activity_regularizer = regularizers.l1(10e-5))(encoded)\n",
        "encoded = Dense(12, activation ='tanh',\n",
        "                activity_regularizer = regularizers.l1(10e-5))(encoded)\n",
        "encoded = Dense(6, activation ='relu')(encoded)\n",
        "  \n",
        "# Building the Decoder network\n",
        "decoded = Dense(12, activation ='tanh')(encoded)\n",
        "decoded = Dense(25, activation ='tanh')(decoded)\n",
        "decoded = Dense(50, activation ='tanh')(decoded)\n",
        "decoded = Dense(100, activation ='tanh')(decoded)\n",
        "  \n",
        "# Building the Output Layer\n",
        "output_layer = Dense(X.shape[1], activation ='relu')(decoded)"
      ]
    },
    {
      "cell_type": "code",
      "execution_count": null,
      "metadata": {
        "id": "yraiCq5NjnUh",
        "colab": {
          "base_uri": "https://localhost:8080/"
        },
        "outputId": "9f355021-a6a0-4cb2-9a4f-629206403102"
      },
      "outputs": [
        {
          "output_type": "stream",
          "name": "stdout",
          "text": [
            "Epoch 1/10\n",
            "42/42 [==============================] - 1s 8ms/step - loss: 0.0308 - val_loss: 0.0285\n",
            "Epoch 2/10\n",
            "42/42 [==============================] - 0s 3ms/step - loss: 0.0285 - val_loss: 0.0275\n",
            "Epoch 3/10\n",
            "42/42 [==============================] - 0s 3ms/step - loss: 0.0260 - val_loss: 0.0258\n",
            "Epoch 4/10\n",
            "42/42 [==============================] - 0s 3ms/step - loss: 0.0234 - val_loss: 0.0241\n",
            "Epoch 5/10\n",
            "42/42 [==============================] - 0s 3ms/step - loss: 0.0212 - val_loss: 0.0222\n",
            "Epoch 6/10\n",
            "42/42 [==============================] - 0s 3ms/step - loss: 0.0198 - val_loss: 0.0215\n",
            "Epoch 7/10\n",
            "42/42 [==============================] - 0s 3ms/step - loss: 0.0189 - val_loss: 0.0207\n",
            "Epoch 8/10\n",
            "42/42 [==============================] - 0s 3ms/step - loss: 0.0179 - val_loss: 0.0194\n",
            "Epoch 9/10\n",
            "42/42 [==============================] - 0s 3ms/step - loss: 0.0171 - val_loss: 0.0186\n",
            "Epoch 10/10\n",
            "42/42 [==============================] - 0s 3ms/step - loss: 0.0162 - val_loss: 0.0183\n"
          ]
        },
        {
          "output_type": "execute_result",
          "data": {
            "text/plain": [
              "<keras.callbacks.History at 0x7fe9ac5cb410>"
            ]
          },
          "metadata": {},
          "execution_count": 187
        }
      ],
      "source": [
        "# Defining and training the autoencoder\n",
        "\n",
        "# Defining the parameters of the Auto-encoder network\n",
        "autoencoder = Model(input_layer, output_layer)\n",
        "autoencoder.compile(optimizer =\"adadelta\", loss =\"binary_crossentropy\")\n",
        "  \n",
        "# Training the Auto-encoder network\n",
        "autoencoder.fit(X[y==0], X[y==0], \n",
        "                batch_size = 16, epochs = 10, \n",
        "                shuffle = True, validation_split = 0.20)"
      ]
    },
    {
      "cell_type": "code",
      "execution_count": null,
      "metadata": {
        "id": "NykceI3UjrWv"
      },
      "outputs": [],
      "source": [
        "# Retaining the encoder part of the Auto-encoder to encode data\n",
        "\n",
        "hidden_representation = Sequential()\n",
        "hidden_representation.add(autoencoder.layers[0])\n",
        "hidden_representation.add(autoencoder.layers[1])\n",
        "hidden_representation.add(autoencoder.layers[2])\n",
        "hidden_representation.add(autoencoder.layers[3])\n",
        "hidden_representation.add(autoencoder.layers[4])"
      ]
    },
    {
      "cell_type": "code",
      "execution_count": null,
      "metadata": {
        "id": "Ncbhfb71jutd",
        "colab": {
          "base_uri": "https://localhost:8080/",
          "height": 485
        },
        "outputId": "eea2ea8c-5d71-4f9c-c47f-663f83d2d0cc"
      },
      "outputs": [
        {
          "output_type": "display_data",
          "data": {
            "image/png": "[encoded data removed]",
            "text/plain": [
              "<Figure size 864x576 with 1 Axes>"
            ]
          },
          "metadata": {}
        }
      ],
      "source": [
        "# Encoding the data and visualizing the encoded data\n",
        "\n",
        "# Separating the points encoded by the Auto-encoder as normal and fraud\n",
        "normal_hidden_rep = hidden_representation.predict(X_normal_scaled)\n",
        "fraud_hidden_rep = hidden_representation.predict(X_fraud_scaled)\n",
        "  \n",
        "# Combining the encoded points into a single table \n",
        "encoded_X = np.append(normal_hidden_rep, fraud_hidden_rep, axis = 0)\n",
        "y_normal = np.zeros(normal_hidden_rep.shape[0])\n",
        "y_fraud = np.ones(fraud_hidden_rep.shape[0])\n",
        "encoded_y = np.append(y_normal, y_fraud)\n",
        "  \n",
        "# Plotting the encoded points\n",
        "tsne_plot(encoded_X, encoded_y)"
      ]
    },
    {
      "cell_type": "code",
      "execution_count": null,
      "metadata": {
        "id": "Q8gl0iqhjyjC"
      },
      "outputs": [],
      "source": [
        "#Splitting the original and encoded data into training and testing data\n",
        "\n",
        "# Splitting the encoded data for linear classification\n",
        "X_train_encoded, X_test_encoded, y_train_encoded, y_test_encoded = train_test_split(encoded_X, encoded_y, test_size = 0.2)\n",
        "  \n",
        "# Splitting the original data for non-linear classification\n",
        "X_train, X_test, y_train, y_test = train_test_split(X, y, test_size = 0.2)"
      ]
    },
    {
      "cell_type": "code",
      "execution_count": null,
      "metadata": {
        "id": "R4VbYL4rlpRp",
        "colab": {
          "base_uri": "https://localhost:8080/"
        },
        "outputId": "cc0c6ab3-7fa1-45e8-90a6-2fb8275c8ee5"
      },
      "outputs": [
        {
          "output_type": "stream",
          "name": "stdout",
          "text": [
            "Accuracy : 0.6488095238095238\n"
          ]
        }
      ],
      "source": [
        "# Building the Logistic Regression model and evaluating it’s performance\n",
        "\n",
        "# Building the logistic regression model\n",
        "lrclf = LogisticRegression()\n",
        "lrclf.fit(X_train_encoded, y_train_encoded)\n",
        "  \n",
        "# Storing the predictions of the linear model\n",
        "y_pred_lrclf = lrclf.predict(X_test_encoded)\n",
        "  \n",
        "# Evaluating the performance of the linear model\n",
        "print('Accuracy : '+str(accuracy_score(y_test_encoded, y_pred_lrclf)))"
      ]
    },
    {
      "cell_type": "code",
      "source": [
        "estimator = LogisticRegression()\n",
        "kfold = StratifiedKFold(n_splits=5, shuffle=True)\n",
        "results = cross_val_score(estimator, encoded_X, encoded_y, cv=kfold)\n",
        "print(\"Baseline: %.2f%% (%.2f%%)\" % (results.mean()*100, results.std()*100))"
      ],
      "metadata": {
        "colab": {
          "base_uri": "https://localhost:8080/"
        },
        "id": "vOro6jeKYsmp",
        "outputId": "5e1f43aa-451f-4331-893e-ea82c61e7de8"
      },
      "execution_count": null,
      "outputs": [
        {
          "output_type": "stream",
          "name": "stdout",
          "text": [
            "Baseline: 65.12% (3.74%)\n"
          ]
        }
      ]
    },
    {
      "cell_type": "code",
      "execution_count": null,
      "metadata": {
        "id": "hftE1k8Gj6tk",
        "colab": {
          "base_uri": "https://localhost:8080/"
        },
        "outputId": "43020fe5-df16-4912-b9af-4df68d16e9b2"
      },
      "outputs": [
        {
          "output_type": "stream",
          "name": "stdout",
          "text": [
            "Accuracy : 0.6755952380952381\n"
          ]
        }
      ],
      "source": [
        "# Building the Support Vector Machine and evaluating it’s performance\n",
        "\n",
        "# Building the SVM model\n",
        "svmclf = SVC()\n",
        "svmclf.fit(X_train_encoded, y_train_encoded)\n",
        "  \n",
        "# Storing the predictions of the non-linear model\n",
        "y_pred_svmclf = svmclf.predict(X_test_encoded)\n",
        "  \n",
        "# Evaluating the performance of the non-linear model\n",
        "print('Accuracy : '+str(accuracy_score(y_test_encoded, y_pred_svmclf)))"
      ]
    },
    {
      "cell_type": "code",
      "source": [
        "estimator = RandomForestClassifier()\n",
        "estimator.fit(X_train_encoded, y_train_encoded)\n",
        "  \n",
        "# Storing the predictions of the non-linear model\n",
        "y_pred = estimator.predict(X_test_encoded)\n",
        "  \n",
        "# Evaluating the performance of the non-linear model\n",
        "print('Accuracy : '+str(accuracy_score(y_test_encoded, y_pred)))"
      ],
      "metadata": {
        "colab": {
          "base_uri": "https://localhost:8080/"
        },
        "id": "LyOJpzHMVTe4",
        "outputId": "65e6f1c1-ddb0-4f66-c245-b5cfdf13905b"
      },
      "execution_count": null,
      "outputs": [
        {
          "output_type": "stream",
          "name": "stdout",
          "text": [
            "Accuracy : 0.7678571428571429\n"
          ]
        }
      ]
    },
    {
      "cell_type": "code",
      "source": [
        "estimator = SVC()\n",
        "kfold = StratifiedKFold(n_splits=5, shuffle=True)\n",
        "results = cross_val_score(estimator, encoded_X, encoded_y, cv=kfold)\n",
        "print(\"Baseline: %.2f%% (%.2f%%)\" % (results.mean()*100, results.std()*100))"
      ],
      "metadata": {
        "colab": {
          "base_uri": "https://localhost:8080/"
        },
        "id": "VUkY7IMkX7dn",
        "outputId": "44a0db22-1d91-47db-fabc-a479ed299699"
      },
      "execution_count": null,
      "outputs": [
        {
          "output_type": "stream",
          "name": "stdout",
          "text": [
            "Baseline: 68.33% (1.94%)\n"
          ]
        }
      ]
    },
    {
      "cell_type": "code",
      "source": [
        "estimator = RandomForestClassifier()\n",
        "kfold = StratifiedKFold(n_splits=5, shuffle=True)\n",
        "results = cross_val_score(estimator, encoded_X, encoded_y, cv=kfold)\n",
        "print(\"Baseline: %.2f%% (%.2f%%)\" % (results.mean()*100, results.std()*100))"
      ],
      "metadata": {
        "colab": {
          "base_uri": "https://localhost:8080/"
        },
        "id": "Og8e60nhYBHF",
        "outputId": "05d1334e-5f4f-4453-e37a-1a3d4da08c10"
      },
      "execution_count": null,
      "outputs": [
        {
          "output_type": "stream",
          "name": "stdout",
          "text": [
            "Baseline: 75.30% (2.31%)\n"
          ]
        }
      ]
    },
    {
      "cell_type": "code",
      "source": [
        "print(encoded_X.shape, encoded_y.shape)"
      ],
      "metadata": {
        "colab": {
          "base_uri": "https://localhost:8080/"
        },
        "id": "DEOgg6VaeOc4",
        "outputId": "e73455b2-531e-4b5b-877e-731222f25041"
      },
      "execution_count": null,
      "outputs": [
        {
          "output_type": "stream",
          "name": "stdout",
          "text": [
            "(1680, 12) (1680,)\n"
          ]
        }
      ]
    },
    {
      "cell_type": "code",
      "source": [
        "from pandas import read_csv\n",
        "from keras.models import Sequential\n",
        "from keras.layers import Dense\n",
        "from keras.wrappers.scikit_learn import KerasClassifier\n",
        "from sklearn.model_selection import cross_val_score\n",
        "from sklearn.model_selection import StratifiedKFold\n",
        "\n",
        "# baseline model\n",
        "def create_baseline():\n",
        "\t# create model\n",
        "  model = Sequential()\n",
        "  model.add(Dense(12, input_dim=12, activation='relu'))\n",
        "  model.add(Dense(6, activation='relu'))\n",
        "  model.add(Dense(1, activation='sigmoid'))\n",
        "\t# Compile model\n",
        "  model.compile(loss='binary_crossentropy', optimizer='adam', metrics=['accuracy'])\n",
        "  return model\n",
        "\n",
        "estimator = KerasClassifier(build_fn=create_baseline, epochs=100, batch_size=5, verbose=0)\n",
        "kfold = StratifiedKFold(n_splits=5, shuffle=True)\n",
        "results = cross_val_score(estimator, encoded_X, encoded_y, cv=kfold)\n",
        "print(\"Baseline: %.2f%% (%.2f%%)\" % (results.mean()*100, results.std()*100))"
      ],
      "metadata": {
        "colab": {
          "base_uri": "https://localhost:8080/"
        },
        "id": "F08omvxEbWC6",
        "outputId": "7f46b586-ee24-4c1c-8b33-5c9da8062980"
      },
      "execution_count": null,
      "outputs": [
        {
          "output_type": "stream",
          "name": "stdout",
          "text": [
            "Baseline: 70.24% (2.68%)\n"
          ]
        }
      ]
    }
  ],
  "metadata": {
    "colab": {
      "collapsed_sections": [
        "QNH2jCYU-ozb",
        "YpIPeIGta9l_",
        "0PmL258F_uZu",
        "QVMafP1B2Dmq",
        "QNRs1drUAH6g",
        "F2I9UrUuobRr",
        "KCtsI9rJL4b8",
        "9Ui8P00aGdcb",
        "dVfsREnaNtsN",
        "mNrU23Y8qjSb",
        "jDY50l2rycgF",
        "6aatJCZSyj4e",
        "bvt1Yh6R9989"
      ],
      "name": "DrunkDriving.ipynb",
      "provenance": []
    },
    "kernelspec": {
      "display_name": "Python 3",
      "name": "python3"
    },
    "language_info": {
      "name": "python"
    }
  },
  "nbformat": 4,
  "nbformat_minor": 0
}