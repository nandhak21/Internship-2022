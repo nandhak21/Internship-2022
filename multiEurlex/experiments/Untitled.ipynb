{
 "cells": [
  {
   "cell_type": "code",
   "execution_count": 2,
   "metadata": {},
   "outputs": [
    {
     "name": "stdout",
     "output_type": "stream",
     "text": [
      "Collecting tensorflow_addons\n",
      "  Downloading tensorflow_addons-0.15.0-cp38-cp38-macosx_10_13_x86_64.whl (581 kB)\n",
      "\u001b[K     |████████████████████████████████| 581 kB 1.6 MB/s eta 0:00:01\n",
      "\u001b[?25hCollecting typeguard>=2.7\n",
      "  Using cached typeguard-2.13.3-py3-none-any.whl (17 kB)\n",
      "Installing collected packages: typeguard, tensorflow-addons\n",
      "Successfully installed tensorflow-addons-0.15.0 typeguard-2.13.3\n"
     ]
    }
   ],
   "source": [
    "!pip3 install tensorflow_addons"
   ]
  },
  {
   "cell_type": "code",
   "execution_count": 7,
   "metadata": {},
   "outputs": [
    {
     "name": "stdout",
     "output_type": "stream",
     "text": [
      "Collecting datasets\n",
      "  Downloading datasets-1.18.2-py3-none-any.whl (312 kB)\n",
      "\u001b[K     |████████████████████████████████| 312 kB 7.3 MB/s eta 0:00:01\n",
      "\u001b[?25hCollecting fsspec[http]>=2021.05.0\n",
      "  Downloading fsspec-2022.1.0-py3-none-any.whl (133 kB)\n",
      "\u001b[K     |████████████████████████████████| 133 kB 9.1 MB/s eta 0:00:01\n",
      "\u001b[?25hCollecting pyarrow!=4.0.0,>=3.0.0\n",
      "  Downloading pyarrow-6.0.1-cp38-cp38-macosx_10_13_x86_64.whl (19.1 MB)\n",
      "\u001b[K     |████████████████████████████████| 19.1 MB 11.6 MB/s eta 0:00:01    |████████████████████            | 12.0 MB 566 kB/s eta 0:00:13\n",
      "\u001b[?25hCollecting huggingface-hub<1.0.0,>=0.1.0\n",
      "  Downloading huggingface_hub-0.4.0-py3-none-any.whl (67 kB)\n",
      "\u001b[K     |████████████████████████████████| 67 kB 9.8 MB/s  eta 0:00:01\n",
      "\u001b[?25hCollecting dill\n",
      "  Downloading dill-0.3.4-py2.py3-none-any.whl (86 kB)\n",
      "\u001b[K     |████████████████████████████████| 86 kB 9.1 MB/s  eta 0:00:01\n",
      "\u001b[?25hRequirement already satisfied: requests>=2.19.0 in /Users/krithiga.r/.local/lib/python3.8/site-packages (from datasets) (2.24.0)\n",
      "Collecting multiprocess\n",
      "  Downloading multiprocess-0.70.12.2-py38-none-any.whl (128 kB)\n",
      "\u001b[K     |████████████████████████████████| 128 kB 11.8 MB/s eta 0:00:01\n",
      "\u001b[?25hCollecting xxhash\n",
      "  Downloading xxhash-2.0.2-cp38-cp38-macosx_10_9_x86_64.whl (31 kB)\n",
      "Collecting aiohttp\n",
      "  Downloading aiohttp-3.8.1-cp38-cp38-macosx_10_9_x86_64.whl (574 kB)\n",
      "\u001b[K     |████████████████████████████████| 574 kB 14.8 MB/s eta 0:00:01\n",
      "\u001b[?25hCollecting tqdm>=4.62.1\n",
      "  Downloading tqdm-4.62.3-py2.py3-none-any.whl (76 kB)\n",
      "\u001b[K     |████████████████████████████████| 76 kB 8.9 MB/s  eta 0:00:01\n",
      "\u001b[?25hRequirement already satisfied: packaging in /Users/krithiga.r/opt/anaconda3/lib/python3.8/site-packages (from datasets) (20.4)\n",
      "Requirement already satisfied: numpy>=1.17 in /Users/krithiga.r/opt/anaconda3/lib/python3.8/site-packages (from datasets) (1.18.5)\n",
      "Requirement already satisfied: pandas in /Users/krithiga.r/.local/lib/python3.8/site-packages (from datasets) (0.25.3)\n",
      "Requirement already satisfied: filelock in /Users/krithiga.r/opt/anaconda3/lib/python3.8/site-packages (from huggingface-hub<1.0.0,>=0.1.0->datasets) (3.0.12)\n",
      "Requirement already satisfied: pyyaml in /Users/krithiga.r/.local/lib/python3.8/site-packages (from huggingface-hub<1.0.0,>=0.1.0->datasets) (5.3.1)\n",
      "Collecting typing-extensions>=3.7.4.3\n",
      "  Downloading typing_extensions-4.0.1-py3-none-any.whl (22 kB)\n",
      "Requirement already satisfied: idna<3,>=2.5 in /Users/krithiga.r/.local/lib/python3.8/site-packages (from requests>=2.19.0->datasets) (2.10)\n",
      "Requirement already satisfied: urllib3!=1.25.0,!=1.25.1,<1.26,>=1.21.1 in /Users/krithiga.r/.local/lib/python3.8/site-packages (from requests>=2.19.0->datasets) (1.25.10)\n",
      "Requirement already satisfied: certifi>=2017.4.17 in /Users/krithiga.r/.local/lib/python3.8/site-packages (from requests>=2.19.0->datasets) (2020.6.20)\n",
      "Requirement already satisfied: chardet<4,>=3.0.2 in /Users/krithiga.r/.local/lib/python3.8/site-packages (from requests>=2.19.0->datasets) (3.0.4)\n",
      "Collecting yarl<2.0,>=1.0\n",
      "  Downloading yarl-1.7.2-cp38-cp38-macosx_10_9_x86_64.whl (121 kB)\n",
      "\u001b[K     |████████████████████████████████| 121 kB 11.3 MB/s eta 0:00:01\n",
      "\u001b[?25hCollecting async-timeout<5.0,>=4.0.0a3\n",
      "  Downloading async_timeout-4.0.2-py3-none-any.whl (5.8 kB)\n",
      "Collecting aiosignal>=1.1.2\n",
      "  Downloading aiosignal-1.2.0-py3-none-any.whl (8.2 kB)\n",
      "Collecting charset-normalizer<3.0,>=2.0\n",
      "  Downloading charset_normalizer-2.0.11-py3-none-any.whl (39 kB)\n",
      "Requirement already satisfied: attrs>=17.3.0 in /Users/krithiga.r/opt/anaconda3/lib/python3.8/site-packages (from aiohttp->datasets) (19.3.0)\n",
      "Collecting frozenlist>=1.1.1\n",
      "  Downloading frozenlist-1.3.0-cp38-cp38-macosx_10_9_x86_64.whl (36 kB)\n",
      "Collecting multidict<7.0,>=4.5\n",
      "  Downloading multidict-6.0.2-cp38-cp38-macosx_10_9_x86_64.whl (28 kB)\n",
      "Requirement already satisfied: six in /Users/krithiga.r/.local/lib/python3.8/site-packages (from packaging->datasets) (1.15.0)\n",
      "Requirement already satisfied: pyparsing>=2.0.2 in /Users/krithiga.r/opt/anaconda3/lib/python3.8/site-packages (from packaging->datasets) (2.4.7)\n",
      "Requirement already satisfied: python-dateutil>=2.6.1 in /Users/krithiga.r/.local/lib/python3.8/site-packages (from pandas->datasets) (2.8.1)\n",
      "Requirement already satisfied: pytz>=2017.2 in /Users/krithiga.r/.local/lib/python3.8/site-packages (from pandas->datasets) (2020.1)\n",
      "\u001b[31mERROR: huggingface-hub 0.4.0 has requirement packaging>=20.9, but you'll have packaging 20.4 which is incompatible.\u001b[0m\n",
      "Installing collected packages: multidict, yarl, async-timeout, frozenlist, aiosignal, charset-normalizer, aiohttp, fsspec, pyarrow, tqdm, typing-extensions, huggingface-hub, dill, multiprocess, xxhash, datasets\n",
      "  Attempting uninstall: fsspec\n",
      "    Found existing installation: fsspec 0.7.4\n",
      "    Uninstalling fsspec-0.7.4:\n",
      "      Successfully uninstalled fsspec-0.7.4\n",
      "  Attempting uninstall: tqdm\n",
      "    Found existing installation: tqdm 4.47.0\n",
      "    Uninstalling tqdm-4.47.0:\n",
      "      Successfully uninstalled tqdm-4.47.0\n",
      "  Attempting uninstall: typing-extensions\n",
      "    Found existing installation: typing-extensions 3.7.4.2\n",
      "    Uninstalling typing-extensions-3.7.4.2:\n",
      "      Successfully uninstalled typing-extensions-3.7.4.2\n",
      "  Attempting uninstall: huggingface-hub\n",
      "    Found existing installation: huggingface-hub 0.0.8\n",
      "    Uninstalling huggingface-hub-0.0.8:\n",
      "      Successfully uninstalled huggingface-hub-0.0.8\n",
      "Successfully installed aiohttp-3.8.1 aiosignal-1.2.0 async-timeout-4.0.2 charset-normalizer-2.0.11 datasets-1.18.2 dill-0.3.4 frozenlist-1.3.0 fsspec-2022.1.0 huggingface-hub-0.4.0 multidict-6.0.2 multiprocess-0.70.12.2 pyarrow-6.0.1 tqdm-4.62.3 typing-extensions-4.0.1 xxhash-2.0.2 yarl-1.7.2\n"
     ]
    }
   ],
   "source": [
    "!pip3 install datasets"
   ]
  },
  {
   "cell_type": "code",
   "execution_count": 19,
   "metadata": {},
   "outputs": [
    {
     "name": "stdout",
     "output_type": "stream",
     "text": [
      "/Users/krithiga.r/opt/anaconda3/lib/python3.8/site-packages/tensorflow_addons/utils/ensure_tf_install.py:53: UserWarning: Tensorflow Addons supports using Python ops for all Tensorflow versions above or equal to 2.5.0 and strictly below 2.8.0 (nightly versions are not supported). \n",
      " The versions of TensorFlow you are currently using is 2.3.1 and is not supported. \n",
      "Some things might work, some things might not.\n",
      "If you were to encounter a bug, do not file an issue.\n",
      "If you want to make sure you're using a tested and supported configuration, either change the TensorFlow version or the TensorFlow Addons's version. \n",
      "You can find the compatibility matrix in TensorFlow Addon's readme:\n",
      "https://github.com/tensorflow/addons\n",
      "  warnings.warn(\n",
      "Using custom data configuration default-a1eb3c6ea4fb652d\n",
      "Reusing dataset multi_eurlex (/Users/krithiga.r/.cache/huggingface/datasets/multi_eurlex/default-a1eb3c6ea4fb652d/1.0.0/8ec8b79877a517369a143ead6679d1788d13e51cf641ed29772f4449e8364fb6)\n",
      "Using custom data configuration default-4b8a6fa2c6d4bcaa\n",
      "Reusing dataset multi_eurlex (/Users/krithiga.r/.cache/huggingface/datasets/multi_eurlex/default-4b8a6fa2c6d4bcaa/1.0.0/8ec8b79877a517369a143ead6679d1788d13e51cf641ed29772f4449e8364fb6)\n",
      "100%|████████████████████████████████████████████| 3/3 [00:00<00:00, 102.02it/s]\n",
      "2022-02-01 10:45:16.381137: I tensorflow/core/platform/cpu_feature_guard.cc:142] This TensorFlow binary is optimized with oneAPI Deep Neural Network Library (oneDNN)to use the following CPU instructions in performance-critical operations:  AVX2 FMA\n",
      "To enable them in other operations, rebuild TensorFlow with the appropriate compiler flags.\n",
      "2022-02-01 10:45:16.425543: I tensorflow/compiler/xla/service/service.cc:168] XLA service 0x7f91515f6eb0 initialized for platform Host (this does not guarantee that XLA will be used). Devices:\n",
      "2022-02-01 10:45:16.425562: I tensorflow/compiler/xla/service/service.cc:176]   StreamExecutor device (0): Host, Default Version\n",
      "Number of devices: 1\n",
      "[1 9 8 6 2 5 4 3]\n",
      "Traceback (most recent call last):\n",
      "  File \"trainer.py\", line 260, in <module>\n",
      "    train()\n",
      "  File \"/Users/krithiga.r/opt/anaconda3/lib/python3.8/site-packages/click/core.py\", line 829, in __call__\n",
      "    return self.main(*args, **kwargs)\n",
      "  File \"/Users/krithiga.r/opt/anaconda3/lib/python3.8/site-packages/click/core.py\", line 782, in main\n",
      "    rv = self.invoke(ctx)\n",
      "  File \"/Users/krithiga.r/opt/anaconda3/lib/python3.8/site-packages/click/core.py\", line 1066, in invoke\n",
      "    return ctx.invoke(self.callback, **ctx.params)\n",
      "  File \"/Users/krithiga.r/opt/anaconda3/lib/python3.8/site-packages/click/core.py\", line 610, in invoke\n",
      "    return callback(*args, **kwargs)\n",
      "  File \"trainer.py\", line 147, in train\n",
      "    history = classifier.fit(train_generator, validation_data=dev_generator,\n",
      "  File \"/Users/krithiga.r/opt/anaconda3/lib/python3.8/site-packages/tensorflow/python/keras/engine/training.py\", line 108, in _method_wrapper\n",
      "    return method(self, *args, **kwargs)\n",
      "  File \"/Users/krithiga.r/opt/anaconda3/lib/python3.8/site-packages/tensorflow/python/keras/engine/training.py\", line 1049, in fit\n",
      "    data_handler = data_adapter.DataHandler(\n",
      "  File \"/Users/krithiga.r/opt/anaconda3/lib/python3.8/site-packages/tensorflow/python/keras/engine/data_adapter.py\", line 1105, in __init__\n",
      "    self._adapter = adapter_cls(\n",
      "  File \"/Users/krithiga.r/opt/anaconda3/lib/python3.8/site-packages/tensorflow/python/keras/engine/data_adapter.py\", line 909, in __init__\n",
      "    super(KerasSequenceAdapter, self).__init__(\n",
      "  File \"/Users/krithiga.r/opt/anaconda3/lib/python3.8/site-packages/tensorflow/python/keras/engine/data_adapter.py\", line 786, in __init__\n",
      "    peek, x = self._peek_and_restore(x)\n",
      "  File \"/Users/krithiga.r/opt/anaconda3/lib/python3.8/site-packages/tensorflow/python/keras/engine/data_adapter.py\", line 920, in _peek_and_restore\n",
      "    return x[0], x\n",
      "  File \"/Users/krithiga.r/multi-eurlex/experiments/data_loader.py\", line 66, in __getitem__\n",
      "    x_batch, y_batch = self.vectorize_data(valid_docs, special_token='<extra_id_0>'\n",
      "  File \"/Users/krithiga.r/multi-eurlex/experiments/data_loader.py\", line 40, in vectorize_data\n",
      "    [special_token + document['text'][self.lang if not self.multilingual_train else\n",
      "  File \"/Users/krithiga.r/multi-eurlex/experiments/data_loader.py\", line 40, in <listcomp>\n",
      "    [special_token + document['text'][self.lang if not self.multilingual_train else\n",
      "TypeError: string indices must be integers\n"
     ]
    }
   ],
   "source": [
    "!python3 trainer.py"
   ]
  },
  {
   "cell_type": "code",
   "execution_count": 5,
   "metadata": {},
   "outputs": [],
   "source": [
    "from datasets import load_dataset"
   ]
  },
  {
   "cell_type": "code",
   "execution_count": 8,
   "metadata": {},
   "outputs": [
    {
     "name": "stderr",
     "output_type": "stream",
     "text": [
      "Using custom data configuration default-language=de\n"
     ]
    },
    {
     "name": "stdout",
     "output_type": "stream",
     "text": [
      "Downloading and preparing dataset multi_eurlex/default to /Users/krithiga.r/.cache/huggingface/datasets/multi_eurlex/default-language=de/1.0.0/8ec8b79877a517369a143ead6679d1788d13e51cf641ed29772f4449e8364fb6...\n"
     ]
    },
    {
     "data": {
      "application/vnd.jupyter.widget-view+json": {
       "model_id": "",
       "version_major": 2,
       "version_minor": 0
      },
      "text/plain": [
       "0 examples [00:00, ? examples/s]"
      ]
     },
     "metadata": {},
     "output_type": "display_data"
    },
    {
     "data": {
      "application/vnd.jupyter.widget-view+json": {
       "model_id": "",
       "version_major": 2,
       "version_minor": 0
      },
      "text/plain": [
       "0 examples [00:00, ? examples/s]"
      ]
     },
     "metadata": {},
     "output_type": "display_data"
    },
    {
     "data": {
      "application/vnd.jupyter.widget-view+json": {
       "model_id": "",
       "version_major": 2,
       "version_minor": 0
      },
      "text/plain": [
       "0 examples [00:00, ? examples/s]"
      ]
     },
     "metadata": {},
     "output_type": "display_data"
    },
    {
     "name": "stdout",
     "output_type": "stream",
     "text": [
      "Dataset multi_eurlex downloaded and prepared to /Users/krithiga.r/.cache/huggingface/datasets/multi_eurlex/default-language=de/1.0.0/8ec8b79877a517369a143ead6679d1788d13e51cf641ed29772f4449e8364fb6. Subsequent calls will reuse this data.\n"
     ]
    }
   ],
   "source": [
    "#ethos_train = load_dataset('ethos','binary',split='train')\n",
    "\n",
    "train_dataset = load_dataset('multi_eurlex', language='de', split='train')"
   ]
  },
  {
   "cell_type": "code",
   "execution_count": 9,
   "metadata": {},
   "outputs": [
    {
     "name": "stderr",
     "output_type": "stream",
     "text": [
      "Using custom data configuration default-language=de\n",
      "Reusing dataset multi_eurlex (/Users/krithiga.r/.cache/huggingface/datasets/multi_eurlex/default-language=de/1.0.0/8ec8b79877a517369a143ead6679d1788d13e51cf641ed29772f4449e8364fb6)\n"
     ]
    }
   ],
   "source": [
    "train_dataset = load_dataset('multi_eurlex', language='de', split='train')"
   ]
  },
  {
   "cell_type": "code",
   "execution_count": 11,
   "metadata": {},
   "outputs": [
    {
     "name": "stdout",
     "output_type": "stream",
     "text": [
      "Dataset({\n",
      "    features: ['celex_id', 'text', 'labels'],\n",
      "    num_rows: 55000\n",
      "})\n"
     ]
    }
   ],
   "source": [
    "print(train_dataset)"
   ]
  },
  {
   "cell_type": "code",
   "execution_count": 12,
   "metadata": {},
   "outputs": [
    {
     "data": {
      "text/plain": [
       "{'celex_id': '32006D0213',\n",
       " 'text': 'ENTSCHEIDUNG DER KOMMISSION\\nvom 6. März 2006\\nzur Festlegung der Brandverhaltensklassen für bestimmte Bauprodukte (Holzfußböden sowie Wand- und Deckenbekleidungen aus Massivholz)\\n(Bekannt gegeben unter Aktenzeichen K(2006) 655)\\n(Text von Bedeutung für den EWR)\\n(2006/213/EG)\\nDIE KOMMISSION DER EUROPÄISCHEN GEMEINSCHAFTEN -\\ngestützt auf den Vertrag zur Gründung der Europäischen Gemeinschaft,\\ngestützt auf die Richtlinie 89/106/EWG des Rates vom 21. Dezember 1988 zur Angleichung der Rechts- und Verwaltungsvorschriften der Mitgliedstaaten über Bauprodukte (1), insbesondere auf Artikel 20 Absatz 2,\\nin Erwägung nachstehender Gründe:\\n(1)\\nNach der Richtlinie 89/106/EWG kann es zur Berücksichtigung der auf einzelstaatlicher, regionaler oder lokaler Ebene bestehenden unterschiedlichen Schutzniveaus für Bauwerke erforderlich sein, dass in den Grundlagendokumenten Klassen entsprechend der Leistung des jeweiligen Produkts im Hinblick auf die jeweilige wesentliche Anforderung festgelegt werden. Diese Dokumente wurden in Form einer Mitteilung der Kommission über die Grundlagendokumente der Richtlinie 89/106/EWG des Rates (2) veröffentlicht.\\n(2)\\nFür die wesentliche Anforderung „Brandschutz“ enthält das Grundlagendokument Nr. 2 eine Reihe zusammenhängender Maßnahmen, die gemeinsam die Strategie für den Brandschutz festlegen, die dann in den Mitgliedstaaten in unterschiedlicher Weise entwickelt werden kann.\\n(3)\\nDas Grundlagendokument Nr. 2 nennt als eine dieser Maßnahmen die Begrenzung der Entstehung und Ausbreitung von Feuer und Rauch in einem gegebenen Bereich, indem das Potenzial der Bauprodukte, zu einem Vollbrand beizutragen, begrenzt wird.\\n(4)\\nDas Grenzniveau kann nur in Form unterschiedlicher Stufen des Brandverhaltens der Bauprodukte in ihrer Endanwendung ausgedrückt werden.\\n(5)\\nAls harmonisierte Lösung wurde in der Entscheidung 2000/147/EG der Kommission vom 8. Februar 2000 zur Durchführung der Richtlinie 89/106/EWG des Rates im Hinblick auf die Klassifizierung des Brandverhaltens von Bauprodukten (3) ein System von Klassen festgelegt.\\n(6)\\nFür Holzfußböden sowie Wand- und Deckenbekleidungen aus Massivholz muss die mit der Entscheidung 2000/147/EG festgelegte Klassifizierung verwendet werden.\\n(7)\\nDas Brandverhalten zahlreicher Bauprodukte/-materialien im Rahmen der in der Entscheidung 2000/147/EG festgelegten Klassifizierung ist so eindeutig ermittelt und den für die Brandschutzvorschriften zuständigen Stellen in den Mitgliedstaaten so gut bekannt, dass sich eine Prüfung dieses Leistungsmerkmals erübrigt.\\n(8)\\nDie in dieser Entscheidung vorgesehenen Maßnahmen entsprechen der Stellungnahme des Ständigen Ausschusses für das Bauwesen -\\nHAT FOLGENDE ENTSCHEIDUNG ERLASSEN:\\nArtikel 1\\nDie Bauprodukte und/oder -materialien, die alle Anforderungen des Merkmals „Brandverhalten“ erfüllen, ohne dass eine weitere Prüfung erforderlich ist, sind im Anhang aufgeführt.\\nArtikel 2\\nDie spezifischen Klassen, die im Rahmen der in der Entscheidung 2000/147/EG festgelegten Klassifizierung des Brandverhaltens für unterschiedliche Bauprodukte und/oder -materialien gelten, sind im Anhang aufgeführt.\\nArtikel 3\\nDie Produkte werden - sofern relevant - in Bezug auf ihre Endanwendung betrachtet.\\nArtikel 4\\nDiese Entscheidung ist an die Mitgliedstaaten gerichtet.\\nBrüssel, den 6. März 2006',\n",
       " 'labels': [1, 20, 7, 3, 0]}"
      ]
     },
     "execution_count": 12,
     "metadata": {},
     "output_type": "execute_result"
    }
   ],
   "source": [
    "train_dataset[0]"
   ]
  },
  {
   "cell_type": "code",
   "execution_count": 18,
   "metadata": {},
   "outputs": [
    {
     "data": {
      "text/plain": [
       "'ENTSCHEIDUNG DER KOMMISSION\\nvom 6. März 2006\\nzur Festlegung der Brandverhaltensklassen für bestimmte Bauprodukte (Holzfußböden sowie Wand- und Deckenbekleidungen aus Massivholz)\\n(Bekannt gegeben unter Aktenzeichen K(2006) 655)\\n(Text von Bedeutung für den EWR)\\n(2006/213/EG)\\nDIE KOMMISSION DER EUROPÄISCHEN GEMEINSCHAFTEN -\\ngestützt auf den Vertrag zur Gründung der Europäischen Gemeinschaft,\\ngestützt auf die Richtlinie 89/106/EWG des Rates vom 21. Dezember 1988 zur Angleichung der Rechts- und Verwaltungsvorschriften der Mitgliedstaaten über Bauprodukte (1), insbesondere auf Artikel 20 Absatz 2,\\nin Erwägung nachstehender Gründe:\\n(1)\\nNach der Richtlinie 89/106/EWG kann es zur Berücksichtigung der auf einzelstaatlicher, regionaler oder lokaler Ebene bestehenden unterschiedlichen Schutzniveaus für Bauwerke erforderlich sein, dass in den Grundlagendokumenten Klassen entsprechend der Leistung des jeweiligen Produkts im Hinblick auf die jeweilige wesentliche Anforderung festgelegt werden. Diese Dokumente wurden in Form einer Mitteilung der Kommission über die Grundlagendokumente der Richtlinie 89/106/EWG des Rates (2) veröffentlicht.\\n(2)\\nFür die wesentliche Anforderung „Brandschutz“ enthält das Grundlagendokument Nr. 2 eine Reihe zusammenhängender Maßnahmen, die gemeinsam die Strategie für den Brandschutz festlegen, die dann in den Mitgliedstaaten in unterschiedlicher Weise entwickelt werden kann.\\n(3)\\nDas Grundlagendokument Nr. 2 nennt als eine dieser Maßnahmen die Begrenzung der Entstehung und Ausbreitung von Feuer und Rauch in einem gegebenen Bereich, indem das Potenzial der Bauprodukte, zu einem Vollbrand beizutragen, begrenzt wird.\\n(4)\\nDas Grenzniveau kann nur in Form unterschiedlicher Stufen des Brandverhaltens der Bauprodukte in ihrer Endanwendung ausgedrückt werden.\\n(5)\\nAls harmonisierte Lösung wurde in der Entscheidung 2000/147/EG der Kommission vom 8. Februar 2000 zur Durchführung der Richtlinie 89/106/EWG des Rates im Hinblick auf die Klassifizierung des Brandverhaltens von Bauprodukten (3) ein System von Klassen festgelegt.\\n(6)\\nFür Holzfußböden sowie Wand- und Deckenbekleidungen aus Massivholz muss die mit der Entscheidung 2000/147/EG festgelegte Klassifizierung verwendet werden.\\n(7)\\nDas Brandverhalten zahlreicher Bauprodukte/-materialien im Rahmen der in der Entscheidung 2000/147/EG festgelegten Klassifizierung ist so eindeutig ermittelt und den für die Brandschutzvorschriften zuständigen Stellen in den Mitgliedstaaten so gut bekannt, dass sich eine Prüfung dieses Leistungsmerkmals erübrigt.\\n(8)\\nDie in dieser Entscheidung vorgesehenen Maßnahmen entsprechen der Stellungnahme des Ständigen Ausschusses für das Bauwesen -\\nHAT FOLGENDE ENTSCHEIDUNG ERLASSEN:\\nArtikel 1\\nDie Bauprodukte und/oder -materialien, die alle Anforderungen des Merkmals „Brandverhalten“ erfüllen, ohne dass eine weitere Prüfung erforderlich ist, sind im Anhang aufgeführt.\\nArtikel 2\\nDie spezifischen Klassen, die im Rahmen der in der Entscheidung 2000/147/EG festgelegten Klassifizierung des Brandverhaltens für unterschiedliche Bauprodukte und/oder -materialien gelten, sind im Anhang aufgeführt.\\nArtikel 3\\nDie Produkte werden - sofern relevant - in Bezug auf ihre Endanwendung betrachtet.\\nArtikel 4\\nDiese Entscheidung ist an die Mitgliedstaaten gerichtet.\\nBrüssel, den 6. März 2006'"
      ]
     },
     "execution_count": 18,
     "metadata": {},
     "output_type": "execute_result"
    }
   ],
   "source": [
    "train_dataset['text'][0]"
   ]
  },
  {
   "cell_type": "code",
   "execution_count": null,
   "metadata": {},
   "outputs": [],
   "source": []
  }
 ],
 "metadata": {
  "kernelspec": {
   "display_name": "Python 3",
   "language": "python",
   "name": "python3"
  },
  "language_info": {
   "codemirror_mode": {
    "name": "ipython",
    "version": 3
   },
   "file_extension": ".py",
   "mimetype": "text/x-python",
   "name": "python",
   "nbconvert_exporter": "python",
   "pygments_lexer": "ipython3",
   "version": "3.8.3"
  }
 },
 "nbformat": 4,
 "nbformat_minor": 4
}
